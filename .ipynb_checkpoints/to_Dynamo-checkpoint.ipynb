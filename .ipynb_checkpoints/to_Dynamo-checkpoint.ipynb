{
 "cells": [
  {
   "cell_type": "code",
   "execution_count": 1,
   "metadata": {},
   "outputs": [],
   "source": [
    "\n",
    "#\n",
    "#  Copyright 2010-2019 Amazon.com, Inc. or its affiliates. All Rights Reserved.\n",
    "#\n",
    "#  This file is licensed under the Apache License, Version 2.0 (the \"License\").\n",
    "#  You may not use this file except in compliance with the License. A copy of\n",
    "#  the License is located at\n",
    "# \n",
    "#  http://aws.amazon.com/apache2.0/\n",
    "# \n",
    "#  This file is distributed on an \"AS IS\" BASIS, WITHOUT WARRANTIES OR\n",
    "#  CONDITIONS OF ANY KIND, either express or implied. See the License for the\n",
    "#  specific language governing permissions and limitations under the License.\n",
    "#\n",
    "from __future__ import print_function # Python 2/3 compatibility\n",
    "import boto3\n",
    "import json\n",
    "import decimal\n",
    "import pandas as pd"
   ]
  },
  {
   "cell_type": "code",
   "execution_count": 2,
   "metadata": {},
   "outputs": [],
   "source": [
    "# from indeed_scraper_to_db import *"
   ]
  },
  {
   "cell_type": "code",
   "execution_count": 3,
   "metadata": {},
   "outputs": [],
   "source": [
    "# import urllib.request\n",
    "# import requests\n",
    "# from selenium import webdriver\n",
    "# from selenium.webdriver.common.by import By\n",
    "# from selenium.webdriver.support.ui import WebDriverWait\n",
    "# from selenium.webdriver.support import expected_conditions as EC\n",
    "# from bs4 import BeautifulSoup\n",
    "# import time\n",
    "# import json\n",
    "# import threading\n",
    "# from random import randint\n",
    "# from time import sleep\n",
    "# import os"
   ]
  },
  {
   "cell_type": "code",
   "execution_count": 4,
   "metadata": {},
   "outputs": [],
   "source": [
    "## Dynamo db\n",
    "# dynamodb = boto3.resource('dynamodb', region_name='us-east-1')\n",
    "\n",
    "# table = dynamodb.Table('Cap-Resumes')"
   ]
  },
  {
   "cell_type": "code",
   "execution_count": 6,
   "metadata": {},
   "outputs": [],
   "source": [
    "## Load json\n",
    "# res = json.load('resume_outputdata-scientist-New-York.json')\n",
    "data = []\n",
    "with open('resume_outputdata-scientist-New-York_replace.json') as f:\n",
    "        for line in f:\n",
    "            data.append(json.loads(line))"
   ]
  },
  {
   "cell_type": "code",
   "execution_count": 2,
   "metadata": {},
   "outputs": [],
   "source": [
    "import ast"
   ]
  },
  {
   "cell_type": "code",
   "execution_count": 8,
   "metadata": {},
   "outputs": [
    {
     "data": {
      "text/plain": [
       "['{\\n\"id\": \"0e7e5a3716f475c5\",\\n\"jobs\": [\\n{\\n\"company\": \"Amazon Prime Now - WSM Manhattan Retail\",\\n\"hire_date\": \"November 2016 \",\\n\"location\": \"New York, NY\",\\n\"title\": \"Data Scientist\"\\n},\\n{\\n\"company\": \"Columbia Tutors\",\\n\"hire_date\": \"November 2014 \",\\n\"location\": \"New York, NY\",\\n\"title\": \"Founder\"\\n},\\n{\\n\"company\": \"Moody\\'s Investors Service\",\\n\"hire_date\": \"July 2014 \",\\n\"location\": \"New York, NY\",\\n\"title\": \"Associate Analyst\"\\n},\\n{\\n\"company\": \"Columbia University Information Technology\",\\n\"hire_date\": \"June 2007 \",\\n\"location\": \"New York, NY\",\\n\"title\": \"Consultant\"\\n},\\n{\\n\"company\": \"Columbia University Business School\",\\n\"hire_date\": \"Oc\",\\n\"location\": \"New York, NY\",\\n\"title\": \"Research Assistant\"\\n},\\n{\\n\"company\": \"J.P. Morgan Investment Management\",\\n\"hire_date\": \"June 2013 \",\\n\"location\": \"New York, NY\",\\n\"title\": \"Summer Analyst - Asset Management\"\\n},\\n{\\n\"company\": \"TrimTabs Asset Management\",\\n\"hire_date\": \"July 2012 \",\\n\"location\": \"New York, NY\",\\n\"title\": \"US Equity Analyst - Strategy and Sales\"\\n},\\n{\\n\"company\": \"Royal Bank of Canada\",\\n\"hire_date\": \"June 2011 \",\\n\"location\": \"New York, NY\",\\n\"title\": \"Summer Analyst Fixed Income - Research\"\\n},\\n{\\n\"company\": \"Citigroup\",\\n\"hire_date\": \"June 2010 \",\\n\"location\": \"New York, NY\",\\n\"title\": \"Summer Analyst\"\\n}\\n],\\n\"schools\": [\\n{\\n\"degree\": \"B.A. in Economics\",\\n\"grad_date\": \"May 2014\",\\n\"school_name\": \"Columbia University New York, NY\"\\n},\\n{\\n\"degree\": \"B.A in Economics Transfer\",\\n\"grad_date\": \"\",\\n\"school_name\": \"Universidad de los Andes Bogot\\\\u00e1, Cundinamarca\"\\n}\\n]\\n},{\\n\"id\": \"3da6009e41721378\",\\n\"jobs\": [\\n{\\n\"company\": \"Culvarcity CA\",\\n\"hire_date\": \"November 2017 \",\\n\"location\": \"\",\\n\"title\": \"Senior Data Scientist\"\\n},\\n{\\n\"company\": \"Chorlett\",\\n\"hire_date\": \"September 2017 \",\\n\"location\": \"NC\",\\n\"title\": \"Lead Data Scientist\"\\n},\\n{\\n\"company\": \"Zynga\\'s Advanced Technologies Group\",\\n\"hire_date\": \"January 2017 \",\\n\"location\": \"\",\\n\"title\": \"\"\\n},\\n{\\n\"company\": \"Nuna Healthcare\",\\n\"hire_date\": \"January 2017 \",\\n\"location\": \"San Francisco, CA\",\\n\"title\": \"Data Scientist\"\\n},\\n{\\n\"company\": \"Capital Investment Advisors - Bostan\",\\n\"hire_date\": \"August 2015 \",\\n\"location\": \"MA\",\\n\"title\": \"Quantitative Analyst\"\\n},\\n{\\n\"company\": \"Grady Health System\",\\n\"hire_date\": \"May 2014 \",\\n\"location\": \"\",\\n\"title\": \"Michael R Hollis Leadership Fellow\"\\n},\\n{\\n\"company\": \"\",\\n\"hire_date\": \"December 2013 \",\\n\"location\": \"\",\\n\"title\": \"Director of Data Science\"\\n},\\n{\\n\"company\": \"Pheonix\",\\n\"hire_date\": \"June 2013 \",\\n\"location\": \"AZ\",\\n\"title\": \"Economic Policy Analyst\"\\n},\\n{\\n\"company\": \"American Action Forum\",\\n\"hire_date\": \"January 2013 \",\\n\"location\": \"New York, NY\",\\n\"title\": \"Intern\"\\n}\\n],\\n\"schools\": [\\n{\\n\"degree\": \"Bachelors in Computer Science\",\\n\"grad_date\": \"January 2010 to January 2014\",\\n\"school_name\": \"Emory University \"\\n},\\n{\\n\"degree\": \"Certificate in Arabic\",\\n\"grad_date\": \"January 2012 to January 2012\",\\n\"school_name\": \"College Republicans \"\\n}\\n]\\n},{\\n\"id\": \"fd41c2dc4f748a67\",\\n\"jobs\": [\\n{\\n\"company\": \"Ericsson India Global Pvt. Ltd\",\\n\"hire_date\": \"September 2015 \",\\n\"location\": \"Mumbai, Maharashtra\",\\n\"title\": \"Junior Data Scientist\"\\n}\\n],\\n\"schools\": [\\n{\\n\"degree\": \"Master of Science in Computer Science and Engineering in Computer Science and Engineering\",\\n\"grad_date\": \"August 2018 to May 2020\",\\n\"school_name\": \"University at Buffalo \"\\n}\\n]\\n},{\\n\"id\": \"a2b7d2d66cef1891\",\\n\"jobs\": [\\n{\\n\"company\": \"Pfizer/Wyeth/Kelly Services\",\\n\"hire_date\": \"August 2008 \",\\n\"location\": \"Pearl River, NY\",\\n\"title\": \"Scientist\"\\n}\\n],\\n\"schools\": [\\n{\\n\"degree\": \"M.S. in Biology. in Biology\",\\n\"grad_date\": \"January 2006 to January 2008\",\\n\"school_name\": \"Austin Peay State University \"\\n},\\n{\\n\"degree\": \"B.S. in Education. in Education\",\\n\"grad_date\": \"January 2002 to January 2006\",\\n\"school_name\": \"Austin Peay State University \"\\n}\\n]\\n},{\\n\"id\": \"0cfd643b48edf3ad\",\\n\"jobs\": [\\n{\\n\"company\": \"M&T Bank\",\\n\"hire_date\": \"March 2017 \",\\n\"location\": \"Buffalo, NY\",\\n\"title\": \"Data Scientist\"\\n},\\n{\\n\"company\": \"Republic Services\",\\n\"hire_date\": \"Oc\",\\n\"location\": \"Scottsdale, AZ\",\\n\"title\": \"Data Scientist\"\\n},\\n{\\n\"company\": \"Equifax\",\\n\"hire_date\": \"February 2014 \",\\n\"location\": \"Alpharetta, GA\",\\n\"title\": \"Data Engineer\"\\n},\\n{\\n\"company\": \"Humana Inc\",\\n\"hire_date\": \"July 2013 \",\\n\"location\": \"Louisville, KY\",\\n\"title\": \"Sr Java / J2ee Developer (Offshore)\"\\n},\\n{\\n\"company\": \"State Farm Insurance\",\\n\"hire_date\": \"November 2012 \",\\n\"location\": \"Chicago, IL\",\\n\"title\": \"Java / J2ee Developer (Offshore)\"\\n},\\n{\\n\"company\": \"Symbiosis Software Solutions\",\\n\"hire_date\": \"January 2011 \",\\n\"location\": \"\",\\n\"title\": \"Java Developer\"\\n},\\n{\\n\"company\": \"Highpoint Solutions Pvt. Ltd\",\\n\"hire_date\": \"June 2009 \",\\n\"location\": \"Noida, Uttar Pradesh\",\\n\"title\": \"C/C++ Developer\"\\n}\\n],\\n\"schools\": [\\n{\\n\"degree\": \"M.Tech in Computer Science and Engineering\",\\n\"grad_date\": \"\",\\n\"school_name\": \"JNT University \"\\n},\\n{\\n\"degree\": \"BCA in Bachelor of Computer Applications\",\\n\"grad_date\": \"\",\\n\"school_name\": \"Osmania University \"\\n},\\n{\\n\"degree\": \"Post Graduate Diploma in Communicative English\",\\n\"grad_date\": \"\",\\n\"school_name\": \"Hyderabad Central University Hyderabad, Telangana\"\\n}\\n]\\n},{\\n\"id\": \"03e112a1847ef518\",\\n\"jobs\": [\\n{\\n\"company\": \"Synchronoss\",\\n\"hire_date\": \"April 2017 \",\\n\"location\": \"Reston, VA\",\\n\"title\": \"Data Scientist\"\\n},\\n{\\n\"company\": \"BBVA Compass\",\\n\"hire_date\": \"January 2015 \",\\n\"location\": \"Birmingham, AL\",\\n\"title\": \"Data Scientist\"\\n},\\n{\\n\"company\": \"KeyBank, Ohio\",\\n\"hire_date\": \"May 2013 \",\\n\"location\": \"\",\\n\"title\": \"Data Scientist\"\\n},\\n{\\n\"company\": \"State farm, Illinois\",\\n\"hire_date\": \"August 2012 \",\\n\"location\": \"\",\\n\"title\": \"Data Scientist\"\\n},\\n{\\n\"company\": \"Farmers Insurance Company\",\\n\"hire_date\": \"January 2011 \",\\n\"location\": \"Simi Valley, CA\",\\n\"title\": \"Data Analyst\"\\n},\\n{\\n\"company\": \"NICO Med Supply\",\\n\"hire_date\": \"March 2009 \",\\n\"location\": \"Houston, TX\",\\n\"title\": \"Data Analyst\"\\n}\\n],\\n\"schools\": [\\n{\\n\"degree\": \"Bachelor of Computer Science in TOOLS AND TECHNOLOGIES\",\\n\"grad_date\": \"July 2013\",\\n\"school_name\": \"Lakeland University \"\\n}\\n]\\n},{\\n\"id\": \"68c42ae4077df6d6\",\\n\"jobs\": [\\n{\\n\"company\": \"CKM Advisors\",\\n\"hire_date\": \"September 2016 \",\\n\"location\": \"New York, NY\",\\n\"title\": \"Data Scientist\"\\n},\\n{\\n\"company\": \"Public Prep Charter Network\",\\n\"hire_date\": \"June 2015 \",\\n\"location\": \"New York, NY\",\\n\"title\": \"Data Intern\"\\n},\\n{\\n\"company\": \"Wesleyan Quantitative Analysis Center\",\\n\"hire_date\": \"June 2014 \",\\n\"location\": \"Middletown, CT\",\\n\"title\": \"Research Apprentice\"\\n},\\n{\\n\"company\": \"Global Strategy Group\",\\n\"hire_date\": \"June 2013 \",\\n\"location\": \"New York, NY\",\\n\"title\": \"Research Intern\"\\n}\\n],\\n\"schools\": [\\n{\\n\"degree\": \"B.A. in Math and Computer Science\",\\n\"grad_date\": \"January 2016\",\\n\"school_name\": \"Wesleyan University Middletown, CT\"\\n}\\n]\\n},{\\n\"id\": \"08089ca0fe1166b9\",\\n\"jobs\": [\\n{\\n\"company\": \"Deutsche Bank\",\\n\"hire_date\": \"July 2017 \",\\n\"location\": \"New York, NY\",\\n\"title\": \"Data Scientist\"\\n},\\n{\\n\"company\": \"Initiative\",\\n\"hire_date\": \"January 2016 \",\\n\"location\": \"New York, NY\",\\n\"title\": \"Data Scientist\"\\n},\\n{\\n\"company\": \"American Millennium Insurance Company\",\\n\"hire_date\": \"Oc\",\\n\"location\": \"Fairfield, NJ\",\\n\"title\": \"BI Developer/Data Analyst\"\\n},\\n{\\n\"company\": \"Fulton Bank\",\\n\"hire_date\": \"June 2012 \",\\n\"location\": \"Mount Laurel, NJ\",\\n\"title\": \"BI Developer/Data Analyst\"\\n}\\n],\\n\"schools\": [\\n{\\n\"degree\": \"Master of Science in Business Intelligence and Analytics\",\\n\"grad_date\": \"\",\\n\"school_name\": \"Stevens Institute of Technology \"\\n}\\n]\\n},{\\n\"id\": \"0208323fb08f051b\",\\n\"jobs\": [\\n{\\n\"company\": \"Fluent\",\\n\"hire_date\": \"August 2017 \",\\n\"location\": \"New York, NY\",\\n\"title\": \"Data Scientist\"\\n},\\n{\\n\"company\": \"Global Key Advisors Asset Management\",\\n\"hire_date\": \"January 2017 \",\\n\"location\": \"San Francisco, CA\",\\n\"title\": \"Quantitative Researcher Intern\"\\n},\\n{\\n\"company\": \"Medical Insurance Exchange of California\",\\n\"hire_date\": \"June 2016 \",\\n\"location\": \"Oakland, CA\",\\n\"title\": \"Data Analyst Intern\"\\n}\\n],\\n\"schools\": [\\n{\\n\"degree\": \"Bachelor of Arts in Statistics and Economics\",\\n\"grad_date\": \"August 2013 to May 2017\",\\n\"school_name\": \"University of California, Berkeley Berkeley, CA\"\\n}\\n]\\n},{\\n\"id\": \"86e120c6a7d897fd\",\\n\"jobs\": [\\n{\\n\"company\": \"Advanced Customer Analytics, Marketing\",\\n\"hire_date\": \"December 2017 \",\\n\"location\": \"New York, NY\",\\n\"title\": \"Data Scientist\"\\n},\\n{\\n\"company\": \"Center for Functional Nanomaterials\",\\n\"hire_date\": \"February 2014 \",\\n\"location\": \"Upton, NY\",\\n\"title\": \"Scientific Associate IV\"\\n},\\n{\\n\"company\": \"Insight Data Science\",\\n\"hire_date\": \"September 2017 \",\\n\"location\": \"New York, NY\",\\n\"title\": \"Data Science Fellow\"\\n}\\n],\\n\"schools\": [\\n{\\n\"degree\": \"Ph.D. in Materials Science and Engineering\",\\n\"grad_date\": \"January 2012 to January 2017\",\\n\"school_name\": \"Stony Brook University Stony Brook, NY\"\\n},\\n{\\n\"degree\": \"B.S. in Macromolecular Science\",\\n\"grad_date\": \"January 2008 to January 2012\",\\n\"school_name\": \"Fudan University Shanghai, CN\"\\n}\\n]\\n},{\\n\"id\": \"c2c3c44d982154ab\",\\n\"jobs\": [\\n{\\n\"company\": \"WorkFusion\",\\n\"hire_date\": \"February 2019 \",\\n\"location\": \"New York, NY\",\\n\"title\": \"Data Scientist\"\\n},\\n{\\n\"company\": \"Capital One\",\\n\"hire_date\": \"September 2018 \",\\n\"location\": \"New York, NY\",\\n\"title\": \"Data Science Fellow\"\\n},\\n{\\n\"company\": \"Glassdoor\",\\n\"hire_date\": \"June 2018 \",\\n\"location\": \"San Francisco, CA\",\\n\"title\": \"Data Science, Machine Learning Intern\"\\n},\\n{\\n\"company\": \"Columbia University\",\\n\"hire_date\": \"January 2017 \",\\n\"location\": \"New York, NY\",\\n\"title\": \"Machine Learning Research Assistant\"\\n},\\n{\\n\"company\": \"Tsinghua University\",\\n\"hire_date\": \"September 2014 \",\\n\"location\": \"Beijing\",\\n\"title\": \"Data Mining Research Assistant\"\\n}\\n],\\n\"schools\": [\\n{\\n\"degree\": \"Master\\'s in Data Science\",\\n\"grad_date\": \"September 2017 to December 2018\",\\n\"school_name\": \"Columbia University New York, NY\"\\n},\\n{\\n\"degree\": \"Master\\'s in Civil Engineering and Engineering Mechanics\",\\n\"grad_date\": \"January 2016 to May 2017\",\\n\"school_name\": \"Columbia University New York, NY\"\\n},\\n{\\n\"degree\": \"Bachelor\\'s in Civil Engineering\",\\n\"grad_date\": \"August 2011 to June 2015\",\\n\"school_name\": \"Tsinghua University Beijing\"\\n}\\n]\\n},{\\n\"id\": \"af8f3c347c8dd86d\",\\n\"jobs\": [\\n{\\n\"company\": \"Compass Group\",\\n\"hire_date\": \"Oc\",\\n\"location\": \"Hoboken, NJ\",\\n\"title\": \"Data Scientist\"\\n},\\n{\\n\"company\": \"ICICI Bank Ltd\",\\n\"hire_date\": \"June 2015 \",\\n\"location\": \"Mumbai, Maharashtra\",\\n\"title\": \"Wealth Manager\"\\n},\\n{\\n\"company\": \"Reliance securities Pvt. Ltd\",\\n\"hire_date\": \"June 2015 \",\\n\"location\": \"\",\\n\"title\": \"Management Intern\"\\n},\\n{\\n\"company\": \"Zomato Media Pvt. Ltd\",\\n\"hire_date\": \"June 2014 \",\\n\"location\": \"Mumbai, Maharashtra\",\\n\"title\": \"Manager\"\\n},\\n{\\n\"company\": \"XL Dynamics Pvt. Ltd\",\\n\"hire_date\": \"March 2014 \",\\n\"location\": \"Mumbai, Maharashtra\",\\n\"title\": \"Financial Data Analyst\"\\n}\\n],\\n\"schools\": [\\n{\\n\"degree\": \"Master of Science in Financial Engineering in UBS Asset Management\",\\n\"grad_date\": \"January 2018\",\\n\"school_name\": \"Stevens Institute of Technology Hoboken, NJ\"\\n},\\n{\\n\"degree\": \"Master\\'s in Finance\",\\n\"grad_date\": \"June 2012 to March 2014\",\\n\"school_name\": \"ICFAI Business School Mumbai, Maharashtra\"\\n},\\n{\\n\"degree\": \"Bachelor\\'s in Electronic Engineering\",\\n\"grad_date\": \"June 2007 to May 2011\",\\n\"school_name\": \"College of Engineering Hadapsar Pune, Maharashtra\"\\n}\\n]\\n},{\\n\"id\": \"f4966b66a94f11cc\",\\n\"jobs\": [\\n{\\n\"company\": \"McKesson Corp\",\\n\"hire_date\": \"April 2017 \",\\n\"location\": \"New York, NY\",\\n\"title\": \"Data Scientist\"\\n},\\n{\\n\"company\": \"Comcast\",\\n\"hire_date\": \"April 2015 \",\\n\"location\": \"Philadelphia, PA\",\\n\"title\": \"Data Scientist\"\\n},\\n{\\n\"company\": \"LAZ Parking\",\\n\"hire_date\": \"January 2014 \",\\n\"location\": \"Hartford, CT\",\\n\"title\": \"Data Analyst\"\\n},\\n{\\n\"company\": \"Info Edge solutions\",\\n\"hire_date\": \"July 2011 \",\\n\"location\": \"Hyderabad, Telangana\",\\n\"title\": \"Data Analyst\"\\n},\\n{\\n\"company\": \"Goldstone Info Systems\",\\n\"hire_date\": \"January 2009 \",\\n\"location\": \"Hyderabad, Telangana\",\\n\"title\": \"SQL Developer\"\\n}\\n],\\n\"schools\": [\\n{\\n\"degree\": \"Bachelor\\'s\",\\n\"grad_date\": \"\",\\n\"school_name\": \" \"\\n}\\n]\\n},{\\n\"id\": \"92c22007556a5501\",\\n\"jobs\": [\\n{\\n\"company\": \"Client - McKesson Corp\",\\n\"hire_date\": \"November 2017 \",\\n\"location\": \"New York, NY\",\\n\"title\": \"Data Scientist\"\\n},\\n{\\n\"company\": \"Client - Ford Motor\",\\n\"hire_date\": \"May 2016 \",\\n\"location\": \"Dearborn, MI\",\\n\"title\": \"Data Scientist\"\\n},\\n{\\n\"company\": \"Client - LAZ Parking\",\\n\"hire_date\": \"January 2014 \",\\n\"location\": \"Hartford, CT\",\\n\"title\": \"Role - Data Scientist\"\\n},\\n{\\n\"company\": \"Client - PayPal\",\\n\"hire_date\": \"Oc\",\\n\"location\": \"Shanghai, CN\",\\n\"title\": \"Role - Data Scientist\"\\n},\\n{\\n\"company\": \"Client - Pennar Industries Limited - IND\",\\n\"hire_date\": \"July 2010 \",\\n\"location\": \"\",\\n\"title\": \"Role - Data Analyst\"\\n}\\n],\\n\"schools\": [\\n{\\n\"degree\": \"Bachelor\\'s\",\\n\"grad_date\": \"\",\\n\"school_name\": \" \"\\n}\\n]\\n},{\\n\"id\": \"1f1c44f0a56630ee\",\\n\"jobs\": [\\n{\\n\"company\": \"IQM\",\\n\"hire_date\": \"January 2018 \",\\n\"location\": \"New York, NY\",\\n\"title\": \"Data Scientist\"\\n},\\n{\\n\"company\": \"Massachusetts Institute of Technology\",\\n\"hire_date\": \"July 2006 \",\\n\"location\": \"\",\\n\"title\": \"Producer, Photographer, Writer, Editor\"\\n},\\n{\\n\"company\": \"\",\\n\"hire_date\": \"November 2017 \",\\n\"location\": \"New York, NY\",\\n\"title\": \"Data Scientist\"\\n},\\n{\\n\"company\": \"Morehouse Fencing\",\\n\"hire_date\": \"November 2015 \",\\n\"location\": \"New York, NY\",\\n\"title\": \"Director of Technology\"\\n}\\n],\\n\"schools\": [\\n{\\n\"degree\": \"Data Science Immersive Program in Data Science\",\\n\"grad_date\": \"June 2017 to October 2017\",\\n\"school_name\": \"Galvanize New York, NY\"\\n},\\n{\\n\"degree\": \" in English, History and Journalism\",\\n\"grad_date\": \"September 2002 to May 2006\",\\n\"school_name\": \"University of Massachusetts at Amherst Amherst, MA\"\\n}\\n]\\n},{\\n\"id\": \"08426b2cc7db55d4\",\\n\"jobs\": [\\n{\\n\"company\": \"NEC Corporation of America\",\\n\"hire_date\": \"January 2016 \",\\n\"location\": \"Dallas, TX\",\\n\"title\": \"Data Scientist\"\\n},\\n{\\n\"company\": \"Herbalife Nutrition International\",\\n\"hire_date\": \"May 2015 \",\\n\"location\": \"Los Angeles, CA\",\\n\"title\": \"Data Scientist\"\\n},\\n{\\n\"company\": \"Moody\\'s Corporation\",\\n\"hire_date\": \"June 2014 \",\\n\"location\": \"New York, NY\",\\n\"title\": \"Senior Data Quality Associate\"\\n},\\n{\\n\"company\": \"Citigroup\",\\n\"hire_date\": \"July 2008 \",\\n\"location\": \"New York, NY\",\\n\"title\": \"Data Scientist\"\\n},\\n{\\n\"company\": \"SNA Investments - Jersy city\",\\n\"hire_date\": \"March 2007 \",\\n\"location\": \"\",\\n\"title\": \"Equity Research Analyst\"\\n}\\n],\\n\"schools\": [\\n{\\n\"degree\": \"Master\\'s in Statistics in Statistics\",\\n\"grad_date\": \"September 2005 to December 2006\",\\n\"school_name\": \"Columbia University in the City of New York New York, NY\"\\n},\\n{\\n\"degree\": \"Bachelor\\'s in Mathematics & Economics in Mathematics & Economics\",\\n\"grad_date\": \"September 2003 to July 2005\",\\n\"school_name\": \"UCLA Los Angeles Los Angeles, CA\"\\n}\\n]\\n},{\\n\"id\": \"223689a35f6cc9f1\",\\n\"jobs\": [\\n{\\n\"company\": \"Apteo\",\\n\"hire_date\": \"Oc\",\\n\"location\": \"New York, NY\",\\n\"title\": \"Data Scientist\"\\n},\\n{\\n\"company\": \"Wei & Co., LLP\",\\n\"hire_date\": \"June 2018 \",\\n\"location\": \"New York, NY\",\\n\"title\": \"Tax Accountant\"\\n},\\n{\\n\"company\": \"Columbia University\",\\n\"hire_date\": \"March 2018 \",\\n\"location\": \"\",\\n\"title\": \"Movie Popularity Prediction Project\"\\n},\\n{\\n\"company\": \"Columbia University\",\\n\"hire_date\": \"March 2018 \",\\n\"location\": \"\",\\n\"title\": \"Shiny App Development Project\"\\n},\\n{\\n\"company\": \"Columbia University\",\\n\"hire_date\": \"March 2018 \",\\n\"location\": \"\",\\n\"title\": \"Portfolio Construction Project\"\\n},\\n{\\n\"company\": \"Columbia University\",\\n\"hire_date\": \"April 2018 \",\\n\"location\": \"\",\\n\"title\": \"Fraud Detection Project\"\\n},\\n{\\n\"company\": \"Hitotsubashi University\",\\n\"hire_date\": \"April 2016 \",\\n\"location\": \"\",\\n\"title\": \"Reinsurance and Performance of Japanese Non-Life Insurance Companies (Thesis for MBA)\"\\n}\\n],\\n\"schools\": [\\n{\\n\"degree\": \"Master of Arts in Statistics in Statistical Method\",\\n\"grad_date\": \"February 2019\",\\n\"school_name\": \"COLUMBIA University New York, NY\"\\n},\\n{\\n\"degree\": \"Master of Business Administration in International Finance, Global Management, Corporate Finance\",\\n\"grad_date\": \"March 2018\",\\n\"school_name\": \"HITOTSUBASHI University Tokyo, JP\"\\n},\\n{\\n\"degree\": \"Bachelor in Commerce and Management in Computer Programming\",\\n\"grad_date\": \"March 2017\",\\n\"school_name\": \"HITOTSUBASHI University Tokyo, JP\"\\n}\\n]\\n},{\\n\"id\": \"3d9e08cbc6813044\",\\n\"jobs\": [\\n{\\n\"company\": \"Sparks and Honey - Omnicom Group\",\\n\"hire_date\": \"June 2017 \",\\n\"location\": \"New York, NY\",\\n\"title\": \"Data Scientist\"\\n},\\n{\\n\"company\": \"MoEngage India Pvt. Ltd\",\\n\"hire_date\": \"September 2015 \",\\n\"location\": \"Bengaluru, Karnataka\",\\n\"title\": \"Data Analyst\"\\n},\\n{\\n\"company\": \"Deloitte India Pvt. Ltd\",\\n\"hire_date\": \"June 2014 \",\\n\"location\": \"Hyderabad, Telangana\",\\n\"title\": \"Research Analyst\"\\n},\\n{\\n\"company\": \"Volvo India Pvt. Ltd\",\\n\"hire_date\": \"June 2013 \",\\n\"location\": \"Bengaluru, Karnataka\",\\n\"title\": \"Management Consultant\"\\n}\\n],\\n\"schools\": [\\n{\\n\"degree\": \"MS in Quantitative Methods and Modeling\",\\n\"grad_date\": \"August 2016 to December 2017\",\\n\"school_name\": \"Baruch College, Zicklin School of Business New York, NY\"\\n},\\n{\\n\"degree\": \"MBA in Marketing Analytics\",\\n\"grad_date\": \"August 2012 to April 2014\",\\n\"school_name\": \"SCMS Cochin School of Business Kochi, Kerala\"\\n},\\n{\\n\"degree\": \"BS in Economics\",\\n\"grad_date\": \"March 2009 to May 2012\",\\n\"school_name\": \"West Bengal State University \"\\n}\\n]\\n},{\\n\"id\": \"1391c24c494648b4\",\\n\"jobs\": [\\n{\\n\"company\": \"Retail MeNot\",\\n\"hire_date\": \"January 2016 \",\\n\"location\": \"Dallas, TX\",\\n\"title\": \"Data Scientist\"\\n},\\n{\\n\"company\": \"Walmart - Loss\",\\n\"hire_date\": \"June 2014 \",\\n\"location\": \"angels, CA, US\",\\n\"title\": \"Data Scientist\"\\n},\\n{\\n\"company\": \"Wells Fargo\",\\n\"hire_date\": \"June 2012 \",\\n\"location\": \"Washington, DC\",\\n\"title\": \"Data Science Consultant\"\\n},\\n{\\n\"company\": \"Earth7 Consulting\",\\n\"hire_date\": \"February 2010 \",\\n\"location\": \"\",\\n\"title\": \"Data Analyst- Remote\"\\n}\\n],\\n\"schools\": []\\n},{\\n\"id\": \"7b010c375a7e47fc\",\\n\"jobs\": [\\n{\\n\"company\": \"Redwood\",\\n\"hire_date\": \"September 2016 \",\\n\"location\": \"CA\",\\n\"title\": \"Data Scientist\"\\n},\\n{\\n\"company\": \"Wellsfargo\",\\n\"hire_date\": \"April 2015 \",\\n\"location\": \"Washington, DC\",\\n\"title\": \"Data Scientist\"\\n},\\n{\\n\"company\": \"Walmart - Jersy\",\\n\"hire_date\": \"June 2013 \",\\n\"location\": \"\",\\n\"title\": \"Data Science Consultant\"\\n},\\n{\\n\"company\": \"Earth7 Consulting\",\\n\"hire_date\": \"February 2010 \",\\n\"location\": \"\",\\n\"title\": \"Data Analyst- Remote\"\\n}\\n],\\n\"schools\": []\\n},{\\n\"id\": \"abc4dcc7a1f2faf0\",\\n\"jobs\": [\\n{\\n\"company\": \"RBC Royal Bank of Canada\",\\n\"hire_date\": \"April 2018 \",\\n\"location\": \"New York, NY\",\\n\"title\": \"Data Scientist\"\\n},\\n{\\n\"company\": \"Insigma\",\\n\"hire_date\": \"June 2017 \",\\n\"location\": \"New York, NY\",\\n\"title\": \"Data Scientist\"\\n}\\n],\\n\"schools\": [\\n{\\n\"degree\": \"Master\\'s in Statistics\",\\n\"grad_date\": \"September 2016 to December 2017\",\\n\"school_name\": \"Columbia University New York, NY\"\\n},\\n{\\n\"degree\": \"Bachelor\\'s in Economics\",\\n\"grad_date\": \"September 2012 to June 2016\",\\n\"school_name\": \"Fudan University Shanghai, CN\"\\n}\\n]\\n},{\\n\"id\": \"07c09219a391e5dd\",\\n\"jobs\": [\\n{\\n\"company\": \"Freelancer/AI-ML(An Upwork Agency)\",\\n\"hire_date\": \"January 2019 \",\\n\"location\": \"New York, NY\",\\n\"title\": \"Data Scientist\"\\n},\\n{\\n\"company\": \"Turkish Armed Forces\",\\n\"hire_date\": \"September 2016 \",\\n\"location\": \"\",\\n\"title\": \"Data Analyst/Accuracy Specialist(Multiple Launching Rocket Systems )\"\\n},\\n{\\n\"company\": \"Turkish Military Academy\",\\n\"hire_date\": \"June 2014 \",\\n\"location\": \"Ankara, TR\",\\n\"title\": \"Operations Research Analyst / Counselor\"\\n},\\n{\\n\"company\": \"Artillery Batteries, Turkish Army Forces\",\\n\"hire_date\": \"July 2010 \",\\n\"location\": \"\",\\n\"title\": \"Assistant Analyst\"\\n}\\n],\\n\"schools\": [\\n{\\n\"degree\": \"\",\\n\"grad_date\": \"December 2016 to October 2017\",\\n\"school_name\": \"Stanford University (Online) \"\\n},\\n{\\n\"degree\": \"Bachelor\\'s in Systems Engineering\",\\n\"grad_date\": \"September 2005 to August 2009\",\\n\"school_name\": \"Turkish Military Academy Ankara\"\\n}\\n]\\n},{\\n\"id\": \"b4c5acf762bccc05\",\\n\"jobs\": [\\n{\\n\"company\": \"ARINC - Ceder\",\\n\"hire_date\": \"April 2017 \",\\n\"location\": \"Rapids, IA, US\",\\n\"title\": \"Data Scientist\"\\n},\\n{\\n\"company\": \"L.L. Bean\",\\n\"hire_date\": \"June 2016 \",\\n\"location\": \"Freeport, ME\",\\n\"title\": \"Data Scientist\"\\n},\\n{\\n\"company\": \"Blue Cross Blue Shield of MN\",\\n\"hire_date\": \"June 2015 \",\\n\"location\": \"\",\\n\"title\": \"Data Scientist\"\\n},\\n{\\n\"company\": \"AMWAY\",\\n\"hire_date\": \"April 2013 \",\\n\"location\": \"\",\\n\"title\": \"Data Analyst\"\\n},\\n{\\n\"company\": \"Infosys Ltd\",\\n\"hire_date\": \"May 2011 \",\\n\"location\": \"\",\\n\"title\": \"Data Analyst\"\\n}\\n],\\n\"schools\": [\\n{\\n\"degree\": \"Bachelor\\'s\",\\n\"grad_date\": \"\",\\n\"school_name\": \" \"\\n}\\n]\\n},{\\n\"id\": \"93b2a342dbf497c0\",\\n\"jobs\": [\\n{\\n\"company\": \"Object Edge Inc\",\\n\"hire_date\": \"July 2015 \",\\n\"location\": \"Walnut Creek, CA\",\\n\"title\": \"Data Scientist\"\\n},\\n{\\n\"company\": \"Levadata Inc\",\\n\"hire_date\": \"November 2013 \",\\n\"location\": \"angels, CA, US\",\\n\"title\": \"Data Science Intern\"\\n}\\n],\\n\"schools\": [\\n{\\n\"degree\": \"Master of Science in Industrial Engineering and Operations Research\",\\n\"grad_date\": \"\",\\n\"school_name\": \"University of California Berkeley Berkeley, CA\"\\n}\\n]\\n},{\\n\"id\": \"4ac09bcfaefa55fe\",\\n\"jobs\": [\\n{\\n\"company\": \"College of Engineering, University of Cincinnati.\",\\n\"hire_date\": \"September 2016 \",\\n\"location\": \"Cincinnati, OH\",\\n\"title\": \"Research Assistant | Data Analyst / Scientist\"\\n},\\n{\\n\"company\": \"Perkins Eastman\",\\n\"hire_date\": \"May 2017 \",\\n\"location\": \"New York, NY\",\\n\"title\": \"Architecture Intern\"\\n},\\n{\\n\"company\": \"University Of Cincinnati\",\\n\"hire_date\": \"January 2017 \",\\n\"location\": \"Cincinnati, OH\",\\n\"title\": \"Teaching Assistant (TA)\"\\n},\\n{\\n\"company\": \"Pennsylvania State University, State College\",\\n\"hire_date\": \"January 2015 \",\\n\"location\": \"State College, PA\",\\n\"title\": \"Research Assistant\"\\n},\\n{\\n\"company\": \"Penn State University\",\\n\"hire_date\": \"September 2014 \",\\n\"location\": \"State College, PA\",\\n\"title\": \"Teaching Assistant (TA)\"\\n},\\n{\\n\"company\": \"Shahid Beheshti University\",\\n\"hire_date\": \"January 2010 \",\\n\"location\": \"Tehran\",\\n\"title\": \"Construction and Design Assistant\"\\n},\\n{\\n\"company\": \"Naghsh-Piravash Urban Design Consultancy\",\\n\"hire_date\": \"September 2010 \",\\n\"location\": \"Tehran\",\\n\"title\": \"Architectural Intern\"\\n},\\n{\\n\"company\": \"Shahid Beheshti University\",\\n\"hire_date\": \"Oc\",\\n\"location\": \"Tehran\",\\n\"title\": \"Graphic Designer\"\\n}\\n],\\n\"schools\": [\\n{\\n\"degree\": \"Master\\'s in Business Analytics\",\\n\"grad_date\": \"September 2017 to May 2019\",\\n\"school_name\": \"University of Cincinnati, Carl H. Lindner College of Business Cincinnati, OH\"\\n},\\n{\\n\"degree\": \"Graduate certificate in Data Science\",\\n\"grad_date\": \"January 2018 to December 2018\",\\n\"school_name\": \"University of Cincinnati, Carl H. Lindner College of Business Cincinnati, OH\"\\n},\\n{\\n\"degree\": \"Master\\'s in Architecture\",\\n\"grad_date\": \"September 2014 to May 2016\",\\n\"school_name\": \"Pennsylvania State University-Main Campus State College, PA\"\\n},\\n{\\n\"degree\": \"Bachelor\\'s in Architectural Engineering\",\\n\"grad_date\": \"September 2009 to February 2014\",\\n\"school_name\": \"Shahid Beheshti University Tehran\"\\n}\\n]\\n},{\\n\"id\": \"0b3adf26d436c3f0\",\\n\"jobs\": [\\n{\\n\"company\": \"Pfizer\",\\n\"hire_date\": \"January 2018 \",\\n\"location\": \"New York, NY\",\\n\"title\": \"Data Scientist\"\\n},\\n{\\n\"company\": \"TIAA-CREFF\",\\n\"hire_date\": \"July 2014 \",\\n\"location\": \"New York, NY\",\\n\"title\": \"Data Scientist\"\\n},\\n{\\n\"company\": \"American Express\",\\n\"hire_date\": \"January 2012 \",\\n\"location\": \"New York, NY\",\\n\"title\": \"Junior Data Scientist\"\\n}\\n],\\n\"schools\": [\\n{\\n\"degree\": \"Bachelor\\'s in applied Mathematics in applied Mathematics\",\\n\"grad_date\": \"\",\\n\"school_name\": \"City College, City University of New York New York, NY\"\\n}\\n]\\n},{\\n\"id\": \"f59549c40a93887a\",\\n\"jobs\": [\\n{\\n\"company\": \"The Data Incubator\",\\n\"hire_date\": \"January 2019 \",\\n\"location\": \"New York, NY\",\\n\"title\": \"Data Scientist - Fellowship Program\"\\n},\\n{\\n\"company\": \"Rayliant Global Advisors\",\\n\"hire_date\": \"September 2018 \",\\n\"location\": \"Los Angeles, CA\",\\n\"title\": \"Quantitative Research Intern\"\\n},\\n{\\n\"company\": \"Catasana, LLC\",\\n\"hire_date\": \"August 2018 \",\\n\"location\": \"Los Angeles, CA\",\\n\"title\": \"Investment Research Intern\"\\n},\\n{\\n\"company\": \"AQA Capital\",\\n\"hire_date\": \"June 2018 \",\\n\"location\": \"Los Angeles, CA\",\\n\"title\": \"Quantitative Research Intern\"\\n},\\n{\\n\"company\": \"PricewaterhouseCoopers\",\\n\"hire_date\": \"February 2016 \",\\n\"location\": \"Taipei, TW\",\\n\"title\": \"Financial Advisory Consultant Intern\"\\n}\\n],\\n\"schools\": [\\n{\\n\"degree\": \"Master\\'s in Financial Engineering\",\\n\"grad_date\": \"September 2017 to December 2018\",\\n\"school_name\": \"UCLA Anderson School of Management Los Angeles, CA\"\\n},\\n{\\n\"degree\": \"Executive Education in Algorithmic Trading\",\\n\"grad_date\": \"July 2018 to September 2018\",\\n\"school_name\": \"University of Oxford, Sa\\\\u00efd Business School Los Angeles, CA\"\\n},\\n{\\n\"degree\": \"Master\\'s in Economics\",\\n\"grad_date\": \"August 2016 to August 2017\",\\n\"school_name\": \"University of Southern California Los Angeles, CA\"\\n},\\n{\\n\"degree\": \"Bachelor\\'s in Business Administration\",\\n\"grad_date\": \"September 2010 to June 2014\",\\n\"school_name\": \"National Cheng-Chi University \"\\n}\\n]\\n},{\\n\"id\": \"f97c09a799552d40\",\\n\"jobs\": [\\n{\\n\"company\": \"American Express\",\\n\"hire_date\": \"July 2017 \",\\n\"location\": \"New York, NY\",\\n\"title\": \"Data Scientist\"\\n},\\n{\\n\"company\": \"Sprint, Kansas City\",\\n\"hire_date\": \"September 2015 \",\\n\"location\": \"\",\\n\"title\": \"Data Scientist\"\\n},\\n{\\n\"company\": \"Mu Sigma\",\\n\"hire_date\": \"March 2014 \",\\n\"location\": \"Bengaluru, Karnataka\",\\n\"title\": \"Decision Scientist\"\\n},\\n{\\n\"company\": \"Deluxe\",\\n\"hire_date\": \"June 2013 \",\\n\"location\": \"Bengaluru, Karnataka\",\\n\"title\": \"SQL Developer\"\\n}\\n],\\n\"schools\": [\\n{\\n\"degree\": \"Master of Science in Systems Science in Statistics\",\\n\"grad_date\": \"\",\\n\"school_name\": \"Binghamton University, State University of New York \"\\n},\\n{\\n\"degree\": \"Bachelor of Science in Industrial Engineering and Management in Industrial Engineering and Management\",\\n\"grad_date\": \"\",\\n\"school_name\": \"Bangalore Institute of Technology Bengaluru, Karnataka\"\\n}\\n]\\n},{\\n\"id\": \"2a6d4cfefb77a9f9\",\\n\"jobs\": [\\n{\\n\"company\": \"Callen-Lorde Community Health Center\",\\n\"hire_date\": \"September 2015 \",\\n\"location\": \"New York, NY\",\\n\"title\": \"Data Scientist\"\\n},\\n{\\n\"company\": \"EducationDynamics\",\\n\"hire_date\": \"May 2015 \",\\n\"location\": \"Hoboken, NJ\",\\n\"title\": \"Data Scientist\"\\n},\\n{\\n\"company\": \"Department of Sanitation\",\\n\"hire_date\": \"December 2014 \",\\n\"location\": \"New York, NY\",\\n\"title\": \"SQL Developer\"\\n}\\n],\\n\"schools\": [\\n{\\n\"degree\": \"Master of Science in Statistics in Statistics\",\\n\"grad_date\": \"August 2017 to Present\",\\n\"school_name\": \"FORDHAM UNIVERSITY New York, NY\"\\n},\\n{\\n\"degree\": \"Master of Science in Chemical Engineering in Chemical Engineering\",\\n\"grad_date\": \"August 2012 to December 2013\",\\n\"school_name\": \"COLUMBIA UNIVERSITY New York, NY\"\\n},\\n{\\n\"degree\": \"Bachelor of Science in Chemical Engineering in Chemical Engineering\",\\n\"grad_date\": \"September 2008 to July 2012\",\\n\"school_name\": \"Northwestern Polytechnical University Xi\\'an, CN\"\\n}\\n]\\n},{\\n\"id\": \"a1ee97ec39e5e89f\",\\n\"jobs\": [\\n{\\n\"company\": \"Columbia University\",\\n\"hire_date\": \"December 2018 \",\\n\"location\": \"\",\\n\"title\": \"Data Scientist\"\\n},\\n{\\n\"company\": \"Rhombus Systems\",\\n\"hire_date\": \"June 2018 \",\\n\"location\": \"\",\\n\"title\": \"Software Engineering/Data Science Intern\"\\n},\\n{\\n\"company\": \"University of California, Davis\",\\n\"hire_date\": \"August 2017 \",\\n\"location\": \"Davis, CA\",\\n\"title\": \"Undergraduate Researcher\"\\n},\\n{\\n\"company\": \"LustreLife\",\\n\"hire_date\": \"June 2016 \",\\n\"location\": \"\",\\n\"title\": \"Back End Developer Intern\"\\n}\\n],\\n\"schools\": [\\n{\\n\"degree\": \"Master of Science in Data Science\",\\n\"grad_date\": \"September 2018 to December 2019\",\\n\"school_name\": \"Columbia University New York, NY\"\\n},\\n{\\n\"degree\": \"Bachelor of Science in Computer Science\",\\n\"grad_date\": \"October 2014 to June 2018\",\\n\"school_name\": \"University of California Davis, CA\"\\n}\\n]\\n},{\\n\"id\": \"c498dc335f2286ac\",\\n\"jobs\": [\\n{\\n\"company\": \"Morgan Stanley, TimesSquare, NY\",\\n\"hire_date\": \"February 2017 \",\\n\"location\": \"\",\\n\"title\": \"Data Scientist\"\\n},\\n{\\n\"company\": \"State Street Bank\",\\n\"hire_date\": \"December 2015 \",\\n\"location\": \"Boston, MA\",\\n\"title\": \"Data Scientist\"\\n},\\n{\\n\"company\": \"eBayInc\",\\n\"hire_date\": \"April 2014 \",\\n\"location\": \"San Jose, CA\",\\n\"title\": \"Data Scientist\"\\n},\\n{\\n\"company\": \"Eagle Trading Systems\",\\n\"hire_date\": \"May 2012 \",\\n\"location\": \"Princeton, NJ\",\\n\"title\": \"Data Scientist\"\\n},\\n{\\n\"company\": \"First Indian Corporation Private Limited\",\\n\"hire_date\": \"February 2011 \",\\n\"location\": \"Hyderabad, Telangana\",\\n\"title\": \"Data Architect/Data Modeler\"\\n},\\n{\\n\"company\": \"DELTA Technologies & Managements Services\",\\n\"hire_date\": \"September 2009 \",\\n\"location\": \"Hyderabad, Telangana\",\\n\"title\": \"Data Analyst/Data Modeler\"\\n}\\n],\\n\"schools\": [\\n{\\n\"degree\": \"Bachelor\\'s\",\\n\"grad_date\": \"\",\\n\"school_name\": \" \"\\n}\\n]\\n},{\\n\"id\": \"7c09d81dd761d437\",\\n\"jobs\": [\\n{\\n\"company\": \"ARINC\",\\n\"hire_date\": \"April 2017 \",\\n\"location\": \"Rapids, IA, US\",\\n\"title\": \"Data Scientist\"\\n},\\n{\\n\"company\": \"Blue Cross Blue Shield\",\\n\"hire_date\": \"June 2016 \",\\n\"location\": \"Eagan, MN\",\\n\"title\": \"Data Scientist\"\\n},\\n{\\n\"company\": \"L.L. Bean\",\\n\"hire_date\": \"June 2014 \",\\n\"location\": \"Freeport, ME\",\\n\"title\": \"Data Scientist\"\\n},\\n{\\n\"company\": \"AMWAY\",\\n\"hire_date\": \"April 2012 \",\\n\"location\": \"\",\\n\"title\": \"Data Analyst\"\\n},\\n{\\n\"company\": \"Infosys Ltd\",\\n\"hire_date\": \"May 2010 \",\\n\"location\": \"\",\\n\"title\": \"Data Analyst\"\\n}\\n],\\n\"schools\": [\\n{\\n\"degree\": \"Bachelor\\'s\",\\n\"grad_date\": \"\",\\n\"school_name\": \" \"\\n},\\n{\\n\"degree\": \"Bachelor\\'s\",\\n\"grad_date\": \"\",\\n\"school_name\": \" \"\\n}\\n]\\n},{\\n\"id\": \"7005ce2b3ed6dae2\",\\n\"jobs\": [\\n{\\n\"company\": \"ARINC\",\\n\"hire_date\": \"April 2017 \",\\n\"location\": \"Rapids, IA, US\",\\n\"title\": \"Data Scientist\"\\n},\\n{\\n\"company\": \"L.L. Bean\",\\n\"hire_date\": \"June 2016 \",\\n\"location\": \"Freeport, ME\",\\n\"title\": \"Data Scientist\"\\n},\\n{\\n\"company\": \"Blue Cross Blue Shield of MN\",\\n\"hire_date\": \"June 2014 \",\\n\"location\": \"\",\\n\"title\": \"Data Scientist\"\\n},\\n{\\n\"company\": \"AMWAY\",\\n\"hire_date\": \"April 2012 \",\\n\"location\": \"\",\\n\"title\": \"Data Analyst\"\\n},\\n{\\n\"company\": \"Infosys Ltd\",\\n\"hire_date\": \"May 2010 \",\\n\"location\": \"\",\\n\"title\": \"Data Analyst\"\\n}\\n],\\n\"schools\": [\\n{\\n\"degree\": \"Bachelor\\'s\",\\n\"grad_date\": \"\",\\n\"school_name\": \" \"\\n}\\n]\\n},{\\n\"id\": \"9f4a2a9a44aea571\",\\n\"jobs\": [\\n{\\n\"company\": \"METHOD DATA SCIENCE\",\\n\"hire_date\": \"June 2018 \",\\n\"location\": \"Irvine, CA\",\\n\"title\": \"Community Data Scientist\"\\n},\\n{\\n\"company\": \"GLEASON CORPORATION\",\\n\"hire_date\": \"January 2018 \",\\n\"location\": \"Rochester, NY\",\\n\"title\": \"Data Scientist\"\\n},\\n{\\n\"company\": \"ADVENTIVE INC\",\\n\"hire_date\": \"May 2017 \",\\n\"location\": \"Rochester, NY\",\\n\"title\": \"Software Engineer Intern\"\\n},\\n{\\n\"company\": \"SOFTVAN SOFTWARE INC\",\\n\"hire_date\": \"June 2015 \",\\n\"location\": \"Ahmedabad, Gujarat\",\\n\"title\": \"Software Engineer, Big Data\"\\n}\\n],\\n\"schools\": [\\n{\\n\"degree\": \"MS in Information Science and Technology\",\\n\"grad_date\": \"August 2016 to December 2018\",\\n\"school_name\": \"ROCHESTER INSTITUTE OF TECHNOLOGY Rochester, NY\"\\n},\\n{\\n\"degree\": \"BE in Computer Science and Engineering\",\\n\"grad_date\": \"June 2012 to May 2016\",\\n\"school_name\": \"GUJARAT TECHNOLOGICAL UNIVERSITY Ahmedabad, Gujarat\"\\n}\\n]\\n},{\\n\"id\": \"01c15c85fa7d4e90\",\\n\"jobs\": [\\n{\\n\"company\": \"White Ops\",\\n\"hire_date\": \"June 2018 \",\\n\"location\": \"\",\\n\"title\": \"Data Scientist\"\\n},\\n{\\n\"company\": \"NYU\",\\n\"hire_date\": \"November 2017 \",\\n\"location\": \"\",\\n\"title\": \"Visiting Scholar\"\\n},\\n{\\n\"company\": \"Data Science in Finance\",\\n\"hire_date\": \"September 2016 \",\\n\"location\": \"\",\\n\"title\": \"Luminus Management, Quantitative Analyst\"\\n},\\n{\\n\"company\": \"University of Michigan\",\\n\"hire_date\": \"September 2015 \",\\n\"location\": \"Ann Arbor, MI\",\\n\"title\": \"Ann Arbor, Postdoctoral Fellow\"\\n},\\n{\\n\"company\": \"Columbia University\",\\n\"hire_date\": \"September 2014 \",\\n\"location\": \"\",\\n\"title\": \"Postdoctoral Fellow\"\\n}\\n],\\n\"schools\": [\\n{\\n\"degree\": \"Ph.D. in applied mathematics\",\\n\"grad_date\": \"January 2014\",\\n\"school_name\": \"MIT \"\\n},\\n{\\n\"degree\": \"B.A. in pure mathematics\",\\n\"grad_date\": \"January 2009\",\\n\"school_name\": \"Harvard \"\\n}\\n]\\n},{\\n\"id\": \"1fd6c6d82508c7cc\",\\n\"jobs\": [\\n{\\n\"company\": \"Pfizer\",\\n\"hire_date\": \"January 2018 \",\\n\"location\": \"New York, NY\",\\n\"title\": \"Data Scientist\"\\n},\\n{\\n\"company\": \"TIAA-CREFF\",\\n\"hire_date\": \"July 2014 \",\\n\"location\": \"New York, NY\",\\n\"title\": \"Data Scientist\"\\n},\\n{\\n\"company\": \"American Express\",\\n\"hire_date\": \"January 2012 \",\\n\"location\": \"New York, NY\",\\n\"title\": \"Junior Data Scientist\"\\n}\\n],\\n\"schools\": [\\n{\\n\"degree\": \"Bachelor\\'s in applied Mathematics in applied Mathematics\",\\n\"grad_date\": \"\",\\n\"school_name\": \"City College, City University of New York New York, NY\"\\n}\\n]\\n},{\\n\"id\": \"538d6d3ba026f4cb\",\\n\"jobs\": [\\n{\\n\"company\": \"CLEAR\",\\n\"hire_date\": \"May 2018 \",\\n\"location\": \"New York, NY\",\\n\"title\": \"Data Scientist\"\\n},\\n{\\n\"company\": \"CBS INTERACTIVE\",\\n\"hire_date\": \"November 2015 \",\\n\"location\": \"New York, NY\",\\n\"title\": \"Data Scientist\"\\n},\\n{\\n\"company\": \"BOREDOMTHERAPY.COM\",\\n\"hire_date\": \"February 2015 \",\\n\"location\": \"New York, NY\",\\n\"title\": \"Data Scientist\"\\n},\\n{\\n\"company\": \"GO CAPITAL LLC\",\\n\"hire_date\": \"March 2013 \",\\n\"location\": \"\",\\n\"title\": \"Co-founder, Managed Account Platform\"\\n},\\n{\\n\"company\": \"G-2 TRADING\",\\n\"hire_date\": \"July 2010 \",\\n\"location\": \"\",\\n\"title\": \"Quantitative Researcher/Proprietary Trader\"\\n},\\n{\\n\"company\": \"ASSENT LLC\",\\n\"hire_date\": \"January 2010 \",\\n\"location\": \"\",\\n\"title\": \"Quantitative Researcher/Proprietary Trader\"\\n},\\n{\\n\"company\": \"BTIG LLC\",\\n\"hire_date\": \"March 2008 \",\\n\"location\": \"\",\\n\"title\": \"Senior Vice President, Quantitative Researcher/Proprietary Trader\"\\n},\\n{\\n\"company\": \"TRADE Capital Markets\",\\n\"hire_date\": \"September 2005 \",\\n\"location\": \"\",\\n\"title\": \"Senior Analyst/Proprietary Trader\"\\n},\\n{\\n\"company\": \"TOWERS PERRIN\",\\n\"hire_date\": \"March 2003 \",\\n\"location\": \"New York, NY\",\\n\"title\": \"Consultant\"\\n},\\n{\\n\"company\": \"EMI RECORDED MUSIC\",\\n\"hire_date\": \"June 2002 \",\\n\"location\": \"New York, NY\",\\n\"title\": \"Supervisor, Financial Planning and Analysis\"\\n},\\n{\\n\"company\": \"TOWERS PERRIN\",\\n\"hire_date\": \"January 1999 \",\\n\"location\": \"New York, NY\",\\n\"title\": \"Actuarial Consultant\"\\n},\\n{\\n\"company\": \"PRICEWATERHOUSECOOPERS\",\\n\"hire_date\": \"July 1996 \",\\n\"location\": \"Teaneck, NJ\",\\n\"title\": \"Actuarial Consultant\"\\n}\\n],\\n\"schools\": [\\n{\\n\"degree\": \"MBA in Finance\",\\n\"grad_date\": \"June 2002\",\\n\"school_name\": \"THE ANDERSON SCHOOL AT UCLA Los Angeles, CA\"\\n},\\n{\\n\"degree\": \"BA in Mathematics\",\\n\"grad_date\": \"May 1996\",\\n\"school_name\": \"UNIVERSITY OF PENNSYLVANIA Philadelphia, PA\"\\n}\\n]\\n},{\\n\"id\": \"14287d805c247ae1\",\\n\"jobs\": [\\n{\\n\"company\": \"Apple Bank\",\\n\"hire_date\": \"Oc\",\\n\"location\": \"New York, NY\",\\n\"title\": \"Data Scientist\"\\n},\\n{\\n\"company\": \"Amalgamated Bank\",\\n\"hire_date\": \"April 2016 \",\\n\"location\": \"New York, NY\",\\n\"title\": \"Data Scientist\"\\n},\\n{\\n\"company\": \"OPTIMUS Healthcare\",\\n\"hire_date\": \"August 2014 \",\\n\"location\": \"Bridgeport, CT\",\\n\"title\": \"Data Scientist\"\\n},\\n{\\n\"company\": \"Susquehanna International Group\",\\n\"hire_date\": \"January 2013 \",\\n\"location\": \"Philadelphia, PA\",\\n\"title\": \"Data Analyst\"\\n}\\n],\\n\"schools\": [\\n{\\n\"degree\": \"MS in Data Science\",\\n\"grad_date\": \"\",\\n\"school_name\": \"New York University \"\\n}\\n]\\n},{\\n\"id\": \"08c696d3ed7d1344\",\\n\"jobs\": [\\n{\\n\"company\": \"Hamilton Group\",\\n\"hire_date\": \"September 2017 \",\\n\"location\": \"Syracuse, NY\",\\n\"title\": \"Data Scientist\"\\n},\\n{\\n\"company\": \"\",\\n\"hire_date\": \"April 2016 \",\\n\"location\": \"Santa Clara, CA\",\\n\"title\": \"Professional Services- Data Scientist\"\\n},\\n{\\n\"company\": \"Palamida\",\\n\"hire_date\": \"May 2014 \",\\n\"location\": \"San Francisco, CA\",\\n\"title\": \"Operations Analyst\"\\n},\\n{\\n\"company\": \"Microsoft\",\\n\"hire_date\": \"August 2012 \",\\n\"location\": \"Redmond, WA\",\\n\"title\": \"Technology Consultant\"\\n},\\n{\\n\"company\": \"Unisys Global Services\",\\n\"hire_date\": \"June 2010 \",\\n\"location\": \"Bengaluru, Karnataka\",\\n\"title\": \"Software Engineer\"\\n}\\n],\\n\"schools\": [\\n{\\n\"degree\": \"B.Tech. in Computer Science in Computer Science\",\\n\"grad_date\": \"\",\\n\"school_name\": \"BNM Institute of Technology Bengaluru, Karnataka\"\\n},\\n{\\n\"degree\": \"Bachelor\\'s\",\\n\"grad_date\": \"\",\\n\"school_name\": \" \"\\n}\\n]\\n},{\\n\"id\": \"8227b1109b63ca18\",\\n\"jobs\": [\\n{\\n\"company\": \"Hamilton Group\",\\n\"hire_date\": \"September 2017 \",\\n\"location\": \"Syracuse, NY\",\\n\"title\": \"Data Scientist\"\\n},\\n{\\n\"company\": \"\",\\n\"hire_date\": \"April 2016 \",\\n\"location\": \"Santa Clara, CA\",\\n\"title\": \"Professional Services- Data Scientist\"\\n},\\n{\\n\"company\": \"Palamida\",\\n\"hire_date\": \"May 2014 \",\\n\"location\": \"San Francisco, CA\",\\n\"title\": \"Operations Analyst\"\\n},\\n{\\n\"company\": \"Microsoft\",\\n\"hire_date\": \"August 2012 \",\\n\"location\": \"Redmond, WA\",\\n\"title\": \"Technology Consultant\"\\n},\\n{\\n\"company\": \"Unisys Global Services\",\\n\"hire_date\": \"June 2010 \",\\n\"location\": \"Bengaluru, Karnataka\",\\n\"title\": \"Software Engineer\"\\n}\\n],\\n\"schools\": [\\n{\\n\"degree\": \"B.Tech. in Computer Science in Computer Science\",\\n\"grad_date\": \"\",\\n\"school_name\": \"BNM Institute of Technology Bengaluru, Karnataka\"\\n}\\n]\\n},{\\n\"id\": \"7b30410b2964b616\",\\n\"jobs\": [\\n{\\n\"company\": \"Microsoft\",\\n\"hire_date\": \"July 2018 \",\\n\"location\": \"\",\\n\"title\": \"Data Scientist\"\\n},\\n{\\n\"company\": \"New York University\",\\n\"hire_date\": \"December 2013 \",\\n\"location\": \"New York, NY\",\\n\"title\": \"Adjunct Professor\"\\n},\\n{\\n\"company\": \"Elucd\",\\n\"hire_date\": \"September 2017 \",\\n\"location\": \"\",\\n\"title\": \"Senior Data Scientist\"\\n},\\n{\\n\"company\": \"18F I\",\\n\"hire_date\": \"August 2016 \",\\n\"location\": \"\",\\n\"title\": \"Data Scientist\"\\n},\\n{\\n\"company\": \"White House\",\\n\"hire_date\": \"Oc\",\\n\"location\": \"\",\\n\"title\": \"Data Scientist\"\\n},\\n{\\n\"company\": \"Human trafficking Response Unit\",\\n\"hire_date\": \"Oc\",\\n\"location\": \"\",\\n\"title\": \"Senior Analyst\"\\n},\\n{\\n\"company\": \"Brooklyn Boulders\",\\n\"hire_date\": \"July 2011 \",\\n\"location\": \"Brooklyn, NY\",\\n\"title\": \"Data Miner\"\\n}\\n],\\n\"schools\": [\\n{\\n\"degree\": \"Masters of Science in Computer Science in Computer Science\",\\n\"grad_date\": \"September 2011 to December 2013\",\\n\"school_name\": \"New York University \"\\n},\\n{\\n\"degree\": \"Bachelors of Science in Mathematics and Economics in Mathematics and Economics\",\\n\"grad_date\": \"September 2005 to May 2009\",\\n\"school_name\": \"SUNY Buffalo \"\\n}\\n]\\n},{\\n\"id\": \"81b345087677af5f\",\\n\"jobs\": [\\n{\\n\"company\": \"Allstate Insurance Company\",\\n\"hire_date\": \"February 2017 \",\\n\"location\": \"Northbrook, IL\",\\n\"title\": \"Data Scientist\"\\n},\\n{\\n\"company\": \"Penn Mutual\",\\n\"hire_date\": \"November 2016 \",\\n\"location\": \"Horsham, PA\",\\n\"title\": \"Data Scientist\"\\n},\\n{\\n\"company\": \"Wellmark- DesMoines, IA\",\\n\"hire_date\": \"June 2015 \",\\n\"location\": \"\",\\n\"title\": \"Data Scientist\"\\n},\\n{\\n\"company\": \"Walmart Labs\",\\n\"hire_date\": \"February 2014 \",\\n\"location\": \"San Bruno, CA\",\\n\"title\": \"Data Scientist\"\\n},\\n{\\n\"company\": \"Duke Energy\",\\n\"hire_date\": \"December 2012 \",\\n\"location\": \"Charlotte, NC\",\\n\"title\": \"Data Scientist\"\\n},\\n{\\n\"company\": \"Cycle\",\\n\"hire_date\": \"August 2010 \",\\n\"location\": \"Burlington, MA\",\\n\"title\": \"Data Analyst\"\\n}\\n],\\n\"schools\": []\\n},{\\n\"id\": \"7fb48d256dcffa2e\",\\n\"jobs\": [\\n{\\n\"company\": \"72 Dragons\",\\n\"hire_date\": \"Oc\",\\n\"location\": \"New York, NY\",\\n\"title\": \"Data Scientist Intern\"\\n},\\n{\\n\"company\": \"Nielsen\",\\n\"hire_date\": \"May 2017 \",\\n\"location\": \"Beijing\",\\n\"title\": \"Data Analyst Intern\"\\n},\\n{\\n\"company\": \"Taikang Life Insurance\",\\n\"hire_date\": \"July 2016 \",\\n\"location\": \"Beijing\",\\n\"title\": \"Actuary Assistant Intern\"\\n}\\n],\\n\"schools\": [\\n{\\n\"degree\": \"Master\\'s in Statistics\",\\n\"grad_date\": \"September 2017 to December 2018\",\\n\"school_name\": \"COLUMBIA UNIVERSITY New York, NY\"\\n},\\n{\\n\"degree\": \"BS in Applied Mathematics\",\\n\"grad_date\": \"September 2013 to June 2017\",\\n\"school_name\": \"BEIJING NORMAL UNIVERSITY Beijing\"\\n}\\n]\\n},{\\n\"id\": \"a4de7ba29365a27c\",\\n\"jobs\": [\\n{\\n\"company\": \"Hamilton Group\",\\n\"hire_date\": \"September 2017 \",\\n\"location\": \"Syracuse, NY\",\\n\"title\": \"Data Scientist\"\\n},\\n{\\n\"company\": \"Microsoft\",\\n\"hire_date\": \"April 2016 \",\\n\"location\": \"Redmond, WA\",\\n\"title\": \"Data Scientist\"\\n},\\n{\\n\"company\": \"Palamida\",\\n\"hire_date\": \"May 2015 \",\\n\"location\": \"San Francisco, CA\",\\n\"title\": \"Operations Analyst\"\\n},\\n{\\n\"company\": \"\",\\n\"hire_date\": \"August 2013 \",\\n\"location\": \"Santa Clara, CA\",\\n\"title\": \"Technology Consultant\"\\n},\\n{\\n\"company\": \"Unisys Global Services\",\\n\"hire_date\": \"June 2011 \",\\n\"location\": \"Bengaluru, Karnataka\",\\n\"title\": \"Software Engineer\"\\n}\\n],\\n\"schools\": [\\n{\\n\"degree\": \"B.Tech. in Computer Science in Computer Science\",\\n\"grad_date\": \"\",\\n\"school_name\": \"BNM Institute of Technology Bengaluru, Karnataka\"\\n}\\n]\\n},{\\n\"id\": \"5a438cb6c63d32d4\",\\n\"jobs\": [\\n{\\n\"company\": \"Elsevier\",\\n\"hire_date\": \"April 2018 \",\\n\"location\": \"New York, NY\",\\n\"title\": \"Marketing | Data Scientist Intern\"\\n},\\n{\\n\"company\": \"City College of New York, CUNY\",\\n\"hire_date\": \"March 2017 \",\\n\"location\": \"New York, NY\",\\n\"title\": \"Research Assistant, Professor Peter Chow\"\\n},\\n{\\n\"company\": \"New York City Housing Authority (NYCHA), Local Law 11 Group\",\\n\"hire_date\": \"June 2016 \",\\n\"location\": \"New York, NY\",\\n\"title\": \"Project Manager Assistant and Engineer Assistant (Summer Intern)\"\\n}\\n],\\n\"schools\": [\\n{\\n\"degree\": \"Master\\'s in Statistics\",\\n\"grad_date\": \"August 2017 to May 2019\",\\n\"school_name\": \"Hunter College (City University of New York) New York, NY\"\\n},\\n{\\n\"degree\": \"Bachelor\\'s in Applied Mathematics\",\\n\"grad_date\": \"August 2013 to May 2017\",\\n\"school_name\": \"City College of New York New York, NY\"\\n}\\n]\\n},{\\n\"id\": \"0d0d79ea8f7164fe\",\\n\"jobs\": [\\n{\\n\"company\": \"Microsoft\",\\n\"hire_date\": \"June 2018 \",\\n\"location\": \"Redmond, WA\",\\n\"title\": \"Data Scientist\"\\n},\\n{\\n\"company\": \"Inside Petroleum\",\\n\"hire_date\": \"January 2018 \",\\n\"location\": \"Houston, TX\",\\n\"title\": \"Software Developer\"\\n},\\n{\\n\"company\": \"Department of Petroleum Engineering, Texas A&M University\",\\n\"hire_date\": \"September 2013 \",\\n\"location\": \"\",\\n\"title\": \"Graduate Research Assistant\"\\n}\\n],\\n\"schools\": [\\n{\\n\"degree\": \"Ph.D. in Petroleum Engineering\",\\n\"grad_date\": \"May 2018\",\\n\"school_name\": \"Texas A&M University College Station, TX\"\\n},\\n{\\n\"degree\": \"M.Sc in Metallurgical and Materials Engineering\",\\n\"grad_date\": \"May 2013\",\\n\"school_name\": \"University of Alabama Tuscaloosa, AL\"\\n},\\n{\\n\"degree\": \"B.Sc in Materials Science and Engineering\",\\n\"grad_date\": \"June 2011\",\\n\"school_name\": \"Tianjin University Tianjin, CN\"\\n}\\n]\\n},{\\n\"id\": \"ca32b47e8cbde300\",\\n\"jobs\": [\\n{\\n\"company\": \"McKesson Corp\",\\n\"hire_date\": \"April 2017 \",\\n\"location\": \"New York, NY\",\\n\"title\": \"Data Scientist\"\\n},\\n{\\n\"company\": \"Ford Motor\",\\n\"hire_date\": \"January 2016 \",\\n\"location\": \"Dearborn, MI\",\\n\"title\": \"Data Scientist\"\\n},\\n{\\n\"company\": \"Comcast\",\\n\"hire_date\": \"November 2014 \",\\n\"location\": \"Philadelphia, PA\",\\n\"title\": \"Data Scientist\"\\n},\\n{\\n\"company\": \"L\\'Or\\\\u00e9al\",\\n\"hire_date\": \"September 2012 \",\\n\"location\": \"Shanghai, CN\",\\n\"title\": \"Data Scientist\"\\n},\\n{\\n\"company\": \"Saama Technologies -IND\",\\n\"hire_date\": \"July 2010 \",\\n\"location\": \"\",\\n\"title\": \"Data Analyst\"\\n}\\n],\\n\"schools\": [\\n{\\n\"degree\": \"Bachelor\\'s\",\\n\"grad_date\": \"\",\\n\"school_name\": \" \"\\n}\\n]\\n},{\\n\"id\": \"db061eddd05facf0\",\\n\"jobs\": [\\n{\\n\"company\": \"Flatiron School\",\\n\"hire_date\": \"Oc\",\\n\"location\": \"New York, NY\",\\n\"title\": \"Data Scientist\"\\n},\\n{\\n\"company\": \"SocialCode\",\\n\"hire_date\": \"Oc\",\\n\"location\": \"New York, NY\",\\n\"title\": \"Account Manager, Analysis & Solutions\"\\n},\\n{\\n\"company\": \"New York Academy of Medicine\",\\n\"hire_date\": \"January 2017 \",\\n\"location\": \"New York, NY\",\\n\"title\": \"Digital Technical Specialist\"\\n},\\n{\\n\"company\": \"New York Academy of Medicine\",\\n\"hire_date\": \"August 2016 \",\\n\"location\": \"New York, NY\",\\n\"title\": \"Digital Technical Assistant\"\\n},\\n{\\n\"company\": \"The Museum of Modern Art\",\\n\"hire_date\": \"Oc\",\\n\"location\": \"New York, NY\",\\n\"title\": \"Web Archiving Technician\"\\n}\\n],\\n\"schools\": [\\n{\\n\"degree\": \"Full-time 15-Week Data Science Bootcamp in Data Science\",\\n\"grad_date\": \"October 2018 to February 2019\",\\n\"school_name\": \"Flatiron School New York, NY\"\\n},\\n{\\n\"degree\": \"Master\\'s in Library and Information Science\",\\n\"grad_date\": \"September 2014 to June 2017\",\\n\"school_name\": \"University of Washington-Seattle Campus Seattle, WA\"\\n},\\n{\\n\"degree\": \"Bachelor\\'s in Classics (ancient Greek & Latin languages)\",\\n\"grad_date\": \"August 2009 to May 2013\",\\n\"school_name\": \"Reed College Portland, OR\"\\n}\\n]\\n},{\\n\"id\": \"2f2ef2479d016404\",\\n\"jobs\": [\\n{\\n\"company\": \"Child Aid\",\\n\"hire_date\": \"May 2018 \",\\n\"location\": \"\",\\n\"title\": \"Chief Data Scientist\"\\n},\\n{\\n\"company\": \"Jennifer Listman Consulting, LLC\",\\n\"hire_date\": \"January 2017 \",\\n\"location\": \"\",\\n\"title\": \"Data Science and Data Visualization Consultant\"\\n},\\n{\\n\"company\": \"Center for K12 STEM Education, NYU Tandon School of Engineering\",\\n\"hire_date\": \"August 2014 \",\\n\"location\": \"New York, NY\",\\n\"title\": \"Assistant Director, Program Development & Evaluation\"\\n},\\n{\\n\"company\": \"Center for Genomics and Systems Biology, NYU College of Arts and Sciences\",\\n\"hire_date\": \"September 2013 \",\\n\"location\": \"New York, NY\",\\n\"title\": \"Scientific Coordinator\"\\n},\\n{\\n\"company\": \"Yale School of Medicine\",\\n\"hire_date\": \"February 2011 \",\\n\"location\": \"New Haven, CT\",\\n\"title\": \"Associate Research Scientist, Psychiatric Genetics\"\\n}\\n],\\n\"schools\": [\\n{\\n\"degree\": \" in Postdoctoral Associate, Psychiatric Genetics\",\\n\"grad_date\": \"May 2009 to February 2011\",\\n\"school_name\": \"Yale School of Medicine \"\\n},\\n{\\n\"degree\": \"PhD in Physical Anthropology\",\\n\"grad_date\": \"May 2009\",\\n\"school_name\": \"New York University \"\\n},\\n{\\n\"degree\": \"BA in Biology\",\\n\"grad_date\": \"May 1991\",\\n\"school_name\": \"University of Pennsylvania \"\\n}\\n]\\n},{\\n\"id\": \"7317e7edef791bd4\",\\n\"jobs\": [\\n{\\n\"company\": \"Icreon tech\",\\n\"hire_date\": \"June 2017 \",\\n\"location\": \"New York, NY\",\\n\"title\": \"Data Scientist\"\\n},\\n{\\n\"company\": \"Computer Science Corp\",\\n\"hire_date\": \"March 2016 \",\\n\"location\": \"Oakland, CA\",\\n\"title\": \"Data Scientist\"\\n},\\n{\\n\"company\": \"Comcast\",\\n\"hire_date\": \"Oc\",\\n\"location\": \"Philadelphia, PA\",\\n\"title\": \"Associate Data Scientist\"\\n},\\n{\\n\"company\": \"ICICI Prudential Life Insurance\",\\n\"hire_date\": \"April 2010 \",\\n\"location\": \"Hyderabad, Telangana\",\\n\"title\": \"Data Analyst\"\\n}\\n],\\n\"schools\": [\\n{\\n\"degree\": \"Bachelor\\'s\",\\n\"grad_date\": \"\",\\n\"school_name\": \" \"\\n}\\n]\\n},{\\n\"id\": \"0cfd643b48edf3ad\",\\n\"jobs\": [\\n{\\n\"company\": \"M&T Bank\",\\n\"hire_date\": \"March 2017 \",\\n\"location\": \"Buffalo, NY\",\\n\"title\": \"Data Scientist\"\\n},\\n{\\n\"company\": \"Republic Services\",\\n\"hire_date\": \"Oc\",\\n\"location\": \"Scottsdale, AZ\",\\n\"title\": \"Data Scientist\"\\n},\\n{\\n\"company\": \"Equifax\",\\n\"hire_date\": \"February 2014 \",\\n\"location\": \"Alpharetta, GA\",\\n\"title\": \"Data Engineer\"\\n},\\n{\\n\"company\": \"Humana Inc\",\\n\"hire_date\": \"July 2013 \",\\n\"location\": \"Louisville, KY\",\\n\"title\": \"Sr Java / J2ee Developer (Offshore)\"\\n},\\n{\\n\"company\": \"State Farm Insurance\",\\n\"hire_date\": \"November 2012 \",\\n\"location\": \"Chicago, IL\",\\n\"title\": \"Java / J2ee Developer (Offshore)\"\\n},\\n{\\n\"company\": \"Symbiosis Software Solutions\",\\n\"hire_date\": \"January 2011 \",\\n\"location\": \"\",\\n\"title\": \"Java Developer\"\\n},\\n{\\n\"company\": \"Highpoint Solutions Pvt. Ltd\",\\n\"hire_date\": \"June 2009 \",\\n\"location\": \"Noida, Uttar Pradesh\",\\n\"title\": \"C/C++ Developer\"\\n}\\n],\\n\"schools\": [\\n{\\n\"degree\": \"M.Tech in Computer Science and Engineering\",\\n\"grad_date\": \"\",\\n\"school_name\": \"JNT University \"\\n},\\n{\\n\"degree\": \"BCA in Bachelor of Computer Applications\",\\n\"grad_date\": \"\",\\n\"school_name\": \"Osmania University \"\\n},\\n{\\n\"degree\": \"Post Graduate Diploma in Communicative English\",\\n\"grad_date\": \"\",\\n\"school_name\": \"Hyderabad Central University Hyderabad, Telangana\"\\n}\\n]\\n},{\\n\"id\": \"03e112a1847ef518\",\\n\"jobs\": [\\n{\\n\"company\": \"Synchronoss\",\\n\"hire_date\": \"April 2017 \",\\n\"location\": \"Reston, VA\",\\n\"title\": \"Data Scientist\"\\n},\\n{\\n\"company\": \"BBVA Compass\",\\n\"hire_date\": \"January 2015 \",\\n\"location\": \"Birmingham, AL\",\\n\"title\": \"Data Scientist\"\\n},\\n{\\n\"company\": \"KeyBank, Ohio\",\\n\"hire_date\": \"May 2013 \",\\n\"location\": \"\",\\n\"title\": \"Data Scientist\"\\n},\\n{\\n\"company\": \"State farm, Illinois\",\\n\"hire_date\": \"August 2012 \",\\n\"location\": \"\",\\n\"title\": \"Data Scientist\"\\n},\\n{\\n\"company\": \"Farmers Insurance Company\",\\n\"hire_date\": \"January 2011 \",\\n\"location\": \"Simi Valley, CA\",\\n\"title\": \"Data Analyst\"\\n},\\n{\\n\"company\": \"NICO Med Supply\",\\n\"hire_date\": \"March 2009 \",\\n\"location\": \"Houston, TX\",\\n\"title\": \"Data Analyst\"\\n}\\n],\\n\"schools\": [\\n{\\n\"degree\": \"Bachelor of Computer Science in TOOLS AND TECHNOLOGIES\",\\n\"grad_date\": \"July 2013\",\\n\"school_name\": \"Lakeland University \"\\n}\\n]\\n},{\\n\"id\": \"68c42ae4077df6d6\",\\n\"jobs\": [\\n{\\n\"company\": \"CKM Advisors\",\\n\"hire_date\": \"September 2016 \",\\n\"location\": \"New York, NY\",\\n\"title\": \"Data Scientist\"\\n},\\n{\\n\"company\": \"Public Prep Charter Network\",\\n\"hire_date\": \"June 2015 \",\\n\"location\": \"New York, NY\",\\n\"title\": \"Data Intern\"\\n},\\n{\\n\"company\": \"Wesleyan Quantitative Analysis Center\",\\n\"hire_date\": \"June 2014 \",\\n\"location\": \"Middletown, CT\",\\n\"title\": \"Research Apprentice\"\\n},\\n{\\n\"company\": \"Global Strategy Group\",\\n\"hire_date\": \"June 2013 \",\\n\"location\": \"New York, NY\",\\n\"title\": \"Research Intern\"\\n}\\n],\\n\"schools\": [\\n{\\n\"degree\": \"B.A. in Math and Computer Science\",\\n\"grad_date\": \"January 2016\",\\n\"school_name\": \"Wesleyan University Middletown, CT\"\\n}\\n]\\n},{\\n\"id\": \"08089ca0fe1166b9\",\\n\"jobs\": [\\n{\\n\"company\": \"Deutsche Bank\",\\n\"hire_date\": \"July 2017 \",\\n\"location\": \"New York, NY\",\\n\"title\": \"Data Scientist\"\\n},\\n{\\n\"company\": \"Initiative\",\\n\"hire_date\": \"January 2016 \",\\n\"location\": \"New York, NY\",\\n\"title\": \"Data Scientist\"\\n},\\n{\\n\"company\": \"American Millennium Insurance Company\",\\n\"hire_date\": \"Oc\",\\n\"location\": \"Fairfield, NJ\",\\n\"title\": \"BI Developer/Data Analyst\"\\n},\\n{\\n\"company\": \"Fulton Bank\",\\n\"hire_date\": \"June 2012 \",\\n\"location\": \"Mount Laurel, NJ\",\\n\"title\": \"BI Developer/Data Analyst\"\\n}\\n],\\n\"schools\": [\\n{\\n\"degree\": \"Master of Science in Business Intelligence and Analytics\",\\n\"grad_date\": \"\",\\n\"school_name\": \"Stevens Institute of Technology \"\\n}\\n]\\n},{\\n\"id\": \"0208323fb08f051b\",\\n\"jobs\": [\\n{\\n\"company\": \"Fluent\",\\n\"hire_date\": \"August 2017 \",\\n\"location\": \"New York, NY\",\\n\"title\": \"Data Scientist\"\\n},\\n{\\n\"company\": \"Global Key Advisors Asset Management\",\\n\"hire_date\": \"January 2017 \",\\n\"location\": \"San Francisco, CA\",\\n\"title\": \"Quantitative Researcher Intern\"\\n},\\n{\\n\"company\": \"Medical Insurance Exchange of California\",\\n\"hire_date\": \"June 2016 \",\\n\"location\": \"Oakland, CA\",\\n\"title\": \"Data Analyst Intern\"\\n}\\n],\\n\"schools\": [\\n{\\n\"degree\": \"Bachelor of Arts in Statistics and Economics\",\\n\"grad_date\": \"August 2013 to May 2017\",\\n\"school_name\": \"University of California, Berkeley Berkeley, CA\"\\n}\\n]\\n},{\\n\"id\": \"86e120c6a7d897fd\",\\n\"jobs\": [\\n{\\n\"company\": \"Advanced Customer Analytics, Marketing\",\\n\"hire_date\": \"December 2017 \",\\n\"location\": \"New York, NY\",\\n\"title\": \"Data Scientist\"\\n},\\n{\\n\"company\": \"Center for Functional Nanomaterials\",\\n\"hire_date\": \"February 2014 \",\\n\"location\": \"Upton, NY\",\\n\"title\": \"Scientific Associate IV\"\\n},\\n{\\n\"company\": \"Insight Data Science\",\\n\"hire_date\": \"September 2017 \",\\n\"location\": \"New York, NY\",\\n\"title\": \"Data Science Fellow\"\\n}\\n],\\n\"schools\": [\\n{\\n\"degree\": \"Ph.D. in Materials Science and Engineering\",\\n\"grad_date\": \"January 2012 to January 2017\",\\n\"school_name\": \"Stony Brook University Stony Brook, NY\"\\n},\\n{\\n\"degree\": \"B.S. in Macromolecular Science\",\\n\"grad_date\": \"January 2008 to January 2012\",\\n\"school_name\": \"Fudan University Shanghai, CN\"\\n}\\n]\\n},{\\n\"id\": \"c2c3c44d982154ab\",\\n\"jobs\": [\\n{\\n\"company\": \"WorkFusion\",\\n\"hire_date\": \"February 2019 \",\\n\"location\": \"New York, NY\",\\n\"title\": \"Data Scientist\"\\n},\\n{\\n\"company\": \"Capital One\",\\n\"hire_date\": \"September 2018 \",\\n\"location\": \"New York, NY\",\\n\"title\": \"Data Science Fellow\"\\n},\\n{\\n\"company\": \"Glassdoor\",\\n\"hire_date\": \"June 2018 \",\\n\"location\": \"San Francisco, CA\",\\n\"title\": \"Data Science, Machine Learning Intern\"\\n},\\n{\\n\"company\": \"Columbia University\",\\n\"hire_date\": \"January 2017 \",\\n\"location\": \"New York, NY\",\\n\"title\": \"Machine Learning Research Assistant\"\\n},\\n{\\n\"company\": \"Tsinghua University\",\\n\"hire_date\": \"September 2014 \",\\n\"location\": \"Beijing\",\\n\"title\": \"Data Mining Research Assistant\"\\n}\\n],\\n\"schools\": [\\n{\\n\"degree\": \"Master\\'s in Data Science\",\\n\"grad_date\": \"September 2017 to December 2018\",\\n\"school_name\": \"Columbia University New York, NY\"\\n},\\n{\\n\"degree\": \"Master\\'s in Civil Engineering and Engineering Mechanics\",\\n\"grad_date\": \"January 2016 to May 2017\",\\n\"school_name\": \"Columbia University New York, NY\"\\n},\\n{\\n\"degree\": \"Bachelor\\'s in Civil Engineering\",\\n\"grad_date\": \"August 2011 to June 2015\",\\n\"school_name\": \"Tsinghua University Beijing\"\\n}\\n]\\n},{\\n\"id\": \"af8f3c347c8dd86d\",\\n\"jobs\": [\\n{\\n\"company\": \"Compass Group\",\\n\"hire_date\": \"Oc\",\\n\"location\": \"Hoboken, NJ\",\\n\"title\": \"Data Scientist\"\\n},\\n{\\n\"company\": \"ICICI Bank Ltd\",\\n\"hire_date\": \"June 2015 \",\\n\"location\": \"Mumbai, Maharashtra\",\\n\"title\": \"Wealth Manager\"\\n},\\n{\\n\"company\": \"Reliance securities Pvt. Ltd\",\\n\"hire_date\": \"June 2015 \",\\n\"location\": \"\",\\n\"title\": \"Management Intern\"\\n},\\n{\\n\"company\": \"Zomato Media Pvt. Ltd\",\\n\"hire_date\": \"June 2014 \",\\n\"location\": \"Mumbai, Maharashtra\",\\n\"title\": \"Manager\"\\n},\\n{\\n\"company\": \"XL Dynamics Pvt. Ltd\",\\n\"hire_date\": \"March 2014 \",\\n\"location\": \"Mumbai, Maharashtra\",\\n\"title\": \"Financial Data Analyst\"\\n}\\n],\\n\"schools\": [\\n{\\n\"degree\": \"Master of Science in Financial Engineering in UBS Asset Management\",\\n\"grad_date\": \"January 2018\",\\n\"school_name\": \"Stevens Institute of Technology Hoboken, NJ\"\\n},\\n{\\n\"degree\": \"Master\\'s in Finance\",\\n\"grad_date\": \"June 2012 to March 2014\",\\n\"school_name\": \"ICFAI Business School Mumbai, Maharashtra\"\\n},\\n{\\n\"degree\": \"Bachelor\\'s in Electronic Engineering\",\\n\"grad_date\": \"June 2007 to May 2011\",\\n\"school_name\": \"College of Engineering Hadapsar Pune, Maharashtra\"\\n}\\n]\\n},{\\n\"id\": \"f4966b66a94f11cc\",\\n\"jobs\": [\\n{\\n\"company\": \"McKesson Corp\",\\n\"hire_date\": \"April 2017 \",\\n\"location\": \"New York, NY\",\\n\"title\": \"Data Scientist\"\\n},\\n{\\n\"company\": \"Comcast\",\\n\"hire_date\": \"April 2015 \",\\n\"location\": \"Philadelphia, PA\",\\n\"title\": \"Data Scientist\"\\n},\\n{\\n\"company\": \"LAZ Parking\",\\n\"hire_date\": \"January 2014 \",\\n\"location\": \"Hartford, CT\",\\n\"title\": \"Data Analyst\"\\n},\\n{\\n\"company\": \"Info Edge solutions\",\\n\"hire_date\": \"July 2011 \",\\n\"location\": \"Hyderabad, Telangana\",\\n\"title\": \"Data Analyst\"\\n},\\n{\\n\"company\": \"Goldstone Info Systems\",\\n\"hire_date\": \"January 2009 \",\\n\"location\": \"Hyderabad, Telangana\",\\n\"title\": \"SQL Developer\"\\n}\\n],\\n\"schools\": [\\n{\\n\"degree\": \"Bachelor\\'s\",\\n\"grad_date\": \"\",\\n\"school_name\": \" \"\\n}\\n]\\n},{\\n\"id\": \"92c22007556a5501\",\\n\"jobs\": [\\n{\\n\"company\": \"Client - McKesson Corp\",\\n\"hire_date\": \"November 2017 \",\\n\"location\": \"New York, NY\",\\n\"title\": \"Data Scientist\"\\n},\\n{\\n\"company\": \"Client - Ford Motor\",\\n\"hire_date\": \"May 2016 \",\\n\"location\": \"Dearborn, MI\",\\n\"title\": \"Data Scientist\"\\n},\\n{\\n\"company\": \"Client - LAZ Parking\",\\n\"hire_date\": \"January 2014 \",\\n\"location\": \"Hartford, CT\",\\n\"title\": \"Role - Data Scientist\"\\n},\\n{\\n\"company\": \"Client - PayPal\",\\n\"hire_date\": \"Oc\",\\n\"location\": \"Shanghai, CN\",\\n\"title\": \"Role - Data Scientist\"\\n},\\n{\\n\"company\": \"Client - Pennar Industries Limited - IND\",\\n\"hire_date\": \"July 2010 \",\\n\"location\": \"\",\\n\"title\": \"Role - Data Analyst\"\\n}\\n],\\n\"schools\": [\\n{\\n\"degree\": \"Bachelor\\'s\",\\n\"grad_date\": \"\",\\n\"school_name\": \" \"\\n}\\n]\\n},{\\n\"id\": \"1f1c44f0a56630ee\",\\n\"jobs\": [\\n{\\n\"company\": \"IQM\",\\n\"hire_date\": \"January 2018 \",\\n\"location\": \"New York, NY\",\\n\"title\": \"Data Scientist\"\\n},\\n{\\n\"company\": \"Massachusetts Institute of Technology\",\\n\"hire_date\": \"July 2006 \",\\n\"location\": \"\",\\n\"title\": \"Producer, Photographer, Writer, Editor\"\\n},\\n{\\n\"company\": \"\",\\n\"hire_date\": \"November 2017 \",\\n\"location\": \"New York, NY\",\\n\"title\": \"Data Scientist\"\\n},\\n{\\n\"company\": \"Morehouse Fencing\",\\n\"hire_date\": \"November 2015 \",\\n\"location\": \"New York, NY\",\\n\"title\": \"Director of Technology\"\\n}\\n],\\n\"schools\": [\\n{\\n\"degree\": \"Data Science Immersive Program in Data Science\",\\n\"grad_date\": \"June 2017 to October 2017\",\\n\"school_name\": \"Galvanize New York, NY\"\\n},\\n{\\n\"degree\": \" in English, History and Journalism\",\\n\"grad_date\": \"September 2002 to May 2006\",\\n\"school_name\": \"University of Massachusetts at Amherst Amherst, MA\"\\n}\\n]\\n},{\\n\"id\": \"08426b2cc7db55d4\",\\n\"jobs\": [\\n{\\n\"company\": \"NEC Corporation of America\",\\n\"hire_date\": \"January 2016 \",\\n\"location\": \"Dallas, TX\",\\n\"title\": \"Data Scientist\"\\n},\\n{\\n\"company\": \"Herbalife Nutrition International\",\\n\"hire_date\": \"May 2015 \",\\n\"location\": \"Los Angeles, CA\",\\n\"title\": \"Data Scientist\"\\n},\\n{\\n\"company\": \"Moody\\'s Corporation\",\\n\"hire_date\": \"June 2014 \",\\n\"location\": \"New York, NY\",\\n\"title\": \"Senior Data Quality Associate\"\\n},\\n{\\n\"company\": \"Citigroup\",\\n\"hire_date\": \"July 2008 \",\\n\"location\": \"New York, NY\",\\n\"title\": \"Data Scientist\"\\n},\\n{\\n\"company\": \"SNA Investments - Jersy city\",\\n\"hire_date\": \"March 2007 \",\\n\"location\": \"\",\\n\"title\": \"Equity Research Analyst\"\\n}\\n],\\n\"schools\": [\\n{\\n\"degree\": \"Master\\'s in Statistics in Statistics\",\\n\"grad_date\": \"September 2005 to December 2006\",\\n\"school_name\": \"Columbia University in the City of New York New York, NY\"\\n},\\n{\\n\"degree\": \"Bachelor\\'s in Mathematics & Economics in Mathematics & Economics\",\\n\"grad_date\": \"September 2003 to July 2005\",\\n\"school_name\": \"UCLA Los Angeles Los Angeles, CA\"\\n}\\n]\\n},{\\n\"id\": \"223689a35f6cc9f1\",\\n\"jobs\": [\\n{\\n\"company\": \"Apteo\",\\n\"hire_date\": \"Oc\",\\n\"location\": \"New York, NY\",\\n\"title\": \"Data Scientist\"\\n},\\n{\\n\"company\": \"Wei & Co., LLP\",\\n\"hire_date\": \"June 2018 \",\\n\"location\": \"New York, NY\",\\n\"title\": \"Tax Accountant\"\\n},\\n{\\n\"company\": \"Columbia University\",\\n\"hire_date\": \"March 2018 \",\\n\"location\": \"\",\\n\"title\": \"Movie Popularity Prediction Project\"\\n},\\n{\\n\"company\": \"Columbia University\",\\n\"hire_date\": \"March 2018 \",\\n\"location\": \"\",\\n\"title\": \"Shiny App Development Project\"\\n},\\n{\\n\"company\": \"Columbia University\",\\n\"hire_date\": \"March 2018 \",\\n\"location\": \"\",\\n\"title\": \"Portfolio Construction Project\"\\n},\\n{\\n\"company\": \"Columbia University\",\\n\"hire_date\": \"April 2018 \",\\n\"location\": \"\",\\n\"title\": \"Fraud Detection Project\"\\n},\\n{\\n\"company\": \"Hitotsubashi University\",\\n\"hire_date\": \"April 2016 \",\\n\"location\": \"\",\\n\"title\": \"Reinsurance and Performance of Japanese Non-Life Insurance Companies (Thesis for MBA)\"\\n}\\n],\\n\"schools\": [\\n{\\n\"degree\": \"Master of Arts in Statistics in Statistical Method\",\\n\"grad_date\": \"February 2019\",\\n\"school_name\": \"COLUMBIA University New York, NY\"\\n},\\n{\\n\"degree\": \"Master of Business Administration in International Finance, Global Management, Corporate Finance\",\\n\"grad_date\": \"March 2018\",\\n\"school_name\": \"HITOTSUBASHI University Tokyo, JP\"\\n},\\n{\\n\"degree\": \"Bachelor in Commerce and Management in Computer Programming\",\\n\"grad_date\": \"March 2017\",\\n\"school_name\": \"HITOTSUBASHI University Tokyo, JP\"\\n}\\n]\\n},{\\n\"id\": \"3d9e08cbc6813044\",\\n\"jobs\": [\\n{\\n\"company\": \"Sparks and Honey - Omnicom Group\",\\n\"hire_date\": \"June 2017 \",\\n\"location\": \"New York, NY\",\\n\"title\": \"Data Scientist\"\\n},\\n{\\n\"company\": \"MoEngage India Pvt. Ltd\",\\n\"hire_date\": \"September 2015 \",\\n\"location\": \"Bengaluru, Karnataka\",\\n\"title\": \"Data Analyst\"\\n},\\n{\\n\"company\": \"Deloitte India Pvt. Ltd\",\\n\"hire_date\": \"June 2014 \",\\n\"location\": \"Hyderabad, Telangana\",\\n\"title\": \"Research Analyst\"\\n},\\n{\\n\"company\": \"Volvo India Pvt. Ltd\",\\n\"hire_date\": \"June 2013 \",\\n\"location\": \"Bengaluru, Karnataka\",\\n\"title\": \"Management Consultant\"\\n}\\n],\\n\"schools\": [\\n{\\n\"degree\": \"MS in Quantitative Methods and Modeling\",\\n\"grad_date\": \"August 2016 to December 2017\",\\n\"school_name\": \"Baruch College, Zicklin School of Business New York, NY\"\\n},\\n{\\n\"degree\": \"MBA in Marketing Analytics\",\\n\"grad_date\": \"August 2012 to April 2014\",\\n\"school_name\": \"SCMS Cochin School of Business Kochi, Kerala\"\\n},\\n{\\n\"degree\": \"BS in Economics\",\\n\"grad_date\": \"March 2009 to May 2012\",\\n\"school_name\": \"West Bengal State University \"\\n}\\n]\\n},{\\n\"id\": \"1391c24c494648b4\",\\n\"jobs\": [\\n{\\n\"company\": \"Retail MeNot\",\\n\"hire_date\": \"January 2016 \",\\n\"location\": \"Dallas, TX\",\\n\"title\": \"Data Scientist\"\\n},\\n{\\n\"company\": \"Walmart - Loss\",\\n\"hire_date\": \"June 2014 \",\\n\"location\": \"angels, CA, US\",\\n\"title\": \"Data Scientist\"\\n},\\n{\\n\"company\": \"Wells Fargo\",\\n\"hire_date\": \"June 2012 \",\\n\"location\": \"Washington, DC\",\\n\"title\": \"Data Science Consultant\"\\n},\\n{\\n\"company\": \"Earth7 Consulting\",\\n\"hire_date\": \"February 2010 \",\\n\"location\": \"\",\\n\"title\": \"Data Analyst- Remote\"\\n}\\n],\\n\"schools\": []\\n},{\\n\"id\": \"7b010c375a7e47fc\",\\n\"jobs\": [\\n{\\n\"company\": \"Redwood\",\\n\"hire_date\": \"September 2016 \",\\n\"location\": \"CA\",\\n\"title\": \"Data Scientist\"\\n},\\n{\\n\"company\": \"Wellsfargo\",\\n\"hire_date\": \"April 2015 \",\\n\"location\": \"Washington, DC\",\\n\"title\": \"Data Scientist\"\\n},\\n{\\n\"company\": \"Walmart - Jersy\",\\n\"hire_date\": \"June 2013 \",\\n\"location\": \"\",\\n\"title\": \"Data Science Consultant\"\\n},\\n{\\n\"company\": \"Earth7 Consulting\",\\n\"hire_date\": \"February 2010 \",\\n\"location\": \"\",\\n\"title\": \"Data Analyst- Remote\"\\n}\\n],\\n\"schools\": []\\n},{\\n\"id\": \"abc4dcc7a1f2faf0\",\\n\"jobs\": [\\n{\\n\"company\": \"RBC Royal Bank of Canada\",\\n\"hire_date\": \"April 2018 \",\\n\"location\": \"New York, NY\",\\n\"title\": \"Data Scientist\"\\n},\\n{\\n\"company\": \"Insigma\",\\n\"hire_date\": \"June 2017 \",\\n\"location\": \"New York, NY\",\\n\"title\": \"Data Scientist\"\\n}\\n],\\n\"schools\": [\\n{\\n\"degree\": \"Master\\'s in Statistics\",\\n\"grad_date\": \"September 2016 to December 2017\",\\n\"school_name\": \"Columbia University New York, NY\"\\n},\\n{\\n\"degree\": \"Bachelor\\'s in Economics\",\\n\"grad_date\": \"September 2012 to June 2016\",\\n\"school_name\": \"Fudan University Shanghai, CN\"\\n}\\n]\\n},{\\n\"id\": \"07c09219a391e5dd\",\\n\"jobs\": [\\n{\\n\"company\": \"Freelancer/AI-ML(An Upwork Agency)\",\\n\"hire_date\": \"January 2019 \",\\n\"location\": \"New York, NY\",\\n\"title\": \"Data Scientist\"\\n},\\n{\\n\"company\": \"Turkish Armed Forces\",\\n\"hire_date\": \"September 2016 \",\\n\"location\": \"\",\\n\"title\": \"Data Analyst/Accuracy Specialist(Multiple Launching Rocket Systems )\"\\n},\\n{\\n\"company\": \"Turkish Military Academy\",\\n\"hire_date\": \"June 2014 \",\\n\"location\": \"Ankara, TR\",\\n\"title\": \"Operations Research Analyst / Counselor\"\\n},\\n{\\n\"company\": \"Artillery Batteries, Turkish Army Forces\",\\n\"hire_date\": \"July 2010 \",\\n\"location\": \"\",\\n\"title\": \"Assistant Analyst\"\\n}\\n],\\n\"schools\": [\\n{\\n\"degree\": \"\",\\n\"grad_date\": \"December 2016 to October 2017\",\\n\"school_name\": \"Stanford University (Online) \"\\n},\\n{\\n\"degree\": \"Bachelor\\'s in Systems Engineering\",\\n\"grad_date\": \"September 2005 to August 2009\",\\n\"school_name\": \"Turkish Military Academy Ankara\"\\n}\\n]\\n},{\\n\"id\": \"b4c5acf762bccc05\",\\n\"jobs\": [\\n{\\n\"company\": \"ARINC - Ceder\",\\n\"hire_date\": \"April 2017 \",\\n\"location\": \"Rapids, IA, US\",\\n\"title\": \"Data Scientist\"\\n},\\n{\\n\"company\": \"L.L. Bean\",\\n\"hire_date\": \"June 2016 \",\\n\"location\": \"Freeport, ME\",\\n\"title\": \"Data Scientist\"\\n},\\n{\\n\"company\": \"Blue Cross Blue Shield of MN\",\\n\"hire_date\": \"June 2015 \",\\n\"location\": \"\",\\n\"title\": \"Data Scientist\"\\n},\\n{\\n\"company\": \"AMWAY\",\\n\"hire_date\": \"April 2013 \",\\n\"location\": \"\",\\n\"title\": \"Data Analyst\"\\n},\\n{\\n\"company\": \"Infosys Ltd\",\\n\"hire_date\": \"May 2011 \",\\n\"location\": \"\",\\n\"title\": \"Data Analyst\"\\n}\\n],\\n\"schools\": [\\n{\\n\"degree\": \"Bachelor\\'s\",\\n\"grad_date\": \"\",\\n\"school_name\": \" \"\\n}\\n]\\n},{\\n\"id\": \"93b2a342dbf497c0\",\\n\"jobs\": [\\n{\\n\"company\": \"Object Edge Inc\",\\n\"hire_date\": \"July 2015 \",\\n\"location\": \"Walnut Creek, CA\",\\n\"title\": \"Data Scientist\"\\n},\\n{\\n\"company\": \"Levadata Inc\",\\n\"hire_date\": \"November 2013 \",\\n\"location\": \"angels, CA, US\",\\n\"title\": \"Data Science Intern\"\\n}\\n],\\n\"schools\": [\\n{\\n\"degree\": \"Master of Science in Industrial Engineering and Operations Research\",\\n\"grad_date\": \"\",\\n\"school_name\": \"University of California Berkeley Berkeley, CA\"\\n}\\n]\\n},{\\n\"id\": \"4ac09bcfaefa55fe\",\\n\"jobs\": [\\n{\\n\"company\": \"College of Engineering, University of Cincinnati.\",\\n\"hire_date\": \"September 2016 \",\\n\"location\": \"Cincinnati, OH\",\\n\"title\": \"Research Assistant | Data Analyst / Scientist\"\\n},\\n{\\n\"company\": \"Perkins Eastman\",\\n\"hire_date\": \"May 2017 \",\\n\"location\": \"New York, NY\",\\n\"title\": \"Architecture Intern\"\\n},\\n{\\n\"company\": \"University Of Cincinnati\",\\n\"hire_date\": \"January 2017 \",\\n\"location\": \"Cincinnati, OH\",\\n\"title\": \"Teaching Assistant (TA)\"\\n},\\n{\\n\"company\": \"Pennsylvania State University, State College\",\\n\"hire_date\": \"January 2015 \",\\n\"location\": \"State College, PA\",\\n\"title\": \"Research Assistant\"\\n},\\n{\\n\"company\": \"Penn State University\",\\n\"hire_date\": \"September 2014 \",\\n\"location\": \"State College, PA\",\\n\"title\": \"Teaching Assistant (TA)\"\\n},\\n{\\n\"company\": \"Shahid Beheshti University\",\\n\"hire_date\": \"January 2010 \",\\n\"location\": \"Tehran\",\\n\"title\": \"Construction and Design Assistant\"\\n},\\n{\\n\"company\": \"Naghsh-Piravash Urban Design Consultancy\",\\n\"hire_date\": \"September 2010 \",\\n\"location\": \"Tehran\",\\n\"title\": \"Architectural Intern\"\\n},\\n{\\n\"company\": \"Shahid Beheshti University\",\\n\"hire_date\": \"Oc\",\\n\"location\": \"Tehran\",\\n\"title\": \"Graphic Designer\"\\n}\\n],\\n\"schools\": [\\n{\\n\"degree\": \"Master\\'s in Business Analytics\",\\n\"grad_date\": \"September 2017 to May 2019\",\\n\"school_name\": \"University of Cincinnati, Carl H. Lindner College of Business Cincinnati, OH\"\\n},\\n{\\n\"degree\": \"Graduate certificate in Data Science\",\\n\"grad_date\": \"January 2018 to December 2018\",\\n\"school_name\": \"University of Cincinnati, Carl H. Lindner College of Business Cincinnati, OH\"\\n},\\n{\\n\"degree\": \"Master\\'s in Architecture\",\\n\"grad_date\": \"September 2014 to May 2016\",\\n\"school_name\": \"Pennsylvania State University-Main Campus State College, PA\"\\n},\\n{\\n\"degree\": \"Bachelor\\'s in Architectural Engineering\",\\n\"grad_date\": \"September 2009 to February 2014\",\\n\"school_name\": \"Shahid Beheshti University Tehran\"\\n}\\n]\\n},{\\n\"id\": \"0b3adf26d436c3f0\",\\n\"jobs\": [\\n{\\n\"company\": \"Pfizer\",\\n\"hire_date\": \"January 2018 \",\\n\"location\": \"New York, NY\",\\n\"title\": \"Data Scientist\"\\n},\\n{\\n\"company\": \"TIAA-CREFF\",\\n\"hire_date\": \"July 2014 \",\\n\"location\": \"New York, NY\",\\n\"title\": \"Data Scientist\"\\n},\\n{\\n\"company\": \"American Express\",\\n\"hire_date\": \"January 2012 \",\\n\"location\": \"New York, NY\",\\n\"title\": \"Junior Data Scientist\"\\n}\\n],\\n\"schools\": [\\n{\\n\"degree\": \"Bachelor\\'s in applied Mathematics in applied Mathematics\",\\n\"grad_date\": \"\",\\n\"school_name\": \"City College, City University of New York New York, NY\"\\n}\\n]\\n},{\\n\"id\": \"f59549c40a93887a\",\\n\"jobs\": [\\n{\\n\"company\": \"The Data Incubator\",\\n\"hire_date\": \"January 2019 \",\\n\"location\": \"New York, NY\",\\n\"title\": \"Data Scientist - Fellowship Program\"\\n},\\n{\\n\"company\": \"Rayliant Global Advisors\",\\n\"hire_date\": \"September 2018 \",\\n\"location\": \"Los Angeles, CA\",\\n\"title\": \"Quantitative Research Intern\"\\n},\\n{\\n\"company\": \"Catasana, LLC\",\\n\"hire_date\": \"August 2018 \",\\n\"location\": \"Los Angeles, CA\",\\n\"title\": \"Investment Research Intern\"\\n},\\n{\\n\"company\": \"AQA Capital\",\\n\"hire_date\": \"June 2018 \",\\n\"location\": \"Los Angeles, CA\",\\n\"title\": \"Quantitative Research Intern\"\\n},\\n{\\n\"company\": \"PricewaterhouseCoopers\",\\n\"hire_date\": \"February 2016 \",\\n\"location\": \"Taipei, TW\",\\n\"title\": \"Financial Advisory Consultant Intern\"\\n}\\n],\\n\"schools\": [\\n{\\n\"degree\": \"Master\\'s in Financial Engineering\",\\n\"grad_date\": \"September 2017 to December 2018\",\\n\"school_name\": \"UCLA Anderson School of Management Los Angeles, CA\"\\n},\\n{\\n\"degree\": \"Executive Education in Algorithmic Trading\",\\n\"grad_date\": \"July 2018 to September 2018\",\\n\"school_name\": \"University of Oxford, Sa\\\\u00efd Business School Los Angeles, CA\"\\n},\\n{\\n\"degree\": \"Master\\'s in Economics\",\\n\"grad_date\": \"August 2016 to August 2017\",\\n\"school_name\": \"University of Southern California Los Angeles, CA\"\\n},\\n{\\n\"degree\": \"Bachelor\\'s in Business Administration\",\\n\"grad_date\": \"September 2010 to June 2014\",\\n\"school_name\": \"National Cheng-Chi University \"\\n}\\n]\\n},{\\n\"id\": \"f97c09a799552d40\",\\n\"jobs\": [\\n{\\n\"company\": \"American Express\",\\n\"hire_date\": \"July 2017 \",\\n\"location\": \"New York, NY\",\\n\"title\": \"Data Scientist\"\\n},\\n{\\n\"company\": \"Sprint, Kansas City\",\\n\"hire_date\": \"September 2015 \",\\n\"location\": \"\",\\n\"title\": \"Data Scientist\"\\n},\\n{\\n\"company\": \"Mu Sigma\",\\n\"hire_date\": \"March 2014 \",\\n\"location\": \"Bengaluru, Karnataka\",\\n\"title\": \"Decision Scientist\"\\n},\\n{\\n\"company\": \"Deluxe\",\\n\"hire_date\": \"June 2013 \",\\n\"location\": \"Bengaluru, Karnataka\",\\n\"title\": \"SQL Developer\"\\n}\\n],\\n\"schools\": [\\n{\\n\"degree\": \"Master of Science in Systems Science in Statistics\",\\n\"grad_date\": \"\",\\n\"school_name\": \"Binghamton University, State University of New York \"\\n},\\n{\\n\"degree\": \"Bachelor of Science in Industrial Engineering and Management in Industrial Engineering and Management\",\\n\"grad_date\": \"\",\\n\"school_name\": \"Bangalore Institute of Technology Bengaluru, Karnataka\"\\n}\\n]\\n},{\\n\"id\": \"2a6d4cfefb77a9f9\",\\n\"jobs\": [\\n{\\n\"company\": \"Callen-Lorde Community Health Center\",\\n\"hire_date\": \"September 2015 \",\\n\"location\": \"New York, NY\",\\n\"title\": \"Data Scientist\"\\n},\\n{\\n\"company\": \"EducationDynamics\",\\n\"hire_date\": \"May 2015 \",\\n\"location\": \"Hoboken, NJ\",\\n\"title\": \"Data Scientist\"\\n},\\n{\\n\"company\": \"Department of Sanitation\",\\n\"hire_date\": \"December 2014 \",\\n\"location\": \"New York, NY\",\\n\"title\": \"SQL Developer\"\\n}\\n],\\n\"schools\": [\\n{\\n\"degree\": \"Master of Science in Statistics in Statistics\",\\n\"grad_date\": \"August 2017 to Present\",\\n\"school_name\": \"FORDHAM UNIVERSITY New York, NY\"\\n},\\n{\\n\"degree\": \"Master of Science in Chemical Engineering in Chemical Engineering\",\\n\"grad_date\": \"August 2012 to December 2013\",\\n\"school_name\": \"COLUMBIA UNIVERSITY New York, NY\"\\n},\\n{\\n\"degree\": \"Bachelor of Science in Chemical Engineering in Chemical Engineering\",\\n\"grad_date\": \"September 2008 to July 2012\",\\n\"school_name\": \"Northwestern Polytechnical University Xi\\'an, CN\"\\n}\\n]\\n},{\\n\"id\": \"a1ee97ec39e5e89f\",\\n\"jobs\": [\\n{\\n\"company\": \"Columbia University\",\\n\"hire_date\": \"December 2018 \",\\n\"location\": \"\",\\n\"title\": \"Data Scientist\"\\n},\\n{\\n\"company\": \"Rhombus Systems\",\\n\"hire_date\": \"June 2018 \",\\n\"location\": \"\",\\n\"title\": \"Software Engineering/Data Science Intern\"\\n},\\n{\\n\"company\": \"University of California, Davis\",\\n\"hire_date\": \"August 2017 \",\\n\"location\": \"Davis, CA\",\\n\"title\": \"Undergraduate Researcher\"\\n},\\n{\\n\"company\": \"LustreLife\",\\n\"hire_date\": \"June 2016 \",\\n\"location\": \"\",\\n\"title\": \"Back End Developer Intern\"\\n}\\n],\\n\"schools\": [\\n{\\n\"degree\": \"Master of Science in Data Science\",\\n\"grad_date\": \"September 2018 to December 2019\",\\n\"school_name\": \"Columbia University New York, NY\"\\n},\\n{\\n\"degree\": \"Bachelor of Science in Computer Science\",\\n\"grad_date\": \"October 2014 to June 2018\",\\n\"school_name\": \"University of California Davis, CA\"\\n}\\n]\\n},{\\n\"id\": \"c498dc335f2286ac\",\\n\"jobs\": [\\n{\\n\"company\": \"Morgan Stanley, TimesSquare, NY\",\\n\"hire_date\": \"February 2017 \",\\n\"location\": \"\",\\n\"title\": \"Data Scientist\"\\n},\\n{\\n\"company\": \"State Street Bank\",\\n\"hire_date\": \"December 2015 \",\\n\"location\": \"Boston, MA\",\\n\"title\": \"Data Scientist\"\\n},\\n{\\n\"company\": \"eBayInc\",\\n\"hire_date\": \"April 2014 \",\\n\"location\": \"San Jose, CA\",\\n\"title\": \"Data Scientist\"\\n},\\n{\\n\"company\": \"Eagle Trading Systems\",\\n\"hire_date\": \"May 2012 \",\\n\"location\": \"Princeton, NJ\",\\n\"title\": \"Data Scientist\"\\n},\\n{\\n\"company\": \"First Indian Corporation Private Limited\",\\n\"hire_date\": \"February 2011 \",\\n\"location\": \"Hyderabad, Telangana\",\\n\"title\": \"Data Architect/Data Modeler\"\\n},\\n{\\n\"company\": \"DELTA Technologies & Managements Services\",\\n\"hire_date\": \"September 2009 \",\\n\"location\": \"Hyderabad, Telangana\",\\n\"title\": \"Data Analyst/Data Modeler\"\\n}\\n],\\n\"schools\": [\\n{\\n\"degree\": \"Bachelor\\'s\",\\n\"grad_date\": \"\",\\n\"school_name\": \" \"\\n}\\n]\\n},{\\n\"id\": \"7c09d81dd761d437\",\\n\"jobs\": [\\n{\\n\"company\": \"ARINC\",\\n\"hire_date\": \"April 2017 \",\\n\"location\": \"Rapids, IA, US\",\\n\"title\": \"Data Scientist\"\\n},\\n{\\n\"company\": \"Blue Cross Blue Shield\",\\n\"hire_date\": \"June 2016 \",\\n\"location\": \"Eagan, MN\",\\n\"title\": \"Data Scientist\"\\n},\\n{\\n\"company\": \"L.L. Bean\",\\n\"hire_date\": \"June 2014 \",\\n\"location\": \"Freeport, ME\",\\n\"title\": \"Data Scientist\"\\n},\\n{\\n\"company\": \"AMWAY\",\\n\"hire_date\": \"April 2012 \",\\n\"location\": \"\",\\n\"title\": \"Data Analyst\"\\n},\\n{\\n\"company\": \"Infosys Ltd\",\\n\"hire_date\": \"May 2010 \",\\n\"location\": \"\",\\n\"title\": \"Data Analyst\"\\n}\\n],\\n\"schools\": [\\n{\\n\"degree\": \"Bachelor\\'s\",\\n\"grad_date\": \"\",\\n\"school_name\": \" \"\\n},\\n{\\n\"degree\": \"Bachelor\\'s\",\\n\"grad_date\": \"\",\\n\"school_name\": \" \"\\n}\\n]\\n},{\\n\"id\": \"7005ce2b3ed6dae2\",\\n\"jobs\": [\\n{\\n\"company\": \"ARINC\",\\n\"hire_date\": \"April 2017 \",\\n\"location\": \"Rapids, IA, US\",\\n\"title\": \"Data Scientist\"\\n},\\n{\\n\"company\": \"L.L. Bean\",\\n\"hire_date\": \"June 2016 \",\\n\"location\": \"Freeport, ME\",\\n\"title\": \"Data Scientist\"\\n},\\n{\\n\"company\": \"Blue Cross Blue Shield of MN\",\\n\"hire_date\": \"June 2014 \",\\n\"location\": \"\",\\n\"title\": \"Data Scientist\"\\n},\\n{\\n\"company\": \"AMWAY\",\\n\"hire_date\": \"April 2012 \",\\n\"location\": \"\",\\n\"title\": \"Data Analyst\"\\n},\\n{\\n\"company\": \"Infosys Ltd\",\\n\"hire_date\": \"May 2010 \",\\n\"location\": \"\",\\n\"title\": \"Data Analyst\"\\n}\\n],\\n\"schools\": [\\n{\\n\"degree\": \"Bachelor\\'s\",\\n\"grad_date\": \"\",\\n\"school_name\": \" \"\\n}\\n]\\n},{\\n\"id\": \"9f4a2a9a44aea571\",\\n\"jobs\": [\\n{\\n\"company\": \"METHOD DATA SCIENCE\",\\n\"hire_date\": \"June 2018 \",\\n\"location\": \"Irvine, CA\",\\n\"title\": \"Community Data Scientist\"\\n},\\n{\\n\"company\": \"GLEASON CORPORATION\",\\n\"hire_date\": \"January 2018 \",\\n\"location\": \"Rochester, NY\",\\n\"title\": \"Data Scientist\"\\n},\\n{\\n\"company\": \"ADVENTIVE INC\",\\n\"hire_date\": \"May 2017 \",\\n\"location\": \"Rochester, NY\",\\n\"title\": \"Software Engineer Intern\"\\n},\\n{\\n\"company\": \"SOFTVAN SOFTWARE INC\",\\n\"hire_date\": \"June 2015 \",\\n\"location\": \"Ahmedabad, Gujarat\",\\n\"title\": \"Software Engineer, Big Data\"\\n}\\n],\\n\"schools\": [\\n{\\n\"degree\": \"MS in Information Science and Technology\",\\n\"grad_date\": \"August 2016 to December 2018\",\\n\"school_name\": \"ROCHESTER INSTITUTE OF TECHNOLOGY Rochester, NY\"\\n},\\n{\\n\"degree\": \"BE in Computer Science and Engineering\",\\n\"grad_date\": \"June 2012 to May 2016\",\\n\"school_name\": \"GUJARAT TECHNOLOGICAL UNIVERSITY Ahmedabad, Gujarat\"\\n}\\n]\\n},{\\n\"id\": \"01c15c85fa7d4e90\",\\n\"jobs\": [\\n{\\n\"company\": \"White Ops\",\\n\"hire_date\": \"June 2018 \",\\n\"location\": \"\",\\n\"title\": \"Data Scientist\"\\n},\\n{\\n\"company\": \"NYU\",\\n\"hire_date\": \"November 2017 \",\\n\"location\": \"\",\\n\"title\": \"Visiting Scholar\"\\n},\\n{\\n\"company\": \"Data Science in Finance\",\\n\"hire_date\": \"September 2016 \",\\n\"location\": \"\",\\n\"title\": \"Luminus Management, Quantitative Analyst\"\\n},\\n{\\n\"company\": \"University of Michigan\",\\n\"hire_date\": \"September 2015 \",\\n\"location\": \"Ann Arbor, MI\",\\n\"title\": \"Ann Arbor, Postdoctoral Fellow\"\\n},\\n{\\n\"company\": \"Columbia University\",\\n\"hire_date\": \"September 2014 \",\\n\"location\": \"\",\\n\"title\": \"Postdoctoral Fellow\"\\n}\\n],\\n\"schools\": [\\n{\\n\"degree\": \"Ph.D. in applied mathematics\",\\n\"grad_date\": \"January 2014\",\\n\"school_name\": \"MIT \"\\n},\\n{\\n\"degree\": \"B.A. in pure mathematics\",\\n\"grad_date\": \"January 2009\",\\n\"school_name\": \"Harvard \"\\n}\\n]\\n},{\\n\"id\": \"1fd6c6d82508c7cc\",\\n\"jobs\": [\\n{\\n\"company\": \"Pfizer\",\\n\"hire_date\": \"January 2018 \",\\n\"location\": \"New York, NY\",\\n\"title\": \"Data Scientist\"\\n},\\n{\\n\"company\": \"TIAA-CREFF\",\\n\"hire_date\": \"July 2014 \",\\n\"location\": \"New York, NY\",\\n\"title\": \"Data Scientist\"\\n},\\n{\\n\"company\": \"American Express\",\\n\"hire_date\": \"January 2012 \",\\n\"location\": \"New York, NY\",\\n\"title\": \"Junior Data Scientist\"\\n}\\n],\\n\"schools\": [\\n{\\n\"degree\": \"Bachelor\\'s in applied Mathematics in applied Mathematics\",\\n\"grad_date\": \"\",\\n\"school_name\": \"City College, City University of New York New York, NY\"\\n}\\n]\\n},{\\n\"id\": \"538d6d3ba026f4cb\",\\n\"jobs\": [\\n{\\n\"company\": \"CLEAR\",\\n\"hire_date\": \"May 2018 \",\\n\"location\": \"New York, NY\",\\n\"title\": \"Data Scientist\"\\n},\\n{\\n\"company\": \"CBS INTERACTIVE\",\\n\"hire_date\": \"November 2015 \",\\n\"location\": \"New York, NY\",\\n\"title\": \"Data Scientist\"\\n},\\n{\\n\"company\": \"BOREDOMTHERAPY.COM\",\\n\"hire_date\": \"February 2015 \",\\n\"location\": \"New York, NY\",\\n\"title\": \"Data Scientist\"\\n},\\n{\\n\"company\": \"GO CAPITAL LLC\",\\n\"hire_date\": \"March 2013 \",\\n\"location\": \"\",\\n\"title\": \"Co-founder, Managed Account Platform\"\\n},\\n{\\n\"company\": \"G-2 TRADING\",\\n\"hire_date\": \"July 2010 \",\\n\"location\": \"\",\\n\"title\": \"Quantitative Researcher/Proprietary Trader\"\\n},\\n{\\n\"company\": \"ASSENT LLC\",\\n\"hire_date\": \"January 2010 \",\\n\"location\": \"\",\\n\"title\": \"Quantitative Researcher/Proprietary Trader\"\\n},\\n{\\n\"company\": \"BTIG LLC\",\\n\"hire_date\": \"March 2008 \",\\n\"location\": \"\",\\n\"title\": \"Senior Vice President, Quantitative Researcher/Proprietary Trader\"\\n},\\n{\\n\"company\": \"TRADE Capital Markets\",\\n\"hire_date\": \"September 2005 \",\\n\"location\": \"\",\\n\"title\": \"Senior Analyst/Proprietary Trader\"\\n},\\n{\\n\"company\": \"TOWERS PERRIN\",\\n\"hire_date\": \"March 2003 \",\\n\"location\": \"New York, NY\",\\n\"title\": \"Consultant\"\\n},\\n{\\n\"company\": \"EMI RECORDED MUSIC\",\\n\"hire_date\": \"June 2002 \",\\n\"location\": \"New York, NY\",\\n\"title\": \"Supervisor, Financial Planning and Analysis\"\\n},\\n{\\n\"company\": \"TOWERS PERRIN\",\\n\"hire_date\": \"January 1999 \",\\n\"location\": \"New York, NY\",\\n\"title\": \"Actuarial Consultant\"\\n},\\n{\\n\"company\": \"PRICEWATERHOUSECOOPERS\",\\n\"hire_date\": \"July 1996 \",\\n\"location\": \"Teaneck, NJ\",\\n\"title\": \"Actuarial Consultant\"\\n}\\n],\\n\"schools\": [\\n{\\n\"degree\": \"MBA in Finance\",\\n\"grad_date\": \"June 2002\",\\n\"school_name\": \"THE ANDERSON SCHOOL AT UCLA Los Angeles, CA\"\\n},\\n{\\n\"degree\": \"BA in Mathematics\",\\n\"grad_date\": \"May 1996\",\\n\"school_name\": \"UNIVERSITY OF PENNSYLVANIA Philadelphia, PA\"\\n}\\n]\\n},{\\n\"id\": \"14287d805c247ae1\",\\n\"jobs\": [\\n{\\n\"company\": \"Apple Bank\",\\n\"hire_date\": \"Oc\",\\n\"location\": \"New York, NY\",\\n\"title\": \"Data Scientist\"\\n},\\n{\\n\"company\": \"Amalgamated Bank\",\\n\"hire_date\": \"April 2016 \",\\n\"location\": \"New York, NY\",\\n\"title\": \"Data Scientist\"\\n},\\n{\\n\"company\": \"OPTIMUS Healthcare\",\\n\"hire_date\": \"August 2014 \",\\n\"location\": \"Bridgeport, CT\",\\n\"title\": \"Data Scientist\"\\n},\\n{\\n\"company\": \"Susquehanna International Group\",\\n\"hire_date\": \"January 2013 \",\\n\"location\": \"Philadelphia, PA\",\\n\"title\": \"Data Analyst\"\\n}\\n],\\n\"schools\": [\\n{\\n\"degree\": \"MS in Data Science\",\\n\"grad_date\": \"\",\\n\"school_name\": \"New York University \"\\n}\\n]\\n},{\\n\"id\": \"08c696d3ed7d1344\",\\n\"jobs\": [\\n{\\n\"company\": \"Hamilton Group\",\\n\"hire_date\": \"September 2017 \",\\n\"location\": \"Syracuse, NY\",\\n\"title\": \"Data Scientist\"\\n},\\n{\\n\"company\": \"\",\\n\"hire_date\": \"April 2016 \",\\n\"location\": \"Santa Clara, CA\",\\n\"title\": \"Professional Services- Data Scientist\"\\n},\\n{\\n\"company\": \"Palamida\",\\n\"hire_date\": \"May 2014 \",\\n\"location\": \"San Francisco, CA\",\\n\"title\": \"Operations Analyst\"\\n},\\n{\\n\"company\": \"Microsoft\",\\n\"hire_date\": \"August 2012 \",\\n\"location\": \"Redmond, WA\",\\n\"title\": \"Technology Consultant\"\\n},\\n{\\n\"company\": \"Unisys Global Services\",\\n\"hire_date\": \"June 2010 \",\\n\"location\": \"Bengaluru, Karnataka\",\\n\"title\": \"Software Engineer\"\\n}\\n],\\n\"schools\": [\\n{\\n\"degree\": \"B.Tech. in Computer Science in Computer Science\",\\n\"grad_date\": \"\",\\n\"school_name\": \"BNM Institute of Technology Bengaluru, Karnataka\"\\n},\\n{\\n\"degree\": \"Bachelor\\'s\",\\n\"grad_date\": \"\",\\n\"school_name\": \" \"\\n}\\n]\\n},{\\n\"id\": \"8227b1109b63ca18\",\\n\"jobs\": [\\n{\\n\"company\": \"Hamilton Group\",\\n\"hire_date\": \"September 2017 \",\\n\"location\": \"Syracuse, NY\",\\n\"title\": \"Data Scientist\"\\n},\\n{\\n\"company\": \"\",\\n\"hire_date\": \"April 2016 \",\\n\"location\": \"Santa Clara, CA\",\\n\"title\": \"Professional Services- Data Scientist\"\\n},\\n{\\n\"company\": \"Palamida\",\\n\"hire_date\": \"May 2014 \",\\n\"location\": \"San Francisco, CA\",\\n\"title\": \"Operations Analyst\"\\n},\\n{\\n\"company\": \"Microsoft\",\\n\"hire_date\": \"August 2012 \",\\n\"location\": \"Redmond, WA\",\\n\"title\": \"Technology Consultant\"\\n},\\n{\\n\"company\": \"Unisys Global Services\",\\n\"hire_date\": \"June 2010 \",\\n\"location\": \"Bengaluru, Karnataka\",\\n\"title\": \"Software Engineer\"\\n}\\n],\\n\"schools\": [\\n{\\n\"degree\": \"B.Tech. in Computer Science in Computer Science\",\\n\"grad_date\": \"\",\\n\"school_name\": \"BNM Institute of Technology Bengaluru, Karnataka\"\\n}\\n]\\n},{\\n\"id\": \"7b30410b2964b616\",\\n\"jobs\": [\\n{\\n\"company\": \"Microsoft\",\\n\"hire_date\": \"July 2018 \",\\n\"location\": \"\",\\n\"title\": \"Data Scientist\"\\n},\\n{\\n\"company\": \"New York University\",\\n\"hire_date\": \"December 2013 \",\\n\"location\": \"New York, NY\",\\n\"title\": \"Adjunct Professor\"\\n},\\n{\\n\"company\": \"Elucd\",\\n\"hire_date\": \"September 2017 \",\\n\"location\": \"\",\\n\"title\": \"Senior Data Scientist\"\\n},\\n{\\n\"company\": \"18F I\",\\n\"hire_date\": \"August 2016 \",\\n\"location\": \"\",\\n\"title\": \"Data Scientist\"\\n},\\n{\\n\"company\": \"White House\",\\n\"hire_date\": \"Oc\",\\n\"location\": \"\",\\n\"title\": \"Data Scientist\"\\n},\\n{\\n\"company\": \"Human trafficking Response Unit\",\\n\"hire_date\": \"Oc\",\\n\"location\": \"\",\\n\"title\": \"Senior Analyst\"\\n},\\n{\\n\"company\": \"Brooklyn Boulders\",\\n\"hire_date\": \"July 2011 \",\\n\"location\": \"Brooklyn, NY\",\\n\"title\": \"Data Miner\"\\n}\\n],\\n\"schools\": [\\n{\\n\"degree\": \"Masters of Science in Computer Science in Computer Science\",\\n\"grad_date\": \"September 2011 to December 2013\",\\n\"school_name\": \"New York University \"\\n},\\n{\\n\"degree\": \"Bachelors of Science in Mathematics and Economics in Mathematics and Economics\",\\n\"grad_date\": \"September 2005 to May 2009\",\\n\"school_name\": \"SUNY Buffalo \"\\n}\\n]\\n},{\\n\"id\": \"81b345087677af5f\",\\n\"jobs\": [\\n{\\n\"company\": \"Allstate Insurance Company\",\\n\"hire_date\": \"February 2017 \",\\n\"location\": \"Northbrook, IL\",\\n\"title\": \"Data Scientist\"\\n},\\n{\\n\"company\": \"Penn Mutual\",\\n\"hire_date\": \"November 2016 \",\\n\"location\": \"Horsham, PA\",\\n\"title\": \"Data Scientist\"\\n},\\n{\\n\"company\": \"Wellmark- DesMoines, IA\",\\n\"hire_date\": \"June 2015 \",\\n\"location\": \"\",\\n\"title\": \"Data Scientist\"\\n},\\n{\\n\"company\": \"Walmart Labs\",\\n\"hire_date\": \"February 2014 \",\\n\"location\": \"San Bruno, CA\",\\n\"title\": \"Data Scientist\"\\n},\\n{\\n\"company\": \"Duke Energy\",\\n\"hire_date\": \"December 2012 \",\\n\"location\": \"Charlotte, NC\",\\n\"title\": \"Data Scientist\"\\n},\\n{\\n\"company\": \"Cycle\",\\n\"hire_date\": \"August 2010 \",\\n\"location\": \"Burlington, MA\",\\n\"title\": \"Data Analyst\"\\n}\\n],\\n\"schools\": []\\n},{\\n\"id\": \"7fb48d256dcffa2e\",\\n\"jobs\": [\\n{\\n\"company\": \"72 Dragons\",\\n\"hire_date\": \"Oc\",\\n\"location\": \"New York, NY\",\\n\"title\": \"Data Scientist Intern\"\\n},\\n{\\n\"company\": \"Nielsen\",\\n\"hire_date\": \"May 2017 \",\\n\"location\": \"Beijing\",\\n\"title\": \"Data Analyst Intern\"\\n},\\n{\\n\"company\": \"Taikang Life Insurance\",\\n\"hire_date\": \"July 2016 \",\\n\"location\": \"Beijing\",\\n\"title\": \"Actuary Assistant Intern\"\\n}\\n],\\n\"schools\": [\\n{\\n\"degree\": \"Master\\'s in Statistics\",\\n\"grad_date\": \"September 2017 to December 2018\",\\n\"school_name\": \"COLUMBIA UNIVERSITY New York, NY\"\\n},\\n{\\n\"degree\": \"BS in Applied Mathematics\",\\n\"grad_date\": \"September 2013 to June 2017\",\\n\"school_name\": \"BEIJING NORMAL UNIVERSITY Beijing\"\\n}\\n]\\n},{\\n\"id\": \"a4de7ba29365a27c\",\\n\"jobs\": [\\n{\\n\"company\": \"Hamilton Group\",\\n\"hire_date\": \"September 2017 \",\\n\"location\": \"Syracuse, NY\",\\n\"title\": \"Data Scientist\"\\n},\\n{\\n\"company\": \"Microsoft\",\\n\"hire_date\": \"April 2016 \",\\n\"location\": \"Redmond, WA\",\\n\"title\": \"Data Scientist\"\\n},\\n{\\n\"company\": \"Palamida\",\\n\"hire_date\": \"May 2015 \",\\n\"location\": \"San Francisco, CA\",\\n\"title\": \"Operations Analyst\"\\n},\\n{\\n\"company\": \"\",\\n\"hire_date\": \"August 2013 \",\\n\"location\": \"Santa Clara, CA\",\\n\"title\": \"Technology Consultant\"\\n},\\n{\\n\"company\": \"Unisys Global Services\",\\n\"hire_date\": \"June 2011 \",\\n\"location\": \"Bengaluru, Karnataka\",\\n\"title\": \"Software Engineer\"\\n}\\n],\\n\"schools\": [\\n{\\n\"degree\": \"B.Tech. in Computer Science in Computer Science\",\\n\"grad_date\": \"\",\\n\"school_name\": \"BNM Institute of Technology Bengaluru, Karnataka\"\\n}\\n]\\n},{\\n\"id\": \"5a438cb6c63d32d4\",\\n\"jobs\": [\\n{\\n\"company\": \"Elsevier\",\\n\"hire_date\": \"April 2018 \",\\n\"location\": \"New York, NY\",\\n\"title\": \"Marketing | Data Scientist Intern\"\\n},\\n{\\n\"company\": \"City College of New York, CUNY\",\\n\"hire_date\": \"March 2017 \",\\n\"location\": \"New York, NY\",\\n\"title\": \"Research Assistant, Professor Peter Chow\"\\n},\\n{\\n\"company\": \"New York City Housing Authority (NYCHA), Local Law 11 Group\",\\n\"hire_date\": \"June 2016 \",\\n\"location\": \"New York, NY\",\\n\"title\": \"Project Manager Assistant and Engineer Assistant (Summer Intern)\"\\n}\\n],\\n\"schools\": [\\n{\\n\"degree\": \"Master\\'s in Statistics\",\\n\"grad_date\": \"August 2017 to May 2019\",\\n\"school_name\": \"Hunter College (City University of New York) New York, NY\"\\n},\\n{\\n\"degree\": \"Bachelor\\'s in Applied Mathematics\",\\n\"grad_date\": \"August 2013 to May 2017\",\\n\"school_name\": \"City College of New York New York, NY\"\\n}\\n]\\n},{\\n\"id\": \"0d0d79ea8f7164fe\",\\n\"jobs\": [\\n{\\n\"company\": \"Microsoft\",\\n\"hire_date\": \"June 2018 \",\\n\"location\": \"Redmond, WA\",\\n\"title\": \"Data Scientist\"\\n},\\n{\\n\"company\": \"Inside Petroleum\",\\n\"hire_date\": \"January 2018 \",\\n\"location\": \"Houston, TX\",\\n\"title\": \"Software Developer\"\\n},\\n{\\n\"company\": \"Department of Petroleum Engineering, Texas A&M University\",\\n\"hire_date\": \"September 2013 \",\\n\"location\": \"\",\\n\"title\": \"Graduate Research Assistant\"\\n}\\n],\\n\"schools\": [\\n{\\n\"degree\": \"Ph.D. in Petroleum Engineering\",\\n\"grad_date\": \"May 2018\",\\n\"school_name\": \"Texas A&M University College Station, TX\"\\n},\\n{\\n\"degree\": \"M.Sc in Metallurgical and Materials Engineering\",\\n\"grad_date\": \"May 2013\",\\n\"school_name\": \"University of Alabama Tuscaloosa, AL\"\\n},\\n{\\n\"degree\": \"B.Sc in Materials Science and Engineering\",\\n\"grad_date\": \"June 2011\",\\n\"school_name\": \"Tianjin University Tianjin, CN\"\\n}\\n]\\n},{\\n\"id\": \"ca32b47e8cbde300\",\\n\"jobs\": [\\n{\\n\"company\": \"McKesson Corp\",\\n\"hire_date\": \"April 2017 \",\\n\"location\": \"New York, NY\",\\n\"title\": \"Data Scientist\"\\n},\\n{\\n\"company\": \"Ford Motor\",\\n\"hire_date\": \"January 2016 \",\\n\"location\": \"Dearborn, MI\",\\n\"title\": \"Data Scientist\"\\n},\\n{\\n\"company\": \"Comcast\",\\n\"hire_date\": \"November 2014 \",\\n\"location\": \"Philadelphia, PA\",\\n\"title\": \"Data Scientist\"\\n},\\n{\\n\"company\": \"L\\'Or\\\\u00e9al\",\\n\"hire_date\": \"September 2012 \",\\n\"location\": \"Shanghai, CN\",\\n\"title\": \"Data Scientist\"\\n},\\n{\\n\"company\": \"Saama Technologies -IND\",\\n\"hire_date\": \"July 2010 \",\\n\"location\": \"\",\\n\"title\": \"Data Analyst\"\\n}\\n],\\n\"schools\": [\\n{\\n\"degree\": \"Bachelor\\'s\",\\n\"grad_date\": \"\",\\n\"school_name\": \" \"\\n}\\n]\\n},{\\n\"id\": \"db061eddd05facf0\",\\n\"jobs\": [\\n{\\n\"company\": \"Flatiron School\",\\n\"hire_date\": \"Oc\",\\n\"location\": \"New York, NY\",\\n\"title\": \"Data Scientist\"\\n},\\n{\\n\"company\": \"SocialCode\",\\n\"hire_date\": \"Oc\",\\n\"location\": \"New York, NY\",\\n\"title\": \"Account Manager, Analysis & Solutions\"\\n},\\n{\\n\"company\": \"New York Academy of Medicine\",\\n\"hire_date\": \"January 2017 \",\\n\"location\": \"New York, NY\",\\n\"title\": \"Digital Technical Specialist\"\\n},\\n{\\n\"company\": \"New York Academy of Medicine\",\\n\"hire_date\": \"August 2016 \",\\n\"location\": \"New York, NY\",\\n\"title\": \"Digital Technical Assistant\"\\n},\\n{\\n\"company\": \"The Museum of Modern Art\",\\n\"hire_date\": \"Oc\",\\n\"location\": \"New York, NY\",\\n\"title\": \"Web Archiving Technician\"\\n}\\n],\\n\"schools\": [\\n{\\n\"degree\": \"Full-time 15-Week Data Science Bootcamp in Data Science\",\\n\"grad_date\": \"October 2018 to February 2019\",\\n\"school_name\": \"Flatiron School New York, NY\"\\n},\\n{\\n\"degree\": \"Master\\'s in Library and Information Science\",\\n\"grad_date\": \"September 2014 to June 2017\",\\n\"school_name\": \"University of Washington-Seattle Campus Seattle, WA\"\\n},\\n{\\n\"degree\": \"Bachelor\\'s in Classics (ancient Greek & Latin languages)\",\\n\"grad_date\": \"August 2009 to May 2013\",\\n\"school_name\": \"Reed College Portland, OR\"\\n}\\n]\\n},{\\n\"id\": \"2f2ef2479d016404\",\\n\"jobs\": [\\n{\\n\"company\": \"Child Aid\",\\n\"hire_date\": \"May 2018 \",\\n\"location\": \"\",\\n\"title\": \"Chief Data Scientist\"\\n},\\n{\\n\"company\": \"Jennifer Listman Consulting, LLC\",\\n\"hire_date\": \"January 2017 \",\\n\"location\": \"\",\\n\"title\": \"Data Science and Data Visualization Consultant\"\\n},\\n{\\n\"company\": \"Center for K12 STEM Education, NYU Tandon School of Engineering\",\\n\"hire_date\": \"August 2014 \",\\n\"location\": \"New York, NY\",\\n\"title\": \"Assistant Director, Program Development & Evaluation\"\\n},\\n{\\n\"company\": \"Center for Genomics and Systems Biology, NYU College of Arts and Sciences\",\\n\"hire_date\": \"September 2013 \",\\n\"location\": \"New York, NY\",\\n\"title\": \"Scientific Coordinator\"\\n},\\n{\\n\"company\": \"Yale School of Medicine\",\\n\"hire_date\": \"February 2011 \",\\n\"location\": \"New Haven, CT\",\\n\"title\": \"Associate Research Scientist, Psychiatric Genetics\"\\n}\\n],\\n\"schools\": [\\n{\\n\"degree\": \" in Postdoctoral Associate, Psychiatric Genetics\",\\n\"grad_date\": \"May 2009 to February 2011\",\\n\"school_name\": \"Yale School of Medicine \"\\n},\\n{\\n\"degree\": \"PhD in Physical Anthropology\",\\n\"grad_date\": \"May 2009\",\\n\"school_name\": \"New York University \"\\n},\\n{\\n\"degree\": \"BA in Biology\",\\n\"grad_date\": \"May 1991\",\\n\"school_name\": \"University of Pennsylvania \"\\n}\\n]\\n},{\\n\"id\": \"7317e7edef791bd4\",\\n\"jobs\": [\\n{\\n\"company\": \"Icreon tech\",\\n\"hire_date\": \"June 2017 \",\\n\"location\": \"New York, NY\",\\n\"title\": \"Data Scientist\"\\n},\\n{\\n\"company\": \"Computer Science Corp\",\\n\"hire_date\": \"March 2016 \",\\n\"location\": \"Oakland, CA\",\\n\"title\": \"Data Scientist\"\\n},\\n{\\n\"company\": \"Comcast\",\\n\"hire_date\": \"Oc\",\\n\"location\": \"Philadelphia, PA\",\\n\"title\": \"Associate Data Scientist\"\\n},\\n{\\n\"company\": \"ICICI Prudential Life Insurance\",\\n\"hire_date\": \"April 2010 \",\\n\"location\": \"Hyderabad, Telangana\",\\n\"title\": \"Data Analyst\"\\n}\\n],\\n\"schools\": [\\n{\\n\"degree\": \"Bachelor\\'s\",\\n\"grad_date\": \"\",\\n\"school_name\": \" \"\\n}\\n]\\n},{\\n\"id\": \"52329cc35e4160f2\",\\n\"jobs\": [\\n{\\n\"company\": \"American Express\",\\n\"hire_date\": \"March 2015 \",\\n\"location\": \"New York, NY\",\\n\"title\": \"Manager - Data Scientist\"\\n},\\n{\\n\"company\": \"Socure\",\\n\"hire_date\": \"August 2014 \",\\n\"location\": \"New York, NY\",\\n\"title\": \"Data Scientist Intern\"\\n}\\n],\\n\"schools\": [\\n{\\n\"degree\": \"Master of Arts in Statistics in Statistics\",\\n\"grad_date\": \"September 2013 to March 2015\",\\n\"school_name\": \"Columbia University New York, NY\"\\n},\\n{\\n\"degree\": \"Bachelor of Engineering in Software Engineering in Software Engineering\",\\n\"grad_date\": \"September 2009 to June 2013\",\\n\"school_name\": \"Sen University Guangzhou, CN\"\\n},\\n{\\n\"degree\": \"Certificate\",\\n\"grad_date\": \"\",\\n\"school_name\": \"Sen University \"\\n}\\n]\\n},{\\n\"id\": \"ccd7279ff15dc1e0\",\\n\"jobs\": [\\n{\\n\"company\": \"Live in Bing\",\\n\"hire_date\": \"May 2018 \",\\n\"location\": \"New York, NY\",\\n\"title\": \"Senior Data Scientist Intern\"\\n},\\n{\\n\"company\": \"Vikas Consultancy\",\\n\"hire_date\": \"August 2015 \",\\n\"location\": \"Mumbai, Maharashtra\",\\n\"title\": \"Associate\"\\n}\\n],\\n\"schools\": [\\n{\\n\"degree\": \"Master of Science in Industrial & Systems Engineering in Industrial & Systems Engineering\",\\n\"grad_date\": \"May 2019\",\\n\"school_name\": \"State University of New York at Binghamton New York, NY\"\\n},\\n{\\n\"degree\": \"Bachelor of Engineering in Instrumentation Engineering in Instrumentation Engineering\",\\n\"grad_date\": \"August 2013 to June 2017\",\\n\"school_name\": \"University of Mumbai Mumbai, Maharashtra\"\\n}\\n]\\n},{\\n\"id\": \"f0e82216d98b955e\",\\n\"jobs\": [\\n{\\n\"company\": \"IoT Nation\",\\n\"hire_date\": \"March 2018 \",\\n\"location\": \"New York, NY\",\\n\"title\": \"Data Scientist I\"\\n},\\n{\\n\"company\": \"Lawrence Livermore National Laboratory\",\\n\"hire_date\": \"June 2017 \",\\n\"location\": \"Livermore, CA\",\\n\"title\": \"Data Engineer Intern\"\\n}\\n],\\n\"schools\": [\\n{\\n\"degree\": \"MS in Bioinformatics (Data Science Track, GPA 3.95)\",\\n\"grad_date\": \"August 2016 to December 2017\",\\n\"school_name\": \"Georgetown University Washington, DC\"\\n}\\n]\\n},{\\n\"id\": \"ebc4ce5533aa3e16\",\\n\"jobs\": [\\n{\\n\"company\": \"Oracle Data Cloud / Moat\",\\n\"hire_date\": \"January 2018 \",\\n\"location\": \"New York, NY\",\\n\"title\": \"Data Scientist\"\\n},\\n{\\n\"company\": \"Oracle Data Cloud / Moat\",\\n\"hire_date\": \"January 2016 \",\\n\"location\": \"New York, NY\",\\n\"title\": \"Data Analyst\"\\n},\\n{\\n\"company\": \"4C Insights\",\\n\"hire_date\": \"January 2016 \",\\n\"location\": \"New York, NY\",\\n\"title\": \"Product Management Intern\"\\n},\\n{\\n\"company\": \"R/GA\",\\n\"hire_date\": \"January 2015 \",\\n\"location\": \"New York, NY\",\\n\"title\": \"Business Operations Intern\"\\n},\\n{\\n\"company\": \"Accenture\",\\n\"hire_date\": \"January 2013 \",\\n\"location\": \"Washington, DC\",\\n\"title\": \"Consultant\"\\n},\\n{\\n\"company\": \"Accenture\",\\n\"hire_date\": \"January 2010 \",\\n\"location\": \"\",\\n\"title\": \"Analyst\"\\n},\\n{\\n\"company\": \"Infosys\",\\n\"hire_date\": \"January 2008 \",\\n\"location\": \"Seattle, WA\",\\n\"title\": \"Software Analyst\"\\n}\\n],\\n\"schools\": [\\n{\\n\"degree\": \"Master of Business Administration in Product Management\",\\n\"grad_date\": \"August 2014 to May 2016\",\\n\"school_name\": \"New York University New York, NY\"\\n},\\n{\\n\"degree\": \"Bachelor\\'s in Mechanical Engineering\",\\n\"grad_date\": \"August 2004 to June 2008\",\\n\"school_name\": \"University of Colorado at Boulder Boulder, CO\"\\n}\\n]\\n}']"
      ]
     },
     "execution_count": 8,
     "metadata": {},
     "output_type": "execute_result"
    }
   ],
   "source": [
    "data"
   ]
  },
  {
   "cell_type": "code",
   "execution_count": 9,
   "metadata": {},
   "outputs": [],
   "source": [
    "db_j = ast.literal_eval(data[0])"
   ]
  },
  {
   "cell_type": "code",
   "execution_count": 10,
   "metadata": {},
   "outputs": [],
   "source": [
    "db_j=db_j[0]"
   ]
  },
  {
   "cell_type": "code",
   "execution_count": 11,
   "metadata": {
    "scrolled": true
   },
   "outputs": [
    {
     "data": {
      "text/plain": [
       "{'id': '0e7e5a3716f475c5',\n",
       " 'jobs': [{'company': 'Amazon Prime Now - WSM Manhattan Retail',\n",
       "   'hire_date': 'November 2016 ',\n",
       "   'location': 'New York, NY',\n",
       "   'title': 'Data Scientist'},\n",
       "  {'company': 'Columbia Tutors',\n",
       "   'hire_date': 'November 2014 ',\n",
       "   'location': 'New York, NY',\n",
       "   'title': 'Founder'},\n",
       "  {'company': \"Moody's Investors Service\",\n",
       "   'hire_date': 'July 2014 ',\n",
       "   'location': 'New York, NY',\n",
       "   'title': 'Associate Analyst'},\n",
       "  {'company': 'Columbia University Information Technology',\n",
       "   'hire_date': 'June 2007 ',\n",
       "   'location': 'New York, NY',\n",
       "   'title': 'Consultant'},\n",
       "  {'company': 'Columbia University Business School',\n",
       "   'hire_date': 'Oc',\n",
       "   'location': 'New York, NY',\n",
       "   'title': 'Research Assistant'},\n",
       "  {'company': 'J.P. Morgan Investment Management',\n",
       "   'hire_date': 'June 2013 ',\n",
       "   'location': 'New York, NY',\n",
       "   'title': 'Summer Analyst - Asset Management'},\n",
       "  {'company': 'TrimTabs Asset Management',\n",
       "   'hire_date': 'July 2012 ',\n",
       "   'location': 'New York, NY',\n",
       "   'title': 'US Equity Analyst - Strategy and Sales'},\n",
       "  {'company': 'Royal Bank of Canada',\n",
       "   'hire_date': 'June 2011 ',\n",
       "   'location': 'New York, NY',\n",
       "   'title': 'Summer Analyst Fixed Income - Research'},\n",
       "  {'company': 'Citigroup',\n",
       "   'hire_date': 'June 2010 ',\n",
       "   'location': 'New York, NY',\n",
       "   'title': 'Summer Analyst'}],\n",
       " 'schools': [{'degree': 'B.A. in Economics',\n",
       "   'grad_date': 'May 2014',\n",
       "   'school_name': 'Columbia University New York, NY'},\n",
       "  {'degree': 'B.A in Economics Transfer',\n",
       "   'grad_date': '',\n",
       "   'school_name': 'Universidad de los Andes Bogotá, Cundinamarca'}]}"
      ]
     },
     "execution_count": 11,
     "metadata": {},
     "output_type": "execute_result"
    }
   ],
   "source": [
    "db_j"
   ]
  },
  {
   "cell_type": "markdown",
   "metadata": {},
   "source": [
    "## adding json to ES"
   ]
  },
  {
   "cell_type": "code",
   "execution_count": 11,
   "metadata": {},
   "outputs": [],
   "source": [
    "import requests\n",
    "from requests_aws4auth import AWS4Auth\n",
    "from elasticsearch import Elasticsearch\n",
    "es=Elasticsearch(hosts='https://search-cap-resume-es-fu3rqbrrqvbmeql5pfeal4nx3m.us-east-1.es.amazonaws.com')"
   ]
  },
  {
   "cell_type": "code",
   "execution_count": 38,
   "metadata": {},
   "outputs": [],
   "source": [
    "with open('resume_outputdata-scientist-New-York_replace.json') as f:\n",
    "    cal = json.load(f)"
   ]
  },
  {
   "cell_type": "code",
   "execution_count": 36,
   "metadata": {},
   "outputs": [],
   "source": [
    "mult=ast.literal_eval(cal)"
   ]
  },
  {
   "cell_type": "code",
   "execution_count": 41,
   "metadata": {
    "scrolled": true
   },
   "outputs": [
    {
     "data": {
      "text/plain": [
       "{'id': '0e7e5a3716f475c5',\n",
       " 'jobs': [{'company': 'Amazon Prime Now - WSM Manhattan Retail',\n",
       "   'hire_date': 'November 2016 ',\n",
       "   'location': 'New York, NY',\n",
       "   'title': 'Data Scientist'},\n",
       "  {'company': 'Columbia Tutors',\n",
       "   'hire_date': 'November 2014 ',\n",
       "   'location': 'New York, NY',\n",
       "   'title': 'Founder'},\n",
       "  {'company': \"Moody's Investors Service\",\n",
       "   'hire_date': 'July 2014 ',\n",
       "   'location': 'New York, NY',\n",
       "   'title': 'Associate Analyst'},\n",
       "  {'company': 'Columbia University Information Technology',\n",
       "   'hire_date': 'June 2007 ',\n",
       "   'location': 'New York, NY',\n",
       "   'title': 'Consultant'},\n",
       "  {'company': 'Columbia University Business School',\n",
       "   'hire_date': 'Oc',\n",
       "   'location': 'New York, NY',\n",
       "   'title': 'Research Assistant'},\n",
       "  {'company': 'J.P. Morgan Investment Management',\n",
       "   'hire_date': 'June 2013 ',\n",
       "   'location': 'New York, NY',\n",
       "   'title': 'Summer Analyst - Asset Management'},\n",
       "  {'company': 'TrimTabs Asset Management',\n",
       "   'hire_date': 'July 2012 ',\n",
       "   'location': 'New York, NY',\n",
       "   'title': 'US Equity Analyst - Strategy and Sales'},\n",
       "  {'company': 'Royal Bank of Canada',\n",
       "   'hire_date': 'June 2011 ',\n",
       "   'location': 'New York, NY',\n",
       "   'title': 'Summer Analyst Fixed Income - Research'},\n",
       "  {'company': 'Citigroup',\n",
       "   'hire_date': 'June 2010 ',\n",
       "   'location': 'New York, NY',\n",
       "   'title': 'Summer Analyst'}],\n",
       " 'schools': [{'degree': 'B.A. in Economics',\n",
       "   'grad_date': 'May 2014',\n",
       "   'school_name': 'Columbia University New York, NY'},\n",
       "  {'degree': 'B.A in Economics Transfer',\n",
       "   'grad_date': '',\n",
       "   'school_name': 'Universidad de los Andes Bogotá, Cundinamarca'}]}"
      ]
     },
     "execution_count": 41,
     "metadata": {},
     "output_type": "execute_result"
    }
   ],
   "source": [
    "mult[0]"
   ]
  },
  {
   "cell_type": "code",
   "execution_count": 27,
   "metadata": {},
   "outputs": [],
   "source": [
    "region='us-east-1'\n",
    "service='es'\n",
    "credentials = boto3.Session().get_credentials()\n",
    "awsauth = AWS4Auth(credentials.access_key, credentials.secret_key, region, service, session_token=credentials.token)\n"
   ]
  },
  {
   "cell_type": "code",
   "execution_count": 40,
   "metadata": {},
   "outputs": [
    {
     "ename": "IndexError",
     "evalue": "tuple index out of range",
     "output_type": "error",
     "traceback": [
      "\u001b[1;31m---------------------------------------------------------------------------\u001b[0m",
      "\u001b[1;31mIndexError\u001b[0m                                Traceback (most recent call last)",
      "\u001b[1;32m<ipython-input-40-907a8113e42e>\u001b[0m in \u001b[0;36m<module>\u001b[1;34m\u001b[0m\n\u001b[0;32m      1\u001b[0m \u001b[1;32mfor\u001b[0m \u001b[0mi\u001b[0m \u001b[1;32min\u001b[0m \u001b[0mrange\u001b[0m\u001b[1;33m(\u001b[0m\u001b[1;36m11\u001b[0m\u001b[1;33m,\u001b[0m\u001b[1;36m200\u001b[0m\u001b[1;33m)\u001b[0m\u001b[1;33m:\u001b[0m\u001b[1;33m\u001b[0m\u001b[0m\n\u001b[1;32m----> 2\u001b[1;33m     \u001b[0mes\u001b[0m\u001b[1;33m.\u001b[0m\u001b[0mindex\u001b[0m\u001b[1;33m(\u001b[0m\u001b[0mindex\u001b[0m\u001b[1;33m=\u001b[0m\u001b[1;34m'id'\u001b[0m\u001b[1;33m,\u001b[0m \u001b[0mbody\u001b[0m\u001b[1;33m=\u001b[0m\u001b[0mmult\u001b[0m\u001b[1;33m[\u001b[0m\u001b[0mi\u001b[0m\u001b[1;33m]\u001b[0m \u001b[1;33m,\u001b[0m\u001b[0mdoc_type\u001b[0m\u001b[1;33m=\u001b[0m\u001b[1;34m'resume'\u001b[0m\u001b[1;33m)\u001b[0m\u001b[1;33m\u001b[0m\u001b[0m\n\u001b[0m",
      "\u001b[1;31mIndexError\u001b[0m: tuple index out of range"
     ]
    }
   ],
   "source": [
    "for i in range(11,200):\n",
    "    es.index(index='id', body=mult[i] ,doc_type='resume')"
   ]
  },
  {
   "cell_type": "code",
   "execution_count": 42,
   "metadata": {},
   "outputs": [
    {
     "data": {
      "text/plain": [
       "{'count': 101,\n",
       " '_shards': {'total': 6, 'successful': 6, 'skipped': 0, 'failed': 0}}"
      ]
     },
     "execution_count": 42,
     "metadata": {},
     "output_type": "execute_result"
    }
   ],
   "source": [
    "es.count()"
   ]
  },
  {
   "cell_type": "code",
   "execution_count": null,
   "metadata": {},
   "outputs": [],
   "source": [
    "host = 'https://search-cap-resume-es-fu3rqbrrqvbmeql5pfeal4nx3m.us-east-1.es.amazonaws.com' # the Amazon ES domain, including https://\n",
    "index = 'lambda-s3-index'\n",
    "type = 'lambda-type'\n",
    "url = host + '/' + index + '/' + type\n"
   ]
  },
  {
   "cell_type": "markdown",
   "metadata": {},
   "source": [
    "## Scraping for skills"
   ]
  },
  {
   "cell_type": "code",
   "execution_count": 2,
   "metadata": {},
   "outputs": [],
   "source": [
    "from selenium import webdriver\n",
    "from selenium.webdriver.common.by import By\n",
    "from selenium.webdriver.support.ui import WebDriverWait\n",
    "from selenium.webdriver.support import expected_conditions as EC\n",
    "from bs4 import BeautifulSoup"
   ]
  },
  {
   "cell_type": "code",
   "execution_count": 3,
   "metadata": {},
   "outputs": [],
   "source": [
    "driver = webdriver.Chrome()"
   ]
  },
  {
   "cell_type": "code",
   "execution_count": 19,
   "metadata": {},
   "outputs": [],
   "source": [
    "driver.get('https://resumes.indeed.com/resume/36cc4e485e09672e')\n",
    "p_element=driver.page_source\n",
    "soup=BeautifulSoup(p_element, 'html.parser')"
   ]
  },
  {
   "cell_type": "code",
   "execution_count": 20,
   "metadata": {},
   "outputs": [],
   "source": [
    "results = soup.find_all('div', attrs={\"class\":\"rezemp-ResumeDisplaySection\"})"
   ]
  },
  {
   "cell_type": "code",
   "execution_count": 21,
   "metadata": {},
   "outputs": [
    {
     "data": {
      "text/plain": [
       "<div class=\"rezemp-ResumeDisplaySection\"><span class=\"rezemp-ResumeDisplaySection-header icl-u-textColor--tertiary\">Skills</span><div class=\"rezemp-ResumeDisplaySection-headerLineContainer\"><div class=\"rezemp-ResumeDisplaySection-headerLine\"></div></div><div class=\"rezemp-ResumeDisplaySection-content\"><span><span><span>PYTHON</span> (<span>5 years</span>)</span></span><span>, </span><span><span><span>SQL</span> (<span>5 years</span>)</span></span><span>, </span><span><span><span>Hadoop</span> (<span>4 years</span>)</span></span><span>, </span><span><span><span>HADOOP</span> (<span>4 years</span>)</span></span><span>, </span><span><span><span>LINUX</span> (<span>3 years</span>)</span></span></div></div>"
      ]
     },
     "execution_count": 21,
     "metadata": {},
     "output_type": "execute_result"
    }
   ],
   "source": [
    "results[2]"
   ]
  },
  {
   "cell_type": "code",
   "execution_count": 22,
   "metadata": {},
   "outputs": [],
   "source": [
    "results1=soup.find_all('span', attrs={'class':'rezemp-ResumeDisplaySection-header icl-u-textColor--tertiary'})"
   ]
  },
  {
   "cell_type": "code",
   "execution_count": 23,
   "metadata": {},
   "outputs": [
    {
     "data": {
      "text/plain": [
       "[<span class=\"rezemp-ResumeDisplaySection-header icl-u-textColor--tertiary\">Work Experience</span>,\n",
       " <span class=\"rezemp-ResumeDisplaySection-header icl-u-textColor--tertiary\">Education</span>,\n",
       " <span class=\"rezemp-ResumeDisplaySection-header icl-u-textColor--tertiary\">Skills</span>,\n",
       " <span class=\"rezemp-ResumeDisplaySection-header icl-u-textColor--tertiary\">Additional Information</span>]"
      ]
     },
     "execution_count": 23,
     "metadata": {},
     "output_type": "execute_result"
    }
   ],
   "source": [
    "results1"
   ]
  },
  {
   "cell_type": "code",
   "execution_count": 24,
   "metadata": {},
   "outputs": [
    {
     "data": {
      "text/plain": [
       "'Skills'"
      ]
     },
     "execution_count": 24,
     "metadata": {},
     "output_type": "execute_result"
    }
   ],
   "source": [
    "results1[2].get_text()"
   ]
  },
  {
   "cell_type": "code",
   "execution_count": 26,
   "metadata": {},
   "outputs": [
    {
     "data": {
      "text/plain": [
       "'PYTHON (5 years), SQL (5 years), Hadoop (4 years), HADOOP (4 years), LINUX (3 years)'"
      ]
     },
     "execution_count": 26,
     "metadata": {},
     "output_type": "execute_result"
    }
   ],
   "source": [
    "skills=results[2].get_text()[6:]\n",
    "skills"
   ]
  },
  {
   "cell_type": "code",
   "execution_count": 27,
   "metadata": {},
   "outputs": [
    {
     "data": {
      "text/plain": [
       "['PYTHON (5 years)',\n",
       " ' SQL (5 years)',\n",
       " ' Hadoop (4 years)',\n",
       " ' HADOOP (4 years)',\n",
       " ' LINUX (3 years)']"
      ]
     },
     "execution_count": 27,
     "metadata": {},
     "output_type": "execute_result"
    }
   ],
   "source": [
    "skills.split(sep=',')"
   ]
  },
  {
   "cell_type": "markdown",
   "metadata": {},
   "source": [
    "## Scrape for body"
   ]
  },
  {
   "cell_type": "code",
   "execution_count": 74,
   "metadata": {},
   "outputs": [],
   "source": [
    "body=soup.find_all('div', attrs={'class':'rezemp-ResumeDisplay-body'})"
   ]
  },
  {
   "cell_type": "code",
   "execution_count": 75,
   "metadata": {},
   "outputs": [
    {
     "data": {
      "text/plain": [
       "\"Data ScientistData Scientist - Weill Cornell MedicineNew York, NY• Professional qualified Data Scientist/Data Analyst with over 7 years of experience in Data Science and Analytics including Machine Learning, Data Mining and Statistical Analysis• Involved in the entire data science project life cycle and actively involved in all the phases including data extraction, data cleaning, statistical modeling and data visualization with large data sets of structured and unstructured data• Experienced with machine learning algorithm such as logistic regression, random forest, XGboost, KNN, SVM, neural network, linear regression, lasso regression and k - means• Implemented Bagging and Boosting to enhance the model performance.• Strong skills in statistical methodologies such as A/B test, experiment design, hypothesis test, ANOVA• Extensively worked on Python 3.5/2.7 (NumPy, Pandas, Matplotlib, NLTK and Scikit-learn)• Experience in implementing data analysis with various analytic tools, such as Anaconda 4.0 Jupiter Notebook 4.X, R 3.0 (ggplot2, Caret, dplyr) and Excel• Solid ability to write and optimize diverse SQL queries, working knowledge of RDBMS like SQL Server 2008, NoSql databases like MongoDB 3.2• Strong experience in Big Data technologies like Spark 1.6, Sparksql, pySpark, Hadoop 2.X, HDFS, Hive 1.X• Experience in visualization tools like, Tableau 9.X, 10.X for creating dashboards• Excellent understanding Agile and Scrum development methodology• Used the version control tools like Git 2.X• Passionate about gleaning insightful information from massive data assets and developing a culture of sound, data-driven decision making• Ability to maintain a fun, casual, professional and productive team atmosphere• Experienced the full software life cycle in SDLC, Agile and Scrum methodologies.• Skilled in Advanced Regression Modeling, Correlation, Multivariate Analysis, Model Building, Business Intelligence tools and application of Statistical Concepts.• Proficient in Predictive Modeling, Data Mining Methods, Factor Analysis, ANOVA, Hypothetical testing, normal distribution and other advanced statistical and econometric techniques.• Developed predictive models using Decision Tree, Random Forest, Naïve Bayes, Logistic Regression, Cluster Analysis, and Neural Networks.• Experienced in Machine Learning and Statistical Analysis with Python Scikit-Learn.• Experienced in Python to manipulate data for data loading and extraction and worked with python libraries like Matplotlib, Numpy, Scipy and Pandas for data analysis.• Worked with complex applications such as R, SAS, Matlab and SPSS to develop neural network, cluster analysis.• Expertise in transforming business requirements into analytical models, designing algorithms, building models, developing data mining and reporting solutions that scales across massive volume of structured and unstructured data.• Skilled in performing data parsing, data manipulation and data preparation with methods including describe data contents, compute descriptive statistics of data, regex, split and combine, Remap, merge, subset, reindex, melt and reshape.• Strong SQL programming skills, with experience in working with functions, packages and triggers.• Experienced in Visual Basic for Applications and VB programming languages to work with developing applications.• Worked with NoSQL Database including Hbase, Cassandra and MongoDB.• Experienced in Big Data with Hadoop, HDFS, MapReduce, and Spark.• Experienced in Data Integration Validation and Data Quality controls for ETL process and Data Warehousing using MS Visual Studio SSIS, SSAS, SSRS.• Proficient in Tableau and R-Shiny data visualization tools to analyze and obtain insights into large datasets, create visually powerful and actionable interactive reports and dashboards.• Automated recurring reports using SQL and Python and visualized them on BI platform like Tableau.• Worked in development environment like Git and VM.• Excellent communication skills. Successfully working in fast-paced multitasking environment both independently and in collaborative team, a self-motivated enthusiastic learner.Work ExperienceData ScientistWeill Cornell Medicine - New York, NYNovember 2017 to PresentResponsibilities:• Performed Data Profiling to learn about behavior with various features such as traffic pattern, location, and time, Date and Time etc.• Application of various machine learning algorithms and statistical modeling like decision trees, regression models, neural networks, SVM, clustering to identify Volume using scikit-learn package in python, Matlab.• Utilized Spark, Scala, Hadoop, HBase, Cassandra, MongoDB, Kafka, Spark Streaming, MLLib, Python, a broad variety of machine learning methods including classifications, regressions, dimensionally reduction etc. and Utilized the engine to increase user lifetime by 45% and triple user conversations for target categories.• Developed Spark/Scala, Python for regular expression (regex) project in the Hadoop/Hive environment with Linux/Windows for big data resources. Used clustering technique K-Means to identify outliers and to classify unlabeled data.• Evaluated models using Cross Validation, Log loss function, ROC curves and used AUC for feature selection.• Analyze traffic patterns by calculating autocorrelation with different time lags.• Ensured that the model has low False Positive Rate.• Addressed over fitting by implementing of the algorithm regularization methods like L2 and L1.• Used Principal Component Analysis in feature engineering to analyze high dimensional data.• Created and designed reports that will use gathered metrics to infer and draw logical conclusions of past and future behavior.• Performed Multinomial Logistic Regression, Random forest, Decision Tree, SVM to classify package is going to deliver on time for the new route.• Performed data analysis by using Hive to retrieve the data from Hadoop cluster, Sql to retrieve data from Oracle database.• Used MLlib, Spark's Machine learning library to build and evaluate different models.• Implemented rule based expertise system from the results of exploratory analysis and information gathered from the people from different departments.• Performed Data Cleaning, features scaling, features engineering using pandas and numpy packages in python.• Developed MapReduce pipeline for feature extraction using Hive.• Created Data Quality Scripts using SQL and Hive to validate successful data load and quality of the data. Created various types of data visualizations using Python and Tableau.• Communicated the results with operations team for taking best decisions.• Collected data needs and requirements by Interacting with the other departments.Environment: Python 2.x, CDH5, HDFS, Hadoop 2.3, Hive, Impala, Linux, Spark, Tableau Desktop, SQL Server 2012, Microsoft Excel, Matlab, Spark SQL, Pyspark.Data ScientistRetail Me Not - Austin, TXMay 2015 to June 2016Responsibilities:• Provided Configuration Management and Build support for more than 5 different applications, built and deployed to the production and lower environments.• Implemented public segmentation using unsupervised machine learning algorithms by implementing k-means algorithm using Pyspark.• Explored and Extracted data from source XML in HDFS, preparing data for exploratory analysis using data munging.• Responsible for different Data mapping activities from Source systems to Teradata• Handled importing data from various data sources, performed transformations using Hive, Map Reduce, and loaded data into HDFS• Used R and python for Exploratory Data Analysis, A/B testing, Anova test and Hypothesis test to compare and identify the effectiveness of Creative Campaigns.• Created clusters to classify Control and test groups and conducted group campaigns.• Analyzed and calculated the lifetime cost of everyone in the welfare system using 20 years of historical data.• Developed LINUX Shell scripts by using NZSQL/NZLOAD utilities to load data from flat files to Netezza database.• Developed triggers, stored procedures, functions and packages using cursors and ref cursor concepts associated with the project using Pl/SQL• Created various types of data visualizations using R, python and Tableau.• Used Python, R, SQL to create Statistical algorithms involving Multivariate Regression, Linear Regression, Logistic Regression, PCA, Random forest models, Decision trees, Support Vector Machine for estimating the risks of welfare dependency.• Identified and targeted welfare high-risk groups with Machine learning algorithms.• Conducted campaigns and run real-time trials to determine what works fast and track the impact of different initiatives.• Developed Tableau visualizations and dashboards using Tableau Desktop.• Used Graphical Entity-Relationship Diagramming to create new database design via easy to use, graphical interface.• Created multiple custom SQL queries in Teradata SQL Workbench to prepare the right data sets for Tableau dashboards• Perform analyses such as regression analysis, logistic regression, discriminant analysis, cluster analysis using SAS programming.• Used Meta data tool for importing metadata from repository, new job categories and creating new data elements.• Scheduled the task for weekly updates and running the model in workflow. Automated the entire process flow in generating the analysis and reports.Environment: R 3.x, HDFS, Hadoop 2.3, Pig, Hive, Linux, R-Studio, Tableau 10, SQL Server, MS Excel, Pypark.Data ScientistWalmart - Bentonville, ARMarch 2013 to April 2015Responsibilities:• Involved in Design, Development and Support phases of Software Development Life Cycle (SDLC)• Performed data ETL by collecting, exporting, merging and massaging data from multiple sources and platforms including SSIS (SQL Server Integration Services) in SQL Server.• Worked with cross-functional teams (including data engineer team) to extract data and rapidly execute from MongoDB through MongoDB connector for Hadoop.• Performed data cleaning and feature selection using MLlib package in PySpark.• Performed partitional clustering into 100 by k-means clustering using Scikit-learn package in Python where similar hotels for a search are grouped together.• Used Python to perform ANOVA test to analyze the differences among hotel clusters.• Implemented application of various machine learning algorithms and statistical modeling like Decision Tree, Naive Bayes, Logistic Regression and Linear Regression using Python to determine the accuracy rate of each model.• Determined the most accurately prediction model based on the accuracy rate.• Used text-mining process of reviews to determine customers' concentrations.• Delivered analysis support to hotel recommendation and providing an online A/B test.• Designed Tableau bar graphs, scattered plots, and geographical maps to create detailed level summary reports and dashboards.• Developed hybrid model to improve the accuracy rate.• Delivered the results to operation team for better decisions and feedbacks.Environment: Python, PySpark, Tableau, MongoDB, Hadoop, SQL Server, SDLC, ETL, SSIS, recommendation systems, Machine Learning Algorithms, text-mining process, A/B test.Data ScientistSigma Space CorpJanuary 2012 to February 2013Responsibilities:• Participated in all phases of research including data collection, data cleaning, data mining, developing models and visualizations.• Collaborated with data engineers and operation team to collect data from internal system to fit the analytical requirements.• Redefined many attributes and relationships and cleansed unwanted tables/columns using SQL queries.• Utilized Spark SQL API in PySpark to extract and load data and perform SQL queries.• Performed data imputation using Scikit-learn package in Python.• Performed data processing using Python libraries like Numpy and Pandas.• Worked with data analysis using ggplot2 library in R to do data visualizations for better understanding of customers' behaviors.• Visually plotted data using Tableau for dashboards and reports.• Implemented statistical modeling with XGBoost machine learning software package using R to determine the predicted probabilities of each model.• Delivered the results with operation team for better decisions.Environment: Python, R, SQL, Tableau, Spark, Machine Learning Software Package, recommendation systems.Python DeveloperAccentureNovember 2011 to December 2012Responsibilities:• Developed entire frontend and backend modules using Python on Django Web Framework.• Implemented the presentation layer with HTML, CSS and JavaScript.• Involved in writing stored procedures using Oracle.• Optimized the database queries to improve the performance.• Designed and developed data management system using Oracle.• Effectively communicated with the stakeholders to gather requirements for different projects• Used MySQL db package and Python-MySQL connector for writing and executing several MYSQL database queries from Python.• Created functions, triggers, views and stored procedures using My SQL.• Worked closely with back-end developer to find ways to push the limits of existing Web technology.• Involved in the code review meetings.Environment: Python, MySQL, ORACLE, HTML5, CSS3, JavaScript, Shell, Linux & Windows, Django, Python.EducationBachelor's SkillsPYTHON (5 years), SQL (5 years), Hadoop (4 years), HADOOP (4 years), LINUX (3 years)Additional InformationTECHNICAL SKILLS:Languages: Java 8, Python, RPackages: ggplot2, caret, dplyr, Rweka, gmodels, RCurl, tm, C50, twitteR, NLP, Reshape2, rjson, plyr, pandas, numPy, seaborn, sciPy, matplot lib, scikit-learn, Beautiful Soup, Rpy2.Web Technologies: JDBC, HTML5, DHTML and XML, CSS3, Web Services, WSDLData Modelling Tools: Erwin r 9.6, 9.5, 9.1, 8.x, Rational Rose, ER/Studio, MS Visio, SAP Power designer.Big Data Technologies: Hadoop, Hive, HDFS, MapReduce, Pig, Kafka.Databases: SQL, Hive, Impala, Pig, Spark SQL, Databases SQL-Server, My SQL, MS Access, HDFS, HBase, Teradata, Netezza, MongoDB, Cassandra.Reporting Tools: MS Office (Word/Excel/Power Point/ Visio), Tableau, Crystal reports XI, Business Intelligence, SSRS, Business Objects 5.x/ 6.x, Cognos7.0/6.0.ETL Tools: Informatica Power Centre, SSIS.Version Control Tools: SVM, GitHub.Project Execution Methodologies: Ralph Kimball and Bill Inmon data warehousing methodology, Rational Unified Process (RUP), Rapid Application Development (RAD), Joint Application Development (JAD)BI Tools: Tableau, Tableau server, Tableau Reader, SAP Business Objects, OBIEE, Qlikview, SAP Business Intelligence, Amazon Redshift, or Azure Data WarehouseOperating System: Windows, Linux, UNIX, Macintosh HD, Red Hat.\""
      ]
     },
     "execution_count": 75,
     "metadata": {},
     "output_type": "execute_result"
    }
   ],
   "source": [
    "body[0].get_text()"
   ]
  },
  {
   "cell_type": "markdown",
   "metadata": {},
   "source": [
    "## Scrape for body 2"
   ]
  },
  {
   "cell_type": "code",
   "execution_count": 57,
   "metadata": {},
   "outputs": [],
   "source": [
    "results = soup.find_all('div', attrs={\"class\":\"rezemp-ResumeDisplaySection\"})"
   ]
  },
  {
   "cell_type": "code",
   "execution_count": 76,
   "metadata": {},
   "outputs": [],
   "source": [
    "jobs=results[0]\n",
    "job_descriptions = jobs.find_all(class_=None)"
   ]
  },
  {
   "cell_type": "code",
   "execution_count": 89,
   "metadata": {},
   "outputs": [
    {
     "data": {
      "text/plain": [
       "<br/>"
      ]
     },
     "execution_count": 89,
     "metadata": {},
     "output_type": "execute_result"
    }
   ],
   "source": [
    "job_descriptions[6]"
   ]
  },
  {
   "cell_type": "code",
   "execution_count": 67,
   "metadata": {},
   "outputs": [
    {
     "data": {
      "text/plain": [
       "'Weill Cornell Medicine - New York, NY'"
      ]
     },
     "execution_count": 67,
     "metadata": {},
     "output_type": "execute_result"
    }
   ],
   "source": [
    "job_descriptions[0].get_text()"
   ]
  },
  {
   "cell_type": "code",
   "execution_count": 65,
   "metadata": {},
   "outputs": [
    {
     "data": {
      "text/plain": [
       "['Weill Cornell Medicine', 'New York, NY']"
      ]
     },
     "execution_count": 65,
     "metadata": {},
     "output_type": "execute_result"
    }
   ],
   "source": [
    "desc"
   ]
  },
  {
   "cell_type": "markdown",
   "metadata": {},
   "source": [
    "## Test Zafrin code for job descriptions"
   ]
  },
  {
   "cell_type": "code",
   "execution_count": 90,
   "metadata": {},
   "outputs": [],
   "source": [
    "work_experience = results[0]\n",
    "# print('WORK:\\n', work_experience, '\\n')\n",
    "\n",
    "# Get the job Description\n",
    "elements = list()\n",
    "for elm in work_experience.find_all(class_=None):\n",
    "    if not str(elm).startswith('<br'):\n",
    "        elements.append(elm)\n",
    "\n",
    "job_descriptions = list()\n",
    "for i, elm in enumerate(elements):\n",
    "    if (i+1)%4==0:\n",
    "        job_descriptions.append(elm.get_text())\n"
   ]
  },
  {
   "cell_type": "code",
   "execution_count": 105,
   "metadata": {},
   "outputs": [
    {
     "data": {
      "text/plain": [
       "[<span>Data Scientist</span>,\n",
       " <span>Weill Cornell Medicine</span>,\n",
       " <span>New York, NY</span>,\n",
       " <div>Responsibilities:<br/>• Performed Data Profiling to learn about behavior with various features such as traffic pattern, location, and time, Date and Time etc.<br/>• Application of various machine learning algorithms and statistical modeling like decision trees, regression models, neural networks, SVM, clustering to identify Volume using scikit-learn package in python, Matlab.<br/>• Utilized Spark, Scala, Hadoop, HBase, Cassandra, MongoDB, Kafka, Spark Streaming, MLLib, Python, a broad variety of machine learning methods including classifications, regressions, dimensionally reduction etc. and Utilized the engine to increase user lifetime by 45% and triple user conversations for target categories.<br/>• Developed Spark/Scala, Python for regular expression (regex) project in the Hadoop/Hive environment with Linux/Windows for big data resources. Used clustering technique K-Means to identify outliers and to classify unlabeled data.<br/>• Evaluated models using Cross Validation, Log loss function, ROC curves and used AUC for feature selection.<br/>• Analyze traffic patterns by calculating autocorrelation with different time lags.<br/>• Ensured that the model has low False Positive Rate.<br/>• Addressed over fitting by implementing of the algorithm regularization methods like L2 and L1.<br/>• Used Principal Component Analysis in feature engineering to analyze high dimensional data.<br/>• Created and designed reports that will use gathered metrics to infer and draw logical conclusions of past and future behavior.<br/>• Performed Multinomial Logistic Regression, Random forest, Decision Tree, SVM to classify package is going to deliver on time for the new route.<br/>• Performed data analysis by using Hive to retrieve the data from Hadoop cluster, Sql to retrieve data from Oracle database.<br/>• Used MLlib, Spark's Machine learning library to build and evaluate different models.<br/>• Implemented rule based expertise system from the results of exploratory analysis and information gathered from the people from different departments.<br/>• Performed Data Cleaning, features scaling, features engineering using pandas and numpy packages in python.<br/>• Developed MapReduce pipeline for feature extraction using Hive.<br/>• Created Data Quality Scripts using SQL and Hive to validate successful data load and quality of the data. Created various types of data visualizations using Python and Tableau.<br/>• Communicated the results with operations team for taking best decisions.<br/>• Collected data needs and requirements by Interacting with the other departments.<br/>Environment: Python 2.x, CDH5, HDFS, Hadoop 2.3, Hive, Impala, Linux, Spark, Tableau Desktop, SQL Server 2012, Microsoft Excel, Matlab, Spark SQL, Pyspark.</div>,\n",
       " <br/>,\n",
       " <br/>,\n",
       " <br/>,\n",
       " <br/>,\n",
       " <br/>,\n",
       " <br/>,\n",
       " <br/>,\n",
       " <br/>,\n",
       " <br/>,\n",
       " <br/>,\n",
       " <br/>,\n",
       " <br/>,\n",
       " <br/>,\n",
       " <br/>,\n",
       " <br/>,\n",
       " <br/>,\n",
       " <br/>,\n",
       " <br/>,\n",
       " <br/>,\n",
       " <br/>,\n",
       " <span>Data Scientist</span>,\n",
       " <span>Retail Me Not</span>,\n",
       " <span>Austin, TX</span>,\n",
       " <div>Responsibilities:<br/>• Provided Configuration Management and Build support for more than 5 different applications, built and deployed to the production and lower environments.<br/>• Implemented public segmentation using unsupervised machine learning algorithms by implementing k-means algorithm using Pyspark.<br/>• Explored and Extracted data from source XML in HDFS, preparing data for exploratory analysis using data munging.<br/>• Responsible for different Data mapping activities from Source systems to Teradata<br/>• Handled importing data from various data sources, performed transformations using Hive, Map Reduce, and loaded data into HDFS<br/>• Used R and python for Exploratory Data Analysis, A/B testing, Anova test and Hypothesis test to compare and identify the effectiveness of Creative Campaigns.<br/>• Created clusters to classify Control and test groups and conducted group campaigns.<br/>• Analyzed and calculated the lifetime cost of everyone in the welfare system using 20 years of historical data.<br/>• Developed LINUX Shell scripts by using NZSQL/NZLOAD utilities to load data from flat files to Netezza database.<br/>• Developed triggers, stored procedures, functions and packages using cursors and ref cursor concepts associated with the project using Pl/SQL<br/>• Created various types of data visualizations using R, python and Tableau.<br/>• Used Python, R, SQL to create Statistical algorithms involving Multivariate Regression, Linear Regression, Logistic Regression, PCA, Random forest models, Decision trees, Support Vector Machine for estimating the risks of welfare dependency.<br/>• Identified and targeted welfare high-risk groups with Machine learning algorithms.<br/>• Conducted campaigns and run real-time trials to determine what works fast and track the impact of different initiatives.<br/>• Developed Tableau visualizations and dashboards using Tableau Desktop.<br/>• Used Graphical Entity-Relationship Diagramming to create new database design via easy to use, graphical interface.<br/>• Created multiple custom SQL queries in Teradata SQL Workbench to prepare the right data sets for Tableau dashboards<br/>• Perform analyses such as regression analysis, logistic regression, discriminant analysis, cluster analysis using SAS programming.<br/>• Used Meta data tool for importing metadata from repository, new job categories and creating new data elements.<br/>• Scheduled the task for weekly updates and running the model in workflow. Automated the entire process flow in generating the analysis and reports.<br/>Environment: R 3.x, HDFS, Hadoop 2.3, Pig, Hive, Linux, R-Studio, Tableau 10, SQL Server, MS Excel, Pypark.</div>,\n",
       " <br/>,\n",
       " <br/>,\n",
       " <br/>,\n",
       " <br/>,\n",
       " <br/>,\n",
       " <br/>,\n",
       " <br/>,\n",
       " <br/>,\n",
       " <br/>,\n",
       " <br/>,\n",
       " <br/>,\n",
       " <br/>,\n",
       " <br/>,\n",
       " <br/>,\n",
       " <br/>,\n",
       " <br/>,\n",
       " <br/>,\n",
       " <br/>,\n",
       " <br/>,\n",
       " <br/>,\n",
       " <br/>,\n",
       " <span>Data Scientist</span>,\n",
       " <span>Walmart</span>,\n",
       " <span>Bentonville, AR</span>,\n",
       " <div>Responsibilities:<br/>• Involved in Design, Development and Support phases of Software Development Life Cycle (SDLC)<br/>• Performed data ETL by collecting, exporting, merging and massaging data from multiple sources and platforms including SSIS (SQL Server Integration Services) in SQL Server.<br/>• Worked with cross-functional teams (including data engineer team) to extract data and rapidly execute from MongoDB through MongoDB connector for Hadoop.<br/>• Performed data cleaning and feature selection using MLlib package in PySpark.<br/>• Performed partitional clustering into 100 by k-means clustering using Scikit-learn package in Python where similar hotels for a search are grouped together.<br/>• Used Python to perform ANOVA test to analyze the differences among hotel clusters.<br/>• Implemented application of various machine learning algorithms and statistical modeling like Decision Tree, Naive Bayes, Logistic Regression and Linear Regression using Python to determine the accuracy rate of each model.<br/>• Determined the most accurately prediction model based on the accuracy rate.<br/>• Used text-mining process of reviews to determine customers' concentrations.<br/>• Delivered analysis support to hotel recommendation and providing an online A/B test.<br/>• Designed Tableau bar graphs, scattered plots, and geographical maps to create detailed level summary reports and dashboards.<br/>• Developed hybrid model to improve the accuracy rate.<br/>• Delivered the results to operation team for better decisions and feedbacks.<br/>Environment: Python, PySpark, Tableau, MongoDB, Hadoop, SQL Server, SDLC, ETL, SSIS, recommendation systems, Machine Learning Algorithms, text-mining process, A/B test.</div>,\n",
       " <br/>,\n",
       " <br/>,\n",
       " <br/>,\n",
       " <br/>,\n",
       " <br/>,\n",
       " <br/>,\n",
       " <br/>,\n",
       " <br/>,\n",
       " <br/>,\n",
       " <br/>,\n",
       " <br/>,\n",
       " <br/>,\n",
       " <br/>,\n",
       " <br/>,\n",
       " <span>Data Scientist</span>,\n",
       " <span>Sigma Space Corp</span>,\n",
       " <span></span>,\n",
       " <div>Responsibilities:<br/>• Participated in all phases of research including data collection, data cleaning, data mining, developing models and visualizations.<br/>• Collaborated with data engineers and operation team to collect data from internal system to fit the analytical requirements.<br/>• Redefined many attributes and relationships and cleansed unwanted tables/columns using SQL queries.<br/>• Utilized Spark SQL API in PySpark to extract and load data and perform SQL queries.<br/>• Performed data imputation using Scikit-learn package in Python.<br/>• Performed data processing using Python libraries like Numpy and Pandas.<br/>• Worked with data analysis using ggplot2 library in R to do data visualizations for better understanding of customers' behaviors.<br/>• Visually plotted data using Tableau for dashboards and reports.<br/>• Implemented statistical modeling with XGBoost machine learning software package using R to determine the predicted probabilities of each model.<br/>• Delivered the results with operation team for better decisions.<br/>Environment: Python, R, SQL, Tableau, Spark, Machine Learning Software Package, recommendation systems.</div>,\n",
       " <br/>,\n",
       " <br/>,\n",
       " <br/>,\n",
       " <br/>,\n",
       " <br/>,\n",
       " <br/>,\n",
       " <br/>,\n",
       " <br/>,\n",
       " <br/>,\n",
       " <br/>,\n",
       " <br/>,\n",
       " <span>Python Developer</span>,\n",
       " <span>Accenture</span>,\n",
       " <span></span>,\n",
       " <div>Responsibilities:<br/>• Developed entire frontend and backend modules using Python on Django Web Framework.<br/>• Implemented the presentation layer with HTML, CSS and JavaScript.<br/>• Involved in writing stored procedures using Oracle.<br/>• Optimized the database queries to improve the performance.<br/>• Designed and developed data management system using Oracle.<br/>• Effectively communicated with the stakeholders to gather requirements for different projects<br/>• Used MySQL db package and Python-MySQL connector for writing and executing several MYSQL database queries from Python.<br/>• Created functions, triggers, views and stored procedures using My SQL.<br/>• Worked closely with back-end developer to find ways to push the limits of existing Web technology.<br/>• Involved in the code review meetings.<br/>Environment: Python, MySQL, ORACLE, HTML5, CSS3, JavaScript, Shell, Linux &amp; Windows, Django, Python.</div>,\n",
       " <br/>,\n",
       " <br/>,\n",
       " <br/>,\n",
       " <br/>,\n",
       " <br/>,\n",
       " <br/>,\n",
       " <br/>,\n",
       " <br/>,\n",
       " <br/>,\n",
       " <br/>,\n",
       " <br/>]"
      ]
     },
     "execution_count": 105,
     "metadata": {},
     "output_type": "execute_result"
    }
   ],
   "source": [
    "work_experience.find_all(class_=None)"
   ]
  },
  {
   "cell_type": "code",
   "execution_count": 95,
   "metadata": {},
   "outputs": [
    {
     "data": {
      "text/plain": [
       "'Responsibilities:• Developed entire frontend and backend modules using Python on Django Web Framework.• Implemented the presentation layer with HTML, CSS and JavaScript.• Involved in writing stored procedures using Oracle.• Optimized the database queries to improve the performance.• Designed and developed data management system using Oracle.• Effectively communicated with the stakeholders to gather requirements for different projects• Used MySQL db package and Python-MySQL connector for writing and executing several MYSQL database queries from Python.• Created functions, triggers, views and stored procedures using My SQL.• Worked closely with back-end developer to find ways to push the limits of existing Web technology.• Involved in the code review meetings.Environment: Python, MySQL, ORACLE, HTML5, CSS3, JavaScript, Shell, Linux & Windows, Django, Python.'"
      ]
     },
     "execution_count": 95,
     "metadata": {},
     "output_type": "execute_result"
    }
   ],
   "source": [
    "job_descriptions[4]"
   ]
  },
  {
   "cell_type": "code",
   "execution_count": 103,
   "metadata": {
    "scrolled": true
   },
   "outputs": [
    {
     "data": {
      "text/plain": [
       "[<span>Data Scientist</span>,\n",
       " <span>Weill Cornell Medicine</span>,\n",
       " <span>New York, NY</span>,\n",
       " <div>Responsibilities:<br/>• Performed Data Profiling to learn about behavior with various features such as traffic pattern, location, and time, Date and Time etc.<br/>• Application of various machine learning algorithms and statistical modeling like decision trees, regression models, neural networks, SVM, clustering to identify Volume using scikit-learn package in python, Matlab.<br/>• Utilized Spark, Scala, Hadoop, HBase, Cassandra, MongoDB, Kafka, Spark Streaming, MLLib, Python, a broad variety of machine learning methods including classifications, regressions, dimensionally reduction etc. and Utilized the engine to increase user lifetime by 45% and triple user conversations for target categories.<br/>• Developed Spark/Scala, Python for regular expression (regex) project in the Hadoop/Hive environment with Linux/Windows for big data resources. Used clustering technique K-Means to identify outliers and to classify unlabeled data.<br/>• Evaluated models using Cross Validation, Log loss function, ROC curves and used AUC for feature selection.<br/>• Analyze traffic patterns by calculating autocorrelation with different time lags.<br/>• Ensured that the model has low False Positive Rate.<br/>• Addressed over fitting by implementing of the algorithm regularization methods like L2 and L1.<br/>• Used Principal Component Analysis in feature engineering to analyze high dimensional data.<br/>• Created and designed reports that will use gathered metrics to infer and draw logical conclusions of past and future behavior.<br/>• Performed Multinomial Logistic Regression, Random forest, Decision Tree, SVM to classify package is going to deliver on time for the new route.<br/>• Performed data analysis by using Hive to retrieve the data from Hadoop cluster, Sql to retrieve data from Oracle database.<br/>• Used MLlib, Spark's Machine learning library to build and evaluate different models.<br/>• Implemented rule based expertise system from the results of exploratory analysis and information gathered from the people from different departments.<br/>• Performed Data Cleaning, features scaling, features engineering using pandas and numpy packages in python.<br/>• Developed MapReduce pipeline for feature extraction using Hive.<br/>• Created Data Quality Scripts using SQL and Hive to validate successful data load and quality of the data. Created various types of data visualizations using Python and Tableau.<br/>• Communicated the results with operations team for taking best decisions.<br/>• Collected data needs and requirements by Interacting with the other departments.<br/>Environment: Python 2.x, CDH5, HDFS, Hadoop 2.3, Hive, Impala, Linux, Spark, Tableau Desktop, SQL Server 2012, Microsoft Excel, Matlab, Spark SQL, Pyspark.</div>,\n",
       " <span>Data Scientist</span>,\n",
       " <span>Retail Me Not</span>,\n",
       " <span>Austin, TX</span>,\n",
       " <div>Responsibilities:<br/>• Provided Configuration Management and Build support for more than 5 different applications, built and deployed to the production and lower environments.<br/>• Implemented public segmentation using unsupervised machine learning algorithms by implementing k-means algorithm using Pyspark.<br/>• Explored and Extracted data from source XML in HDFS, preparing data for exploratory analysis using data munging.<br/>• Responsible for different Data mapping activities from Source systems to Teradata<br/>• Handled importing data from various data sources, performed transformations using Hive, Map Reduce, and loaded data into HDFS<br/>• Used R and python for Exploratory Data Analysis, A/B testing, Anova test and Hypothesis test to compare and identify the effectiveness of Creative Campaigns.<br/>• Created clusters to classify Control and test groups and conducted group campaigns.<br/>• Analyzed and calculated the lifetime cost of everyone in the welfare system using 20 years of historical data.<br/>• Developed LINUX Shell scripts by using NZSQL/NZLOAD utilities to load data from flat files to Netezza database.<br/>• Developed triggers, stored procedures, functions and packages using cursors and ref cursor concepts associated with the project using Pl/SQL<br/>• Created various types of data visualizations using R, python and Tableau.<br/>• Used Python, R, SQL to create Statistical algorithms involving Multivariate Regression, Linear Regression, Logistic Regression, PCA, Random forest models, Decision trees, Support Vector Machine for estimating the risks of welfare dependency.<br/>• Identified and targeted welfare high-risk groups with Machine learning algorithms.<br/>• Conducted campaigns and run real-time trials to determine what works fast and track the impact of different initiatives.<br/>• Developed Tableau visualizations and dashboards using Tableau Desktop.<br/>• Used Graphical Entity-Relationship Diagramming to create new database design via easy to use, graphical interface.<br/>• Created multiple custom SQL queries in Teradata SQL Workbench to prepare the right data sets for Tableau dashboards<br/>• Perform analyses such as regression analysis, logistic regression, discriminant analysis, cluster analysis using SAS programming.<br/>• Used Meta data tool for importing metadata from repository, new job categories and creating new data elements.<br/>• Scheduled the task for weekly updates and running the model in workflow. Automated the entire process flow in generating the analysis and reports.<br/>Environment: R 3.x, HDFS, Hadoop 2.3, Pig, Hive, Linux, R-Studio, Tableau 10, SQL Server, MS Excel, Pypark.</div>,\n",
       " <span>Data Scientist</span>,\n",
       " <span>Walmart</span>,\n",
       " <span>Bentonville, AR</span>,\n",
       " <div>Responsibilities:<br/>• Involved in Design, Development and Support phases of Software Development Life Cycle (SDLC)<br/>• Performed data ETL by collecting, exporting, merging and massaging data from multiple sources and platforms including SSIS (SQL Server Integration Services) in SQL Server.<br/>• Worked with cross-functional teams (including data engineer team) to extract data and rapidly execute from MongoDB through MongoDB connector for Hadoop.<br/>• Performed data cleaning and feature selection using MLlib package in PySpark.<br/>• Performed partitional clustering into 100 by k-means clustering using Scikit-learn package in Python where similar hotels for a search are grouped together.<br/>• Used Python to perform ANOVA test to analyze the differences among hotel clusters.<br/>• Implemented application of various machine learning algorithms and statistical modeling like Decision Tree, Naive Bayes, Logistic Regression and Linear Regression using Python to determine the accuracy rate of each model.<br/>• Determined the most accurately prediction model based on the accuracy rate.<br/>• Used text-mining process of reviews to determine customers' concentrations.<br/>• Delivered analysis support to hotel recommendation and providing an online A/B test.<br/>• Designed Tableau bar graphs, scattered plots, and geographical maps to create detailed level summary reports and dashboards.<br/>• Developed hybrid model to improve the accuracy rate.<br/>• Delivered the results to operation team for better decisions and feedbacks.<br/>Environment: Python, PySpark, Tableau, MongoDB, Hadoop, SQL Server, SDLC, ETL, SSIS, recommendation systems, Machine Learning Algorithms, text-mining process, A/B test.</div>,\n",
       " <span>Data Scientist</span>,\n",
       " <span>Sigma Space Corp</span>,\n",
       " <span></span>,\n",
       " <div>Responsibilities:<br/>• Participated in all phases of research including data collection, data cleaning, data mining, developing models and visualizations.<br/>• Collaborated with data engineers and operation team to collect data from internal system to fit the analytical requirements.<br/>• Redefined many attributes and relationships and cleansed unwanted tables/columns using SQL queries.<br/>• Utilized Spark SQL API in PySpark to extract and load data and perform SQL queries.<br/>• Performed data imputation using Scikit-learn package in Python.<br/>• Performed data processing using Python libraries like Numpy and Pandas.<br/>• Worked with data analysis using ggplot2 library in R to do data visualizations for better understanding of customers' behaviors.<br/>• Visually plotted data using Tableau for dashboards and reports.<br/>• Implemented statistical modeling with XGBoost machine learning software package using R to determine the predicted probabilities of each model.<br/>• Delivered the results with operation team for better decisions.<br/>Environment: Python, R, SQL, Tableau, Spark, Machine Learning Software Package, recommendation systems.</div>,\n",
       " <span>Python Developer</span>,\n",
       " <span>Accenture</span>,\n",
       " <span></span>,\n",
       " <div>Responsibilities:<br/>• Developed entire frontend and backend modules using Python on Django Web Framework.<br/>• Implemented the presentation layer with HTML, CSS and JavaScript.<br/>• Involved in writing stored procedures using Oracle.<br/>• Optimized the database queries to improve the performance.<br/>• Designed and developed data management system using Oracle.<br/>• Effectively communicated with the stakeholders to gather requirements for different projects<br/>• Used MySQL db package and Python-MySQL connector for writing and executing several MYSQL database queries from Python.<br/>• Created functions, triggers, views and stored procedures using My SQL.<br/>• Worked closely with back-end developer to find ways to push the limits of existing Web technology.<br/>• Involved in the code review meetings.<br/>Environment: Python, MySQL, ORACLE, HTML5, CSS3, JavaScript, Shell, Linux &amp; Windows, Django, Python.</div>]"
      ]
     },
     "execution_count": 103,
     "metadata": {},
     "output_type": "execute_result"
    }
   ],
   "source": [
    "elements"
   ]
  },
  {
   "cell_type": "code",
   "execution_count": null,
   "metadata": {},
   "outputs": [],
   "source": []
  },
  {
   "cell_type": "markdown",
   "metadata": {},
   "source": [
    "## test skills"
   ]
  },
  {
   "cell_type": "code",
   "execution_count": 59,
   "metadata": {},
   "outputs": [],
   "source": [
    "with open('resume_outputDS-NY.json') as f:\n",
    "    skills=json.load(f)\n"
   ]
  },
  {
   "cell_type": "code",
   "execution_count": 63,
   "metadata": {},
   "outputs": [
    {
     "data": {
      "text/plain": [
       "'{\\n\"id\": \"6d571c45aa5ecc5b\",\\n\"jobs\": [\\n{\\n\"company\": \"CHUNG\",\\n\"hire_date\": \"January 2019 \",\\n\"location\": \"New York, NY\",\\n\"title\": \"Data Scientist\"\\n},\\n{\\n\"company\": \"Scotiabank\",\\n\"hire_date\": \"August 2015 \",\\n\"location\": \"Toronto, ON\",\\n\"title\": \"Senior Business Analyst\"\\n}\\n],\\n\"schools\": [\\n{\\n\"degree\": \"Bachelor\\'s in Mathematics Combinatorics and Optimization\",\\n\"grad_date\": \"\",\\n\"school_name\": \"University of Waterloo Waterloo, IA\"\\n},\\n{\\n\"degree\": \"M. Sc. in Mathematics\",\\n\"grad_date\": \"\",\\n\"school_name\": \"McMaster University \"\\n}\\n],\\n\"skills\": \"Skillsapplication support (3 years), Blackberry (Less than 1 year), coaching (Less than 1 year), DATA MANAGEMENT (Less than 1 year), documentation (Less than 1 year), end user support (Less than 1 year), Git (Less than 1 year), ILLUSTRATION (Less than 1 year), Illustrator (Less than 1 year), integration (Less than 1 year), integration testing (Less than 1 year), JIRA (3 years), MACHINE LEARNING (Less than 1 year), MongoDB (Less than 1 year), onboarding (Less than 1 year), Photoshop (Less than 1 year), process documentation (Less than 1 year), Risk Management (Less than 1 year), Python (Less than 1 year), SQL (Less than 1 year)\"\\n}\\n{\\n\"id\": \"086a6b812da5cedf\",\\n\"jobs\": [\\n{\\n\"company\": \"Finup\",\\n\"hire_date\": \"May 2018 \",\\n\"location\": \"Beijing\",\\n\"title\": \"Data Scientist\"\\n},\\n{\\n\"company\": \"vanke\",\\n\"hire_date\": \"June 2016 \",\\n\"location\": \"\",\\n\"title\": \"Data Scientist\"\\n}\\n],\\n\"schools\": [\\n{\\n\"degree\": \"M.S in Applied Statistics\",\\n\"grad_date\": \"August 2017 to May 2019\",\\n\"school_name\": \"Syracuse University Syracuse, NY\"\\n},\\n{\\n\"degree\": \"B.E in Civil Engineering\",\\n\"grad_date\": \"September 2013 to June 2017\",\\n\"school_name\": \"Wuhan University of Technology Wuhan, CN\"\\n}\\n],\\n\"skills\": \"SkillsR (3 years), Python (2 years), SQL (3 years), Tableau (1 year), Minitab (2 years), Excel (5 years), Big Data (Less than 1 year), Machine Learning (Less than 1 year), Data Science (Less than 1 year), SAS (1 year)\"\\n}\\n{\\n\"id\": \"cf27f3582f034474\",\\n\"jobs\": [\\n{\\n\"company\": \"ARINC\",\\n\"hire_date\": \"April 2017 \",\\n\"location\": \"Rapids, IA, US\",\\n\"title\": \"Data Scientist\"\\n},\\n{\\n\"company\": \"Blue Cross Blue Shield\",\\n\"hire_date\": \"June 2016 \",\\n\"location\": \"Eagan, MN\",\\n\"title\": \"Data Scientist\"\\n},\\n{\\n\"company\": \"L.L. Bean\",\\n\"hire_date\": \"June 2014 \",\\n\"location\": \"Freeport, ME\",\\n\"title\": \"Data Scientist\"\\n},\\n{\\n\"company\": \"AMWAY\",\\n\"hire_date\": \"April 2012 \",\\n\"location\": \"\",\\n\"title\": \"Data Analyst\"\\n},\\n{\\n\"company\": \"Infosys Ltd\",\\n\"hire_date\": \"May 2010 \",\\n\"location\": \"\",\\n\"title\": \"Data Analyst\"\\n}\\n],\\n\"schools\": [\\n{\\n\"degree\": \"Bachelor\\'s\",\\n\"grad_date\": \"\",\\n\"school_name\": \" \"\\n}\\n],\\n\"skills\": \"Skillsscikit-image, OpenCV, scipy, pycario and simpleITK to extract text and background. \\\\u2022\\\\tWorked with pytesseract and several scikit-image sub packages like regionprops, label, clear_border, threshold_otsu and hog others. (8 years)\"\\n}\\n{\\n\"id\": \"a4a400a793303693\",\\n\"jobs\": [\\n{\\n\"company\": \"IINSTICATOR INC\",\\n\"hire_date\": \"September 2017 \",\\n\"location\": \"New York, NY\",\\n\"title\": \"Data Analyst & Data Scientist(ML)\"\\n},\\n{\\n\"company\": \"OTools\",\\n\"hire_date\": \"March 2017 \",\\n\"location\": \"\",\\n\"title\": \"Computer & Data Science Consultant/Dev\"\\n},\\n{\\n\"company\": \"SAMASTA HEALTH FOUNDATION\",\\n\"hire_date\": \"December 2015 \",\\n\"location\": \"New York, NY\",\\n\"title\": \"ML Consultant/Tech Lead Developer\"\\n},\\n{\\n\"company\": \"MTools\",\\n\"hire_date\": \"March 2014 \",\\n\"location\": \"\",\\n\"title\": \"Full-stack Software Eng./Developer\"\\n},\\n{\\n\"company\": \"MTools\",\\n\"hire_date\": \"August 2014 \",\\n\"location\": \"\",\\n\"title\": \"Software Engineer\"\\n},\\n{\\n\"company\": \"TIBURON LOCKERS INC\",\\n\"hire_date\": \"Oc\",\\n\"location\": \"Rockleigh, NJ\",\\n\"title\": \"Computer Application Engineer\"\\n},\\n{\\n\"company\": \"MTools\",\\n\"hire_date\": \"May 2011 \",\\n\"location\": \"\",\\n\"title\": \"Computer/Electrical Engineer\"\\n},\\n{\\n\"company\": \"MTools\",\\n\"hire_date\": \"August 2004 \",\\n\"location\": \"\",\\n\"title\": \"Computer Tech. & Office Assistant\"\\n}\\n],\\n\"schools\": [\\n{\\n\"degree\": \"Master\\'s\",\\n\"grad_date\": \"\",\\n\"school_name\": \" \"\\n}\\n],\\n\"skills\": \"SkillsJava (5 years), Json (4 years), MongoDB (2 years), Networking (9 years), Python (2 years), SQL (Less than 1 year), access (Less than 1 year), Business Intelligence (Less than 1 year), testing (Less than 1 year), Excel (Less than 1 year)\"\\n}'"
      ]
     },
     "execution_count": 63,
     "metadata": {},
     "output_type": "execute_result"
    }
   ],
   "source": [
    "skills"
   ]
  },
  {
   "cell_type": "code",
   "execution_count": 53,
   "metadata": {},
   "outputs": [
    {
     "ename": "SyntaxError",
     "evalue": "invalid syntax (<unknown>, line 31)",
     "output_type": "error",
     "traceback": [
      "Traceback \u001b[1;36m(most recent call last)\u001b[0m:\n",
      "  File \u001b[0;32m\"C:\\Users\\mhichar\\AppData\\Local\\Continuum\\anaconda3\\lib\\site-packages\\IPython\\core\\interactiveshell.py\"\u001b[0m, line \u001b[0;32m3267\u001b[0m, in \u001b[0;35mrun_code\u001b[0m\n    exec(code_obj, self.user_global_ns, self.user_ns)\n",
      "  File \u001b[0;32m\"<ipython-input-53-ae60c0d95282>\"\u001b[0m, line \u001b[0;32m1\u001b[0m, in \u001b[0;35m<module>\u001b[0m\n    skills_ast=ast.literal_eval(skills)\n",
      "  File \u001b[0;32m\"C:\\Users\\mhichar\\AppData\\Local\\Continuum\\anaconda3\\lib\\ast.py\"\u001b[0m, line \u001b[0;32m48\u001b[0m, in \u001b[0;35mliteral_eval\u001b[0m\n    node_or_string = parse(node_or_string, mode='eval')\n",
      "\u001b[1;36m  File \u001b[1;32m\"C:\\Users\\mhichar\\AppData\\Local\\Continuum\\anaconda3\\lib\\ast.py\"\u001b[1;36m, line \u001b[1;32m35\u001b[1;36m, in \u001b[1;35mparse\u001b[1;36m\u001b[0m\n\u001b[1;33m    return compile(source, filename, mode, PyCF_ONLY_AST)\u001b[0m\n",
      "\u001b[1;36m  File \u001b[1;32m\"<unknown>\"\u001b[1;36m, line \u001b[1;32m31\u001b[0m\n\u001b[1;33m    {\u001b[0m\n\u001b[1;37m    ^\u001b[0m\n\u001b[1;31mSyntaxError\u001b[0m\u001b[1;31m:\u001b[0m invalid syntax\n"
     ]
    }
   ],
   "source": [
    "skills_ast=ast.literal_eval(skills)"
   ]
  },
  {
   "cell_type": "code",
   "execution_count": 45,
   "metadata": {},
   "outputs": [
    {
     "data": {
      "text/plain": [
       "['{\\n\"id\": \"6d571c45aa5ecc5b\",\\n\"jobs\": [\\n{\\n\"company\": \"CHUNG\",\\n\"hire_date\": \"January 2019 \",\\n\"location\": \"New York, NY\",\\n\"title\": \"Data Scientist\"\\n},\\n{\\n\"company\": \"Scotiabank\",\\n\"hire_date\": \"August 2015 \",\\n\"location\": \"Toronto, ON\",\\n\"title\": \"Senior Business Analyst\"\\n}\\n],\\n\"schools\": [\\n{\\n\"degree\": \"Bachelor\\'s in Mathematics Combinatorics and Optimization\",\\n\"grad_date\": \"\",\\n\"school_name\": \"University of Waterloo Waterloo, IA\"\\n},\\n{\\n\"degree\": \"M. Sc. in Mathematics\",\\n\"grad_date\": \"\",\\n\"school_name\": \"McMaster University \"\\n}\\n],\\n\"skills\": \"Skillsapplication support (3 years), Blackberry (Less than 1 year), coaching (Less than 1 year), DATA MANAGEMENT (Less than 1 year), documentation (Less than 1 year), end user support (Less than 1 year), Git (Less than 1 year), ILLUSTRATION (Less than 1 year), Illustrator (Less than 1 year), integration (Less than 1 year), integration testing (Less than 1 year), JIRA (3 years), MACHINE LEARNING (Less than 1 year), MongoDB (Less than 1 year), onboarding (Less than 1 year), Photoshop (Less than 1 year), process documentation (Less than 1 year), Risk Management (Less than 1 year), Python (Less than 1 year), SQL (Less than 1 year)\"\\n}\\n{\\n\"id\": \"086a6b812da5cedf\",\\n\"jobs\": [\\n{\\n\"company\": \"Finup\",\\n\"hire_date\": \"May 2018 \",\\n\"location\": \"Beijing\",\\n\"title\": \"Data Scientist\"\\n},\\n{\\n\"company\": \"vanke\",\\n\"hire_date\": \"June 2016 \",\\n\"location\": \"\",\\n\"title\": \"Data Scientist\"\\n}\\n],\\n\"schools\": [\\n{\\n\"degree\": \"M.S in Applied Statistics\",\\n\"grad_date\": \"August 2017 to May 2019\",\\n\"school_name\": \"Syracuse University Syracuse, NY\"\\n},\\n{\\n\"degree\": \"B.E in Civil Engineering\",\\n\"grad_date\": \"September 2013 to June 2017\",\\n\"school_name\": \"Wuhan University of Technology Wuhan, CN\"\\n}\\n],\\n\"skills\": \"SkillsR (3 years), Python (2 years), SQL (3 years), Tableau (1 year), Minitab (2 years), Excel (5 years), Big Data (Less than 1 year), Machine Learning (Less than 1 year), Data Science (Less than 1 year), SAS (1 year)\"\\n}\\n{\\n\"id\": \"cf27f3582f034474\",\\n\"jobs\": [\\n{\\n\"company\": \"ARINC\",\\n\"hire_date\": \"April 2017 \",\\n\"location\": \"Rapids, IA, US\",\\n\"title\": \"Data Scientist\"\\n},\\n{\\n\"company\": \"Blue Cross Blue Shield\",\\n\"hire_date\": \"June 2016 \",\\n\"location\": \"Eagan, MN\",\\n\"title\": \"Data Scientist\"\\n},\\n{\\n\"company\": \"L.L. Bean\",\\n\"hire_date\": \"June 2014 \",\\n\"location\": \"Freeport, ME\",\\n\"title\": \"Data Scientist\"\\n},\\n{\\n\"company\": \"AMWAY\",\\n\"hire_date\": \"April 2012 \",\\n\"location\": \"\",\\n\"title\": \"Data Analyst\"\\n},\\n{\\n\"company\": \"Infosys Ltd\",\\n\"hire_date\": \"May 2010 \",\\n\"location\": \"\",\\n\"title\": \"Data Analyst\"\\n}\\n],\\n\"schools\": [\\n{\\n\"degree\": \"Bachelor\\'s\",\\n\"grad_date\": \"\",\\n\"school_name\": \" \"\\n}\\n],\\n\"skills\": \"Skillsscikit-image, OpenCV, scipy, pycario and simpleITK to extract text and background. \\\\u2022\\\\tWorked with pytesseract and several scikit-image sub packages like regionprops, label, clear_border, threshold_otsu and hog others. (8 years)\"\\n}\\n{\\n\"id\": \"a4a400a793303693\",\\n\"jobs\": [\\n{\\n\"company\": \"IINSTICATOR INC\",\\n\"hire_date\": \"September 2017 \",\\n\"location\": \"New York, NY\",\\n\"title\": \"Data Analyst & Data Scientist(ML)\"\\n},\\n{\\n\"company\": \"OTools\",\\n\"hire_date\": \"March 2017 \",\\n\"location\": \"\",\\n\"title\": \"Computer & Data Science Consultant/Dev\"\\n},\\n{\\n\"company\": \"SAMASTA HEALTH FOUNDATION\",\\n\"hire_date\": \"December 2015 \",\\n\"location\": \"New York, NY\",\\n\"title\": \"ML Consultant/Tech Lead Developer\"\\n},\\n{\\n\"company\": \"MTools\",\\n\"hire_date\": \"March 2014 \",\\n\"location\": \"\",\\n\"title\": \"Full-stack Software Eng./Developer\"\\n},\\n{\\n\"company\": \"MTools\",\\n\"hire_date\": \"August 2014 \",\\n\"location\": \"\",\\n\"title\": \"Software Engineer\"\\n},\\n{\\n\"company\": \"TIBURON LOCKERS INC\",\\n\"hire_date\": \"Oc\",\\n\"location\": \"Rockleigh, NJ\",\\n\"title\": \"Computer Application Engineer\"\\n},\\n{\\n\"company\": \"MTools\",\\n\"hire_date\": \"May 2011 \",\\n\"location\": \"\",\\n\"title\": \"Computer/Electrical Engineer\"\\n},\\n{\\n\"company\": \"MTools\",\\n\"hire_date\": \"August 2004 \",\\n\"location\": \"\",\\n\"title\": \"Computer Tech. & Office Assistant\"\\n}\\n],\\n\"schools\": [\\n{\\n\"degree\": \"Master\\'s\",\\n\"grad_date\": \"\",\\n\"school_name\": \" \"\\n}\\n],\\n\"skills\": \"SkillsJava (5 years), Json (4 years), MongoDB (2 years), Networking (9 years), Python (2 years), SQL (Less than 1 year), access (Less than 1 year), Business Intelligence (Less than 1 year), testing (Less than 1 year), Excel (Less than 1 year)\"\\n}']"
      ]
     },
     "execution_count": 45,
     "metadata": {},
     "output_type": "execute_result"
    }
   ],
   "source": [
    "data"
   ]
  },
  {
   "cell_type": "code",
   "execution_count": 46,
   "metadata": {},
   "outputs": [
    {
     "data": {
      "text/plain": [
       "'{\\n\"id\": \"6d571c45aa5ecc5b\",\\n\"jobs\": [\\n{\\n\"company\": \"CHUNG\",\\n\"hire_date\": \"January 2019 \",\\n\"location\": \"New York, NY\",\\n\"title\": \"Data Scientist\"\\n},\\n{\\n\"company\": \"Scotiabank\",\\n\"hire_date\": \"August 2015 \",\\n\"location\": \"Toronto, ON\",\\n\"title\": \"Senior Business Analyst\"\\n}\\n],\\n\"schools\": [\\n{\\n\"degree\": \"Bachelor\\'s in Mathematics Combinatorics and Optimization\",\\n\"grad_date\": \"\",\\n\"school_name\": \"University of Waterloo Waterloo, IA\"\\n},\\n{\\n\"degree\": \"M. Sc. in Mathematics\",\\n\"grad_date\": \"\",\\n\"school_name\": \"McMaster University \"\\n}\\n],\\n\"skills\": \"Skillsapplication support (3 years), Blackberry (Less than 1 year), coaching (Less than 1 year), DATA MANAGEMENT (Less than 1 year), documentation (Less than 1 year), end user support (Less than 1 year), Git (Less than 1 year), ILLUSTRATION (Less than 1 year), Illustrator (Less than 1 year), integration (Less than 1 year), integration testing (Less than 1 year), JIRA (3 years), MACHINE LEARNING (Less than 1 year), MongoDB (Less than 1 year), onboarding (Less than 1 year), Photoshop (Less than 1 year), process documentation (Less than 1 year), Risk Management (Less than 1 year), Python (Less than 1 year), SQL (Less than 1 year)\"\\n}\\n{\\n\"id\": \"086a6b812da5cedf\",\\n\"jobs\": [\\n{\\n\"company\": \"Finup\",\\n\"hire_date\": \"May 2018 \",\\n\"location\": \"Beijing\",\\n\"title\": \"Data Scientist\"\\n},\\n{\\n\"company\": \"vanke\",\\n\"hire_date\": \"June 2016 \",\\n\"location\": \"\",\\n\"title\": \"Data Scientist\"\\n}\\n],\\n\"schools\": [\\n{\\n\"degree\": \"M.S in Applied Statistics\",\\n\"grad_date\": \"August 2017 to May 2019\",\\n\"school_name\": \"Syracuse University Syracuse, NY\"\\n},\\n{\\n\"degree\": \"B.E in Civil Engineering\",\\n\"grad_date\": \"September 2013 to June 2017\",\\n\"school_name\": \"Wuhan University of Technology Wuhan, CN\"\\n}\\n],\\n\"skills\": \"SkillsR (3 years), Python (2 years), SQL (3 years), Tableau (1 year), Minitab (2 years), Excel (5 years), Big Data (Less than 1 year), Machine Learning (Less than 1 year), Data Science (Less than 1 year), SAS (1 year)\"\\n}\\n{\\n\"id\": \"cf27f3582f034474\",\\n\"jobs\": [\\n{\\n\"company\": \"ARINC\",\\n\"hire_date\": \"April 2017 \",\\n\"location\": \"Rapids, IA, US\",\\n\"title\": \"Data Scientist\"\\n},\\n{\\n\"company\": \"Blue Cross Blue Shield\",\\n\"hire_date\": \"June 2016 \",\\n\"location\": \"Eagan, MN\",\\n\"title\": \"Data Scientist\"\\n},\\n{\\n\"company\": \"L.L. Bean\",\\n\"hire_date\": \"June 2014 \",\\n\"location\": \"Freeport, ME\",\\n\"title\": \"Data Scientist\"\\n},\\n{\\n\"company\": \"AMWAY\",\\n\"hire_date\": \"April 2012 \",\\n\"location\": \"\",\\n\"title\": \"Data Analyst\"\\n},\\n{\\n\"company\": \"Infosys Ltd\",\\n\"hire_date\": \"May 2010 \",\\n\"location\": \"\",\\n\"title\": \"Data Analyst\"\\n}\\n],\\n\"schools\": [\\n{\\n\"degree\": \"Bachelor\\'s\",\\n\"grad_date\": \"\",\\n\"school_name\": \" \"\\n}\\n],\\n\"skills\": \"Skillsscikit-image, OpenCV, scipy, pycario and simpleITK to extract text and background. \\\\u2022\\\\tWorked with pytesseract and several scikit-image sub packages like regionprops, label, clear_border, threshold_otsu and hog others. (8 years)\"\\n}\\n{\\n\"id\": \"a4a400a793303693\",\\n\"jobs\": [\\n{\\n\"company\": \"IINSTICATOR INC\",\\n\"hire_date\": \"September 2017 \",\\n\"location\": \"New York, NY\",\\n\"title\": \"Data Analyst & Data Scientist(ML)\"\\n},\\n{\\n\"company\": \"OTools\",\\n\"hire_date\": \"March 2017 \",\\n\"location\": \"\",\\n\"title\": \"Computer & Data Science Consultant/Dev\"\\n},\\n{\\n\"company\": \"SAMASTA HEALTH FOUNDATION\",\\n\"hire_date\": \"December 2015 \",\\n\"location\": \"New York, NY\",\\n\"title\": \"ML Consultant/Tech Lead Developer\"\\n},\\n{\\n\"company\": \"MTools\",\\n\"hire_date\": \"March 2014 \",\\n\"location\": \"\",\\n\"title\": \"Full-stack Software Eng./Developer\"\\n},\\n{\\n\"company\": \"MTools\",\\n\"hire_date\": \"August 2014 \",\\n\"location\": \"\",\\n\"title\": \"Software Engineer\"\\n},\\n{\\n\"company\": \"TIBURON LOCKERS INC\",\\n\"hire_date\": \"Oc\",\\n\"location\": \"Rockleigh, NJ\",\\n\"title\": \"Computer Application Engineer\"\\n},\\n{\\n\"company\": \"MTools\",\\n\"hire_date\": \"May 2011 \",\\n\"location\": \"\",\\n\"title\": \"Computer/Electrical Engineer\"\\n},\\n{\\n\"company\": \"MTools\",\\n\"hire_date\": \"August 2004 \",\\n\"location\": \"\",\\n\"title\": \"Computer Tech. & Office Assistant\"\\n}\\n],\\n\"schools\": [\\n{\\n\"degree\": \"Master\\'s\",\\n\"grad_date\": \"\",\\n\"school_name\": \" \"\\n}\\n],\\n\"skills\": \"SkillsJava (5 years), Json (4 years), MongoDB (2 years), Networking (9 years), Python (2 years), SQL (Less than 1 year), access (Less than 1 year), Business Intelligence (Less than 1 year), testing (Less than 1 year), Excel (Less than 1 year)\"\\n}'"
      ]
     },
     "execution_count": 46,
     "metadata": {},
     "output_type": "execute_result"
    }
   ],
   "source": [
    "data[0]"
   ]
  },
  {
   "cell_type": "code",
   "execution_count": 48,
   "metadata": {},
   "outputs": [
    {
     "data": {
      "text/plain": [
       "'{'"
      ]
     },
     "execution_count": 48,
     "metadata": {},
     "output_type": "execute_result"
    }
   ],
   "source": []
  },
  {
   "cell_type": "code",
   "execution_count": null,
   "metadata": {},
   "outputs": [],
   "source": []
  }
 ],
 "metadata": {
  "kernelspec": {
   "display_name": "Python 3",
   "language": "python",
   "name": "python3"
  },
  "language_info": {
   "codemirror_mode": {
    "name": "ipython",
    "version": 3
   },
   "file_extension": ".py",
   "mimetype": "text/x-python",
   "name": "python",
   "nbconvert_exporter": "python",
   "pygments_lexer": "ipython3",
   "version": "3.6.6"
  }
 },
 "nbformat": 4,
 "nbformat_minor": 2
}
